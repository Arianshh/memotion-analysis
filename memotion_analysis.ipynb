{
 "cells": [
  {
   "cell_type": "code",
   "execution_count": 0,
   "metadata": {
    "colab": {},
    "colab_type": "code",
    "id": "CcR_JwmtVDml"
   },
   "outputs": [],
   "source": [
    "import pandas as pd"
   ]
  },
  {
   "cell_type": "code",
   "execution_count": 0,
   "metadata": {
    "colab": {},
    "colab_type": "code",
    "id": "OZB6BBbpVQ9j"
   },
   "outputs": [],
   "source": [
    "train_dataframe = pd.read_csv('/content/train.csv')\n",
    "del train_dataframe['OCR_extracted_text']\n",
    "del train_dataframe['index']\n",
    "train_dataframe"
   ]
  },
  {
   "cell_type": "code",
   "execution_count": 0,
   "metadata": {
    "colab": {},
    "colab_type": "code",
    "id": "-4d9ZbapYMaj"
   },
   "outputs": [],
   "source": [
    "!mkdir dataset\n",
    "%cd 'dataset'\n",
    "!mkdir train\n",
    "%cd 'train'\n",
    "!mkdir positive\n",
    "!mkdir negative\n",
    "!mkdir neutral"
   ]
  },
  {
   "cell_type": "code",
   "execution_count": 0,
   "metadata": {
    "colab": {},
    "colab_type": "code",
    "id": "JA982ippzyyS"
   },
   "outputs": [],
   "source": [
    "import urllib\n",
    "\n",
    "\n",
    "opener=urllib.request.build_opener()\n",
    "opener.addheaders=[('User-Agent','Mozilla/5.0 (Windows NT 6.1; WOW64) AppleWebKit/537.36 (KHTML, like Gecko) Chrome/36.0.1941.0 Safari/537.36')]\n",
    "urllib.request.install_opener(opener)\n"
   ]
  },
  {
   "cell_type": "markdown",
   "metadata": {
    "colab_type": "text",
    "id": "hYpHBhoOVmbS"
   },
   "source": [
    "**Data Extraction**\n",
    "Images will be downloaded and saved in folders based in their overall sentiments.\n",
    "\n",
    "\n"
   ]
  },
  {
   "cell_type": "code",
   "execution_count": 0,
   "metadata": {
    "colab": {},
    "colab_type": "code",
    "id": "8wuH7s_XVqOh"
   },
   "outputs": [],
   "source": [
    "from os.path import join\n",
    "import os\n",
    "\n",
    "TRAIN_BASE_PATH = '/content/dataset/train/'\n",
    "negatives = ['negative', 'very_nagetive']\n",
    "positives = ['positve', 'very_positive']\n",
    "negative_memes, positive_memes, neutral_memes = [], [], []\n",
    "could_not_be_downloaded = 0\n",
    "\n",
    "for index, row in train_dataframe.iterrows():\n",
    "    url = row['Image_URL']\n",
    "    file_name = row['Image_name']\n",
    "    filepath = TRAIN_BASE_PATH + 'negative/' if row['Overall_Sentiment'] in negatives \\\n",
    "      else TRAIN_BASE_PATH + 'positive/' if row['Overall_Sentiment'] in positives \\\n",
    "      else TRAIN_BASE_PATH + 'neutral/'\n",
    "    filepath = join(filepath, file_name)\n",
    "\n",
    "    try:\n",
    "    urllib.request.urlretrieve(url, filepath)\n",
    "\n",
    "    if row['Overall_Sentiment'] in negatives:\n",
    "        negative_memes += [{'text': row['corrected_text'], 'filepath': filepath, 'humour': row['Humour'],\n",
    "                        'sarcasm': row['Sarcasm'], 'offensive': row['offensive'],\n",
    "                        'motivational': row['Motivational']}]\n",
    "\n",
    "    elif row['Overall_Sentiment'] in positives:\n",
    "        positive_memes += [{'text': row['corrected_text'], 'filepath': filepath, 'humour': row['Humour'],\n",
    "                        'sarcasm': row['Sarcasm'], 'offensive': row['offensive'],\n",
    "                        'motivational': row['Motivational']}]\n",
    "    else:\n",
    "        neutral_memes += [{'text': row['corrected_text'], 'filepath': filepath, 'humour': row['Humour'],\n",
    "                        'sarcasm': row['Sarcasm'], 'offensive': row['offensive'],\n",
    "                        'motivational': row['Motivational']}]\n",
    "\n",
    "    except Exception as e:\n",
    "    print(e)\n",
    "    print('url:{}'.format(url))\n",
    "    could_not_be_downloaded = could_not_be_downloaded + 1"
   ]
  }
 ],
 "metadata": {
  "colab": {
   "collapsed_sections": [],
   "name": "memotion_analysis.ipynb",
   "provenance": []
  },
  "kernelspec": {
   "display_name": "Python 3",
   "language": "python",
   "name": "python3"
  },
  "language_info": {
   "codemirror_mode": {
    "name": "ipython",
    "version": 3
   },
   "file_extension": ".py",
   "mimetype": "text/x-python",
   "name": "python",
   "nbconvert_exporter": "python",
   "pygments_lexer": "ipython3",
   "version": "3.6.8"
  }
 },
 "nbformat": 4,
 "nbformat_minor": 1
}
