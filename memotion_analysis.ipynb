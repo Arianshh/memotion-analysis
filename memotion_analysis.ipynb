{
  "nbformat": 4,
  "nbformat_minor": 0,
  "metadata": {
    "colab": {
      "name": "memotion_analysis.ipynb",
      "provenance": [],
      "collapsed_sections": [],
      "toc_visible": true
    },
    "kernelspec": {
      "name": "python3",
      "display_name": "Python 3"
    },
    "accelerator": "GPU"
  },
  "cells": [
    {
      "cell_type": "code",
      "metadata": {
        "id": "CcR_JwmtVDml",
        "colab_type": "code",
        "colab": {}
      },
      "source": [
        "import pandas as pd\n",
        "import numpy as np"
      ],
      "execution_count": 0,
      "outputs": []
    },
    {
      "cell_type": "code",
      "metadata": {
        "id": "t8imyPdYUxbQ",
        "colab_type": "code",
        "outputId": "b387b107-efdf-42ff-c6c4-88cf1fa5b084",
        "colab": {
          "base_uri": "https://localhost:8080/",
          "height": 125
        }
      },
      "source": [
        "from google.colab import drive\n",
        "drive.mount('/content/gdrive', force_remount=True)\n",
        "root_dir = \"/content/gdrive/My Drive/\"\n",
        "base_dir = root_dir + 'memotion_analysis/'"
      ],
      "execution_count": 3,
      "outputs": [
        {
          "output_type": "stream",
          "text": [
            "Go to this URL in a browser: https://accounts.google.com/o/oauth2/auth?client_id=947318989803-6bn6qk8qdgf4n4g3pfee6491hc0brc4i.apps.googleusercontent.com&redirect_uri=urn%3aietf%3awg%3aoauth%3a2.0%3aoob&response_type=code&scope=email%20https%3a%2f%2fwww.googleapis.com%2fauth%2fdocs.test%20https%3a%2f%2fwww.googleapis.com%2fauth%2fdrive%20https%3a%2f%2fwww.googleapis.com%2fauth%2fdrive.photos.readonly%20https%3a%2f%2fwww.googleapis.com%2fauth%2fpeopleapi.readonly\n",
            "\n",
            "Enter your authorization code:\n",
            "··········\n",
            "Mounted at /content/gdrive\n"
          ],
          "name": "stdout"
        }
      ]
    },
    {
      "cell_type": "code",
      "metadata": {
        "id": "OZB6BBbpVQ9j",
        "colab_type": "code",
        "outputId": "4b0352b0-8c66-4b5b-f311-97bf31b985a3",
        "colab": {
          "base_uri": "https://localhost:8080/",
          "height": 884
        }
      },
      "source": [
        "train_dataframe = pd.read_csv('/content/train.csv')\n",
        "del train_dataframe['OCR_extracted_text']\n",
        "train_dataframe"
      ],
      "execution_count": 0,
      "outputs": [
        {
          "output_type": "execute_result",
          "data": {
            "text/html": [
              "<div>\n",
              "<style scoped>\n",
              "    .dataframe tbody tr th:only-of-type {\n",
              "        vertical-align: middle;\n",
              "    }\n",
              "\n",
              "    .dataframe tbody tr th {\n",
              "        vertical-align: top;\n",
              "    }\n",
              "\n",
              "    .dataframe thead th {\n",
              "        text-align: right;\n",
              "    }\n",
              "</style>\n",
              "<table border=\"1\" class=\"dataframe\">\n",
              "  <thead>\n",
              "    <tr style=\"text-align: right;\">\n",
              "      <th></th>\n",
              "      <th>Image_name</th>\n",
              "      <th>Image_URL</th>\n",
              "      <th>corrected_text</th>\n",
              "      <th>Humour</th>\n",
              "      <th>Sarcasm</th>\n",
              "      <th>offensive</th>\n",
              "      <th>Motivational</th>\n",
              "      <th>Overall_Sentiment</th>\n",
              "    </tr>\n",
              "  </thead>\n",
              "  <tbody>\n",
              "    <tr>\n",
              "      <th>0</th>\n",
              "      <td>10_year_2r94rv.jpg</td>\n",
              "      <td>https://i.imgflip.com/2r94rv.jpg</td>\n",
              "      <td>look friend lightyear sohalikut trend play 10 ...</td>\n",
              "      <td>0.000000</td>\n",
              "      <td>0.000000</td>\n",
              "      <td>0.000000</td>\n",
              "      <td>0.0</td>\n",
              "      <td>very_positive</td>\n",
              "    </tr>\n",
              "    <tr>\n",
              "      <th>1</th>\n",
              "      <td>10_year_10-year-challenge_1547788782.jpeg</td>\n",
              "      <td>https://spiderimg.amarujala.com/assets/images/...</td>\n",
              "      <td>best 10 yearchallenge completed less 4 kudus ...</td>\n",
              "      <td>0.333333</td>\n",
              "      <td>0.000000</td>\n",
              "      <td>0.000000</td>\n",
              "      <td>1.0</td>\n",
              "      <td>very_positive</td>\n",
              "    </tr>\n",
              "    <tr>\n",
              "      <th>2</th>\n",
              "      <td>10_year_10yearchallenge-5c75f8b946e0fb0001edc7...</td>\n",
              "      <td>https://www.lifewire.com/thmb/8wNfd94_meE9X2cp...</td>\n",
              "      <td>sam thorne   follow follow saw everyone postin...</td>\n",
              "      <td>0.666667</td>\n",
              "      <td>0.166667</td>\n",
              "      <td>0.000000</td>\n",
              "      <td>0.0</td>\n",
              "      <td>positive</td>\n",
              "    </tr>\n",
              "    <tr>\n",
              "      <th>3</th>\n",
              "      <td>10_year_10-year-challenge-sweet-dee-edition-40...</td>\n",
              "      <td>https://pics.conservativememes.com/10-year-cha...</td>\n",
              "      <td>10 year challenge  sweet dee edition</td>\n",
              "      <td>0.666667</td>\n",
              "      <td>0.333333</td>\n",
              "      <td>0.333333</td>\n",
              "      <td>1.0</td>\n",
              "      <td>positive</td>\n",
              "    </tr>\n",
              "    <tr>\n",
              "      <th>4</th>\n",
              "      <td>10_year_10-year-challenge-with-no-filter-47-hi...</td>\n",
              "      <td>https://pics.me.me/10-year-challenge-with-no-f...</td>\n",
              "      <td>10 year challenge filter 47 hilarious 10 year ...</td>\n",
              "      <td>0.000000</td>\n",
              "      <td>0.500000</td>\n",
              "      <td>0.333333</td>\n",
              "      <td>0.0</td>\n",
              "      <td>neutral</td>\n",
              "    </tr>\n",
              "    <tr>\n",
              "      <th>...</th>\n",
              "      <td>...</td>\n",
              "      <td>...</td>\n",
              "      <td>...</td>\n",
              "      <td>...</td>\n",
              "      <td>...</td>\n",
              "      <td>...</td>\n",
              "      <td>...</td>\n",
              "      <td>...</td>\n",
              "    </tr>\n",
              "    <tr>\n",
              "      <th>6580</th>\n",
              "      <td>best_2017_d2fe668a7ff9227fbb604927de025311.jpg</td>\n",
              "      <td>https://i.pinimg.com/345x/d2/fe/66/d2fe668a7ff...</td>\n",
              "      <td>tuesday mardi gras wednesday valentine friday ...</td>\n",
              "      <td>0.666667</td>\n",
              "      <td>0.333333</td>\n",
              "      <td>0.333333</td>\n",
              "      <td>1.0</td>\n",
              "      <td>neutral</td>\n",
              "    </tr>\n",
              "    <tr>\n",
              "      <th>6581</th>\n",
              "      <td>best_2017_DR9DnutV4AYK-Pc.jpg</td>\n",
              "      <td>https://pbs.twimg.com/media/DR9DnutV4AYK-Pc.jpg</td>\n",
              "      <td>must watch movies 2017 iti chennai memes maana...</td>\n",
              "      <td>1.000000</td>\n",
              "      <td>0.333333</td>\n",
              "      <td>0.000000</td>\n",
              "      <td>0.0</td>\n",
              "      <td>neutral</td>\n",
              "    </tr>\n",
              "    <tr>\n",
              "      <th>6582</th>\n",
              "      <td>best_2017_less-more-talking-listening-planning...</td>\n",
              "      <td>https://pics.ballmemes.com/less-more-talking-l...</td>\n",
              "      <td>less talking planning soda junk food complaini...</td>\n",
              "      <td>1.000000</td>\n",
              "      <td>0.000000</td>\n",
              "      <td>0.666667</td>\n",
              "      <td>0.0</td>\n",
              "      <td>positive</td>\n",
              "    </tr>\n",
              "    <tr>\n",
              "      <th>6583</th>\n",
              "      <td>best_2017_make-time.jpg</td>\n",
              "      <td>https://arhtisticlicense.files.wordpress.com/2...</td>\n",
              "      <td>time one time unless make</td>\n",
              "      <td>0.333333</td>\n",
              "      <td>0.333333</td>\n",
              "      <td>0.000000</td>\n",
              "      <td>1.0</td>\n",
              "      <td>very_positive</td>\n",
              "    </tr>\n",
              "    <tr>\n",
              "      <th>6584</th>\n",
              "      <td>best_2017_what-if.jpg</td>\n",
              "      <td>https://arhtisticlicense.files.wordpress.com/2...</td>\n",
              "      <td>starting point every good idea   arhtistic</td>\n",
              "      <td>0.333333</td>\n",
              "      <td>0.166667</td>\n",
              "      <td>0.000000</td>\n",
              "      <td>1.0</td>\n",
              "      <td>positive</td>\n",
              "    </tr>\n",
              "  </tbody>\n",
              "</table>\n",
              "<p>6585 rows × 8 columns</p>\n",
              "</div>"
            ],
            "text/plain": [
              "                                             Image_name  ... Overall_Sentiment\n",
              "0                                    10_year_2r94rv.jpg  ...     very_positive\n",
              "1             10_year_10-year-challenge_1547788782.jpeg  ...     very_positive\n",
              "2     10_year_10yearchallenge-5c75f8b946e0fb0001edc7...  ...          positive\n",
              "3     10_year_10-year-challenge-sweet-dee-edition-40...  ...          positive\n",
              "4     10_year_10-year-challenge-with-no-filter-47-hi...  ...           neutral\n",
              "...                                                 ...  ...               ...\n",
              "6580     best_2017_d2fe668a7ff9227fbb604927de025311.jpg  ...           neutral\n",
              "6581                      best_2017_DR9DnutV4AYK-Pc.jpg  ...           neutral\n",
              "6582  best_2017_less-more-talking-listening-planning...  ...          positive\n",
              "6583                            best_2017_make-time.jpg  ...     very_positive\n",
              "6584                              best_2017_what-if.jpg  ...          positive\n",
              "\n",
              "[6585 rows x 8 columns]"
            ]
          },
          "metadata": {
            "tags": []
          },
          "execution_count": 2
        }
      ]
    },
    {
      "cell_type": "code",
      "metadata": {
        "id": "-4d9ZbapYMaj",
        "colab_type": "code",
        "outputId": "f8baba60-3a8d-482c-e24f-26b0d6cb7c60",
        "colab": {
          "base_uri": "https://localhost:8080/",
          "height": 105
        }
      },
      "source": [
        "%cd 'gdrive'\n",
        "%cd 'My Drive'\n",
        "!mkdir memotion_analysis\n",
        "%cd 'memotion_analysis'\n",
        "!mkdir dataset\n",
        "%cd 'dataset'\n",
        "!mkdir train\n",
        "%cd 'train'\n",
        "!mkdir positive\n",
        "!mkdir negative\n",
        "!mkdir neutral"
      ],
      "execution_count": 0,
      "outputs": [
        {
          "output_type": "stream",
          "text": [
            "/content/gdrive\n",
            "/content/gdrive/My Drive\n",
            "/content/gdrive/My Drive/memotion_analysis\n",
            "/content/gdrive/My Drive/memotion_analysis/dataset\n",
            "/content/gdrive/My Drive/memotion_analysis/dataset/train\n"
          ],
          "name": "stdout"
        }
      ]
    },
    {
      "cell_type": "code",
      "metadata": {
        "id": "JA982ippzyyS",
        "colab_type": "code",
        "colab": {}
      },
      "source": [
        "import urllib\n",
        "\n",
        "\n",
        "opener=urllib.request.build_opener()\n",
        "opener.addheaders=[('User-Agent', 'Mozilla/5.0 (Windows NT 6.1; WOW64) AppleWebKit/537.36 (KHTML, like Gecko) Chrome/36.0.1941.0 Safari/537.36')]\n",
        "urllib.request.install_opener(opener)"
      ],
      "execution_count": 0,
      "outputs": []
    },
    {
      "cell_type": "markdown",
      "metadata": {
        "id": "hYpHBhoOVmbS",
        "colab_type": "text"
      },
      "source": [
        "\n",
        "**Data Extraction**\n",
        "Images will be downloaded and saved in folders based in their overall sentiments.\n",
        "\n",
        "\n"
      ]
    },
    {
      "cell_type": "code",
      "metadata": {
        "id": "8wuH7s_XVqOh",
        "colab_type": "code",
        "outputId": "57f80afe-4cee-4e52-865e-778543079479",
        "colab": {
          "base_uri": "https://localhost:8080/",
          "height": 1000
        }
      },
      "source": [
        "from os.path import join\n",
        "import os\n",
        "\n",
        "TRAIN_BASE_PATH = base_dir + 'dataset/train/'\n",
        "negatives = ['negative', 'very_nagetive']\n",
        "positives = ['positive', 'very_positive']\n",
        "negative_memes, positive_memes, neutral_memes = [], [], []\n",
        "\n",
        "for index, row in train_dataframe.iterrows():\n",
        "  url = row['Image_URL']\n",
        "  file_name = row['Image_name']\n",
        "  filepath = TRAIN_BASE_PATH + 'negative/' if row['Overall_Sentiment'] in negatives \\\n",
        "      else TRAIN_BASE_PATH + 'positive/' if row['Overall_Sentiment'] in positives \\\n",
        "      else TRAIN_BASE_PATH + 'neutral/'\n",
        "      \n",
        "  filepath = join(filepath, file_name)\n",
        "  if os.path.isfile(filepath):\n",
        "    continue\n",
        "\n",
        "  else:\n",
        "    try:\n",
        "      urllib.request.urlretrieve(url, filepath)\n",
        "\n",
        "      if row['Overall_Sentiment'] in negatives:\n",
        "        negative_memes += [{'text': row['corrected_text'], 'filepath': filepath, 'humour': row['Humour'],\n",
        "                          'sarcasm': row['Sarcasm'], 'offensive': row['offensive'],\n",
        "                          'motivational': row['Motivational']}]\n",
        "\n",
        "      elif row['Overall_Sentiment'] in positives:\n",
        "        positive_memes += [{'text': row['corrected_text'], 'filepath': filepath, 'humour': row['Humour'],\n",
        "                          'sarcasm': row['Sarcasm'], 'offensive': row['offensive'],\n",
        "                          'motivational': row['Motivational']}]\n",
        "      else:\n",
        "        neutral_memes += [{'text': row['corrected_text'], 'filepath': filepath, 'humour': row['Humour'],\n",
        "                          'sarcasm': row['Sarcasm'], 'offensive': row['offensive'],\n",
        "                          'motivational': row['Motivational']}]\n",
        "\n",
        "    except Exception as e:\n",
        "      print(e)"
      ],
      "execution_count": 0,
      "outputs": [
        {
          "output_type": "stream",
          "text": [
            "<urlopen error [Errno -5] No address associated with hostname>\n",
            "HTTP Error 522: Origin Connection Time-out\n",
            "<urlopen error [Errno -3] Temporary failure in name resolution>\n",
            "<urlopen error [Errno -5] No address associated with hostname>\n",
            "<urlopen error [Errno -5] No address associated with hostname>\n",
            "<urlopen error [Errno -3] Temporary failure in name resolution>\n",
            "<urlopen error [Errno -5] No address associated with hostname>\n",
            "HTTP Error 522: Origin Connection Time-out\n",
            "URL can't contain control characters. '/teepublic/image/private/s--2w_Lv3Ck--/t_Preview/b_rgb:ffffff,BE AWESOME ,BE AWESOME ,funny,general,not_offensive,not_motivational,very_positive\\nbarney_828175a7b5e839a944f76ee7f44d43a6.jpg,https://i.pinimg.com/originals/82/81/75/828175a7b5e839a944f76ee7f44d43a6.jpg,AWESOME How my friends see me How my family How society sees sees me me How my camera sees me How I see me How I really am ,AWESOME How my friends see me How my family How society sees sees me me How my camera sees me How I see me How I really am ,not_funny,not_sarcastic,slight,motivational,positive\\nbarney_50959061_370339760215623_8635773505297855194_n.jpg,https://scontent-frx5-1.cdninstagram.com/vp/08f6abecd4b0e8a52fc259490623a004/5D074B6D/t51.2885-15/e35/50959061_370339760215623_8635773505297855194_n.jpg?_nc_ht=scontent-frx5-1.cdninstagram.com&ig_cache_key=MTk4NDMxNjg3MjY4MTc2Nzg4Mw%3D%3D.2,CHALLENGE ACCEPTED! Friend: You can\\'t honestly watch How I Met Your Mother again for like the 4th time...\" Me:' (found at least ' ')\n",
            "HTTP Error 404: Not Found\n",
            "<urlopen error [Errno -3] Temporary failure in name resolution>\n",
            "<urlopen error [Errno 110] Connection timed out>\n",
            "HTTP Error 403: Forbidden\n",
            "<urlopen error [Errno -3] Temporary failure in name resolution>\n",
            "<urlopen error [Errno -3] Temporary failure in name resolution>\n",
            "HTTP Error 404: Not Found\n",
            "HTTP Error 401: Unauthorized\n",
            "<urlopen error [Errno 110] Connection timed out>\n",
            "HTTP Error 403: Forbidden\n",
            "<urlopen error [Errno 111] Connection refused>\n",
            "<urlopen error [Errno 104] Connection reset by peer>\n",
            "HTTP Error 403: Forbidden\n",
            "HTTP Error 403: Forbidden\n",
            "HTTP Error 403: Forbidden\n",
            "HTTP Error 403: Forbidden\n",
            "HTTP Error 403: Forbidden\n",
            "HTTP Error 403: Forbidden\n",
            "HTTP Error 403: Forbidden\n",
            "<urlopen error [Errno -3] Temporary failure in name resolution>\n",
            "HTTP Error 404: Not Found\n",
            "URL can't contain control characters. \"/buzzfeed-static/static/2018-12/20/18/tmp/buzzfeed-prod-web-02/tmp-name-2-13837-1545347362-1_dblbig.jpg?output-format=auto&output-quality=90&crop=625:220;0,look @ how happy my dad is,look @ how happy my dad is  he just started baking school and I'm so proud ,very_funny,general,not_offensive,not_motivational,very_positive\\nbest_2018_U-3524143-1522085166.jpeg.jpg,https://img.discogs.com/QXFQf4pxixou1Acd4C7EVoDhqaw=/300x300/filters:strip_icc():format(jpeg):quality(40)/discogs-avatars/U-3524143-1522085166.jpeg.jpg,,THE METAL IS STRONG WITH THIS ONE memegenerator.net ,very_funny,general,very_offensive,not_motivational,negative\\nbest_2018_VeZuyhjPMZ0z_320x180.jpg,https://static-1.bitchute.com/live/cover_images/HoDOXZElR7hZ/VeZuyhjPMZ0z_320x180.jpg,TOXIC MASCULINITY & GILLETTE WHAT MOST PEOPLE DON'T UNDERSTAND ,TOXIC MASCULINITY & GILLETTE WHAT MOST PEOPLE DON'T UNDERSTAND ,funny,twisted_meaning,slight,motivational,positive\\nbest_2018_whos-next-cat.png,https://i2.wp.com/www.marketleader.com/wp-content/uploads/2018/01/whos-next-cat.png,AND THEN I WALKED AWAY FROM THE CLOSING TABLE AND SAID WHO'S NEXT\" (found at least ' ')\n",
            "HTTP Error 410: Gone\n",
            "<urlopen error [Errno -3] Temporary failure in name resolution>\n",
            "<urlopen error [Errno -2] Name or service not known>\n",
            "HTTP Error 522: Origin Connection Time-out\n",
            "HTTP Error 522: Origin Connection Time-out\n",
            "<urlopen error [Errno -3] Temporary failure in name resolution>\n",
            "<urlopen error [Errno 110] Connection timed out>\n",
            "HTTP Error 404: Not Found\n",
            "<urlopen error [Errno 110] Connection timed out>\n",
            "HTTP Error 403: Forbidden\n",
            "HTTP Error 401: Unauthorized\n",
            "<urlopen error [SSL: CERTIFICATE_VERIFY_FAILED] certificate verify failed (_ssl.c:852)>\n",
            "URL can't contain control characters. '/buzzfeed-static/static/2017-07/4/12/enhanced/buzzfeed-prod-fastlane-03/original-23712-1499184113-10.png?crop=639:335;0,when u sneeze in front of ur pet and they look at u like youve just offended their great ancestors @DrSmashlove ,when u sneeze in front of ur pet and they look at u like youve just offended their great ancestors @DrSmashlove ,very_funny,twisted_meaning,hateful_offensive,motivational,very_positive\\ncat_U_245Grumpy_Cat_Nearest_Door_a_l.jpg,http://www.hollywoodreporter.com/sites/default/files/2013/05/Grumpy_Cat_Nearest_Door_a_l.jpg,WHAT I REALLY WANTISTO DIRECT. YOU TO THE NEAREST DOOR ,WHAT I REALLY WANTISTO DIRECT. YOU TO THE NEAREST DOOR ,not_funny,very_twisted,very_offensive,not_motivational,very_positive\\ncat_U_260meme27.png,https://catsareontop.com/wp-content/uploads/2018/05/meme27.png,WHAT IF THE HUMAN IS NOT MY PET BUT I\\'M HIS ,WHAT IF THE HUMAN IS NOT MY PET BUT I\\'M HIS ,funny,general,very_offensive,not_motivational,positive\\ncat_U_261cat-memes-clean.jpg,https://bayart.org/wp-content/uploads/2018/05/cat-memes-clean.jpg,I ARE DUNECAT I CONTROLS THE SPICE,I ARE DUNECAT I CONTROLS THE SPICE  I CONTROLS THE UNIVERSE. ,not_funny,general,very_offensive,not_motivational,negative\\ncat_U_262Screen-shot-2012-06-15-at-4.55.54-PM.png,https://d394wypgd0ijak.cloudfront.net/wp-content/uploads/2012/06/06132923/Screen-shot-2012-06-15-at-4.55.54-PM.png,ORGANIC CHEMISTRY IS DIFFICULT 00A(CH) THOSE WHO STUDY IT HAVE ALKYNES OF TROUBLE ACID WHAT YOU DID THERE AMINE,ORGANIC CHEMISTRY IS DIFFICULT 00A(CH) THOSE WHO STUDY IT HAVE ALKYNES OF TROUBLE ACID WHAT YOU DID THERE AMINE,hilarious,twisted_meaning,slight,motivational,positive\\ncat_U_263colonel-meow.jpg,http://petnaturals.com/blog/wp-content/uploads/2013/08/colonel-meow.jpg,YES I AM JUDGING YOU quickmeme.com ,YES I AM JUDGING YOU quickmeme.com ,very_funny,general,not_offensive,not_motivational,positive\\ncat_U_264Meme2_large.jpg,https://cdn.shopify.com/s/files/1/0601/4169/files/Meme2_large.jpg?3989978188056828055,If I fits,If I fits  I sits. If I don\\'t fits...I still sits ,funny,general,slight,not_motivational,positive\\ncat_U_265Sad-Cat-Memes.png,https://www.catbreedselector.com/wp-content/uploads/2017/04/Sad-Cat-Memes.png,MEOW IS JUST ME+OW CatBreed Selector.com f CatBreed Selector CatBreed Select ,MEOW IS JUST ME+OW CatBreedSelector.com f CatBreedSelector CatBreedSelect ,hilarious,general,hateful_offensive,not_motivational,neutral\\ncat_U_270hiKEGac.png,https://i.imgur.com/hiKEGac.png,<html><head><meta content=text/html; charset=UTF-8\" http-equiv=\"content-type\"><style type=\"text/css\">ol{margin:0;padding:0}table td' (found at least ' ')\n",
            "URL can't contain control characters. \"/complex/images/c_limit,I LIKE LONG WALKS ESPECIALLY WHEN THEY ARE TAKEN BY PEOPLE WHO ANNOY ME. ,I LIKE LONG WALKS ESPECIALLY WHEN THEY ARE TAKEN BY PEOPLE WHO ANNOY ME. ,funny,general,slight,not_motivational,very_positive\\ncat_U_310grumpycat15.jpg,https://www.yourtango.com/sites/default/files/styles/body_image_default/public/2016%20Oct/grumpycat15.jpg,WHY FALL IN LOVE WHEN YOU CAN FALL ASLEEP ,WHY FALL IN LOVE WHEN YOU CAN FALL ASLEEP ,funny,general,slight,motivational,very_positive\\ncat_U_312cat-meme.jpg,https://bayart.org/wp-content/uploads/2018/05/cat-meme.jpg,thermometer.. goes WHERE?!?! ,thermometer.. goes WHERE?!?! ,very_funny,not_sarcastic,hateful_offensive,motivational,positive\\ncat_U_315HUjGCAb.jpg,https://i.imgur.com/HUjGCAb.jpg,Do you have a minute to talk about our lord and saviour Edgar Allan Poe? ,Do you have a minute to talk about our lord and saviour Edgar Allan Poe? ,funny,twisted_meaning,not_offensive,not_motivational,very_positive\\ncat_U_316Top-40-Funny-Cat-Memes-4-Funny-cats-500x625.jpg,https://quoteshumor.com/wp-content/uploads/2016/05/Top-40-Funny-Cat-Memes-4-Funny-cats-500x625.jpg,Oooh! PIN Me. Pin ME! w kg [A] ,Oooh! PIN Me. Pin ME! ,very_funny,general,not_offensive,not_motivational,positive\\ncat_U_318Teaching-kittens-Funny-Cat-Memes.jpg,https://www.funnycatmemes.xyz/images/2016/06/Teaching-kittens-Funny-Cat-Memes.jpg,TEACHING KITTENS HOW TO LOOK AT THE CAMERA! FunnyCatMemes.xyz ,TEACHING KITTENS HOW TO LOOK AT THE CAMERA! FunnyCatMemes.xyz ,very_funny,general,slight,not_motivational,positive\\ncat_U_320mittens-pie-cat-meme.jpg,https://static1.squarespace.com/static/53be9276e4b0dd42b6f447cb/t/558406a9e4b052796894075a/1434715818101/mittens-pie-cat-meme,www.contatto con BEHOLD! I found my mittens now i shall have some pie! cataddictsanony-mouse ,www.contatto con BEHOLD! I found my mittens now i shall have some pie! cataddictsanony-mouse ,funny,twisted_meaning,not_offensive,not_motivational,neutral\\ncat_U_321hFCBD4659.jpg,https://i.chzbgr.com/full/9013919488/hFCBD4659/,I DON'T ALWAYS GET UNDER THE COVERS BUT WHEN I DO,I DON'T ALWAYS GET UNDER THE COVERS BUT WHEN I DO  YOU'RE TRYING TO MAKE THE BED ,not_funny,not_sarcastic,not_offensive,not_motivational,neutral\\ncat_U_326funny-pictures-happycat-kitten-hand.jpg,https://i.kym-cdn.com/photos/images/newsfeed/000/009/724/funny-pictures-happycat-kitten-hand.jpg?1318992465,ceeling cat did send down his only son,ceeling cat did send down his only son  happycat ,funny,not_sarcastic,not_offensive,not_motivational,neutral\\ncat_U_328hero-image.jpg,https://www.catster.com/wp-content/uploads/2015/11/hero-image.jpg,I could barf rainbows. ,I could barf rainbows. ,funny,general,slight,motivational,positive\\ncat_U_329Funny-Cat-Meme-760x500.jpg,http://cdn.funnyand.com/wp-content/uploads/2014/07/Funny-Cat-Meme-760x500.jpg,KIUTENIS NOW FULLY CHARGED ,KIUTENIS NOW FULLY CHARGED ,not_funny,not_sarcastic,not_offensive,not_motivational,neutral\\ncat_U_331grumpy-cat-meme.jpg,https://amazinganimalphotos.com/wp-content/uploads/2018/10/grumpy-cat-meme.jpg,Is it rude... ...to tossa breath mint in someone's mouth while they are talking? WYP ,Is it rude... ...to tossa breath mint in someone's mouth while they are talking? WYP ,very_funny,very_twisted,not_offensive,not_motivational,positive\\ncat_U_333thanks-boss-cat-meme-3.jpg,https://tonsofthanks.com/wp-content/uploads/2018/08/thanks-boss-cat-meme-3.jpg,THANKS BOSS tonsofthanks.com/meme ,THANKS BOSS tonsofthanks.com/meme ,hilarious,twisted_meaning,very_offensive,not_motivational,positive\\ncat_U_334Pretty-Cloud-Cat-Meme.jpg,https://purrfectlove.net/wp-content/uploads/2018/01/Pretty-Cloud-Cat-Meme.jpg,DONT MIND ME TRA PRETTY CLOUD ,DONT MIND ME TRA PRETTY CLOUD ,very_funny,twisted_meaning,slight,motivational,very_positive\\ncat_U_336funny-sad-cat-memes-4.jpg,https://blazepress.com/.image/t_share/MTQ3ODAwMTk1MzkwNzc2NDIy/funny-sad-cat-memes-4.jpg,HE STOPPED RUBBING MY BELLY JUST BEFORE I COULD BITE HIM ,HE STOPPED RUBBING MY BELLY JUST BEFORE I COULD BITE HIM ,very_funny,twisted_meaning,hateful_offensive,not_motivational,positive\\ncat_U_338cat-tree.jpg,https://runt-of-the-web.com/wordpress/wp-content/uploads/2017/02/cat-tree.jpg,Rare photo of a cat tree in full bloom. ,Rare photo of a cat tree in full bloom. ,funny,general,slight,motivational,neutral\\ncat_U_352funny-fat-cat-memes-2.jpg,https://memesbams.com/wp-content/uploads/2017/10/funny-fat-cat-memes-2.jpg,When your mom told you it's just babyfat. and you'll grow out of it.. ...but you're 35 years old now. ,When your mom told you it's just babyfat. and you'll grow out of it.. ...but you're 35 years old now. ,very_funny,general,slight,motivational,very_positive\\ncat_U_353h6C00755B.jpg,http://i.chzbgr.com/full/2837509/h6C00755B/,GETOVERHERE,GETOVERHERE  YOU STAHP! STAHP! ,funny,general,slight,not_motivational,very_positive\\ncat_U_356Photos-of-Hairless-Cat-Memes.png,https://www.catbreedselector.com/wp-content/uploads/2017/04/Photos-of-Hairless-Cat-Memes.png,I'MUGLY AND LONELY CAN WE BE FRIENDS CatBreed Selector.com f CatBreed Selector CatBreed Select ,I'MUGLY AND LONELY CAN WE BE FRIENDS CatBreed Selector.com f CatBreed Selector CatBreed Select ,funny,twisted_meaning,very_offensive,motivational,negative\\ncat_U_361when-you-try-so-hard-sad-cat-meme.jpg,https://sayingimages.com/wp-content/uploads/when-you-try-so-hard-sad-cat-meme.jpg,WHEN YOU TRY SO HARD BUT YOU DONT GIVE UP Imgflip.com ,WHEN YOU TRY SO HARD BUT YOU DONT GIVE UP Imgflip.com ,very_funny,general,not_offensive,motivational,positive\\ncat_U_362monday-friday-lets-purrrtend-its-friday-cats-monday-friday-gameface-5210219.png,https://pics.me.me/monday-friday-lets-purrrtend-its-friday-cats-monday-friday-gameface-5210219.png,MONDAY. FRIDAY! Let's purrrtend it's Friday. #cats #monday #friday #gameface #catlover ,MONDAY. FRIDAY! Let's purrrtend it's Friday. #cats #monday #friday #gameface \" (found at least ' ')\n",
            "URL can't contain control characters. \"/complex/images/c_limit,WHAT A BEAUTIFUL DAM LETS GO BACK INSIDE NOW ,WHAT A BEAUTIFUL DAY LETS GO BACK INSIDE NOW ,funny,general,slight,not_motivational,positive\\ncat_U_428hB1F25D28.jpg,https://i.chzbgr.com/full/9013911296/hB1F25D28/,DUDE..WHAT...WHAT IF THERE'S MORE TO LIFE THAN TREATS AND CATNIP? quickmeme.com ,DUDE..WHAT...WHAT IF THERE'S MORE TO LIFE THAN TREATS AND CATNIP? quickmeme.com ,funny,not_sarcastic,not_offensive,not_motivational,positive\\ncat_U_430h47BC6E0C.jpg,https://i.chzbgr.com/full/8802645248/h47BC6E0C/,Please\" (found at least ' ')\n",
            "HTTP Error 404: Not Found\n",
            "HTTP Error 403: Forbidden\n",
            "HTTP Error 403: Forbidden\n",
            "URL can't contain control characters. '/f/a33bfb05-b7db-4a1d-9323-3d799c8659fa/dawaic2-5e26b690-eef4-4534-8c32-52790ce69381.jpg/v1/fill/w_600,I KILLED A ARMY OF 5000 WITH 2 SHOTS DOLFAS DE FUTURO ES POTES FUTWA GURES AND THE FIRST SHOT WAS A WARNING ,I KILLED A ARMY OF 5000 WITH 2 SHOTS DOLFAS DE FUTURO ES POTES FUTWA GURES AND THE FIRST SHOT WAS A WARNING ,hilarious,twisted_meaning,not_offensive,not_motivational,positive\\nchuck_4b32373c187856659bca479d91146007.jpg,https://www.meme-arsenal.com/memes/4b32373c187856659bca479d91146007.jpg,How was the moon created? By Chuck Norris hitting a golf ball ,How was the moon created? By Chuck Norris hitting a golf ball ,hilarious,very_twisted,hateful_offensive,motivational,positive\\nchuck_4f1f56f663914abe68f0b4581f0e62b907e3eef27463fda3542efb5589d15944.jpg,https://uploads.disquscdn.com/images/4f1f56f663914abe68f0b4581f0e62b907e3eef27463fda3542efb5589d15944.jpg,I CAN PLAY BEETHOVEN\\'S NO.5 SYMPHONY ON THE VUVUZELA memecenter.com MemeCenter ,I CAN PLAY BEETHOVEN\\'S NO.5 SYMPHONY ON THE VUVUZELA memecenter.com MemeCenter  ,not_funny,not_sarcastic,not_offensive,not_motivational,neutral\\nchuck_4fee329e007d3.jpeg,http://images1.memedroid.com/images/UPLOADED17/4fee329e007d3.jpeg,I DON\\'T KNOW WHO YOU ARE,I DON\\'T KNOW WHO YOU ARE  BUT I WILL FIND YOU AND I WILL KILL YOU. YOU\\'RE RIGHT  YOU DON\\'T KNOW WHO THIS IS. Haha Bigpimpin916.ifunny.mobi ,not_funny,general,slight,not_motivational,neutral\\nchuck_5cvbw27bmyg11.jpg,https://i.redd.it/5cvbw27bmyg11.jpg,BILL GATES LIVES IN CONSTANTEEAR ,BILL GATES LIVES IN CONSTANT FEAR ,very_funny,general,not_offensive,not_motivational,positive\\nchuck_7.jpg,https://blazepress.com/.image/t_share/MTI4OTk1Mjc4ODkxMDAyNDk5/7.jpg,CHUCK NORRIS WAS ONCE ON AMERICAN IDOL.. . HE WON USING SIGN LANGUAGE ,CHUCK NORRIS WAS ONCE ON AMERICAN IDOL.. . HE WON USING SIGN LANGUAGE ,hilarious,general,slight,motivational,positive\\nchuck_18.jpg,https://blazepress.com/.image/t_share/MTI4OTk1Mjg4MDE3OTEzODY2/18.jpg,CHUCK NORRIS BUILT THE HOSPITAL THAT HE WAS BORN IN ,CHUCK NORRIS BUILT THE HOSPITAL THAT HE WAS BORN IN ,very_funny,twisted_meaning,very_offensive,motivational,very_positive\\nchuck_46f6639c88348b22a482e59fe9b30dfd.jpg,https://i.pinimg.com/originals/46/f6/63/46f6639c88348b22a482e59fe9b30dfd.jpg,IEAT SOUP WITH CHOPSTICKS ,IEAT SOUP WITH CHOPSTICKS ,not_funny,not_sarcastic,not_offensive,not_motivational,negative\\nchuck_79ff60f2f6a945a1fb69dd55a7c2c23e591184732b06a1c7f5572362612cc261.jpg,http://www.quickmeme.com/img/79/79ff60f2f6a945a1fb69dd55a7c2c23e591184732b06a1c7f5572362612cc261.jpg,WHOEVER PUT THIS SCUMBAG HAT ON ME IS ALREADY DEAD quickmeme.com ,WHOEVER PUT THIS SCUMBAG HAT ON ME IS ALREADY DEAD quickmeme.com ,very_funny,general,very_offensive,motivational,positive\\nchuck_97c2b87ab2250cc23f242d2181a99f86.png,https://www.memesmonkey.com/images/memesmonkey/97/97c2b87ab2250cc23f242d2181a99f86.png,instantmememaker.com Chuck Norris 73 years old in 2013 Threatened to roundhouse kick the aging process at 55 ,instantmememaker.com Chuck Norris 73 years old in 2013 Threatened to roundhouse kick the aging process at 55 ,very_funny,general,not_offensive,not_motivational,positive\\nchuck_459fede754cfa7e2e20c056ca33fd80c.jpg,https://i.pinimg.com/originals/45/9f/ed/459fede754cfa7e2e20c056ca33fd80c.jpg,Chuck Norris once pissed in a trucks diesel tank That truck is now known as Optimus Prime ,Chuck Norris once pissed in a trucks diesel tank That truck is now known as Optimus Prime ,hilarious,general,very_offensive,not_motivational,positive\\nchuck_772d674dc3b180281983db9760c5d0e4.jpg,https://i.pinimg.com/originals/77/2d/67/772d674dc3b180281983db9760c5d0e4.jpg,THE FLU HAS TO GET CHUCK NORRIS SHOTS ONCEA YEAR. imgflip.com ,THE FLU HAS TO GET CHUCK NORRIS SHOTS ONCEA YEAR. imgflip.com ,funny,general,slight,motivational,neutral\\nchuck_50660ac403eb4.jpeg,http://images1.memedroid.com/images/UPLOADED8/50660ac403eb4.jpeg,Has staring contest Memedroid Blinds person ,Has staring contest Memedroid Blinds person ,very_funny,general,not_offensive,motivational,positive\\nchuck_01305120f4322ec2095326c1223ba75e--chuck-norris-conservative-politics.jpg,https://i3.wp.com/i.pinimg.com/736x/01/30/51/01305120f4322ec2095326c1223ba75e--chuck-norris-conservative-politics.jpg,CHUCK NORRIS on Obamacare pure(D) médias © CBS We need to choke the life out of this federal monstrosity.\"' (found at least ' ')\n",
            "HTTP Error 522: Origin Connection Time-out\n",
            "HTTP Error 522: Origin Connection Time-out\n",
            "HTTP Error 401: Unauthorized\n",
            "HTTP Error 401: Unauthorized\n",
            "HTTP Error 404: Not Found\n",
            "HTTP Error 403: Forbidden\n",
            "HTTP Error 403: Forbidden\n",
            "HTTP Error 403: Forbidden\n",
            "HTTP Error 522: Origin Connection Time-out\n",
            "HTTP Error 403: Forbidden\n",
            "HTTP Error 403: Forbidden\n",
            "HTTP Error 403: Forbidden\n",
            "HTTP Error 403: Forbidden\n",
            "<urlopen error [Errno -2] Name or service not known>\n",
            "HTTP Error 403: Forbidden\n",
            "HTTP Error 404: Not Found\n",
            "HTTP Error 404: Not Found\n",
            "<urlopen error [Errno 110] Connection timed out>\n",
            "HTTP Error 404: Not Found\n",
            "HTTP Error 404: Not Found\n",
            "<urlopen error [Errno -2] Name or service not known>\n",
            "HTTP Error 403: Forbidden\n",
            "<urlopen error [Errno -3] Temporary failure in name resolution>\n",
            "HTTP Error 400: Bad Request\n",
            "HTTP Error 522: Origin Connection Time-out\n",
            "HTTP Error 404: Not Found\n",
            "<urlopen error [Errno 110] Connection timed out>\n",
            "HTTP Error 404: Not Found\n",
            "HTTP Error 522: Origin Connection Time-out\n",
            "HTTP Error 403: Forbidden\n",
            "<urlopen error [Errno 110] Connection timed out>\n",
            "<urlopen error [Errno 111] Connection refused>\n",
            "HTTP Error 404: Not Found\n",
            "HTTP Error 404: Not Found\n",
            "HTTP Error 522: Origin Connection Time-out\n",
            "HTTP Error 522: Origin Connection Time-out\n",
            "<urlopen error [Errno -3] Temporary failure in name resolution>\n",
            "<urlopen error [Errno -3] Temporary failure in name resolution>\n",
            "<urlopen error [SSL: CERTIFICATE_VERIFY_FAILED] certificate verify failed (_ssl.c:852)>\n",
            "<urlopen error [Errno 110] Connection timed out>\n",
            "URL can't contain control characters. \"/tr:w-600,| support your career. I babysit the kids all the time. It's not babysitting if they're your kids. ,| support your career. I babysit the kids all the time. It's not babysitting if they're your kids. ,funny,twisted_meaning,slight,not_motivational,positive\\nfeminist_16-feminist-memes-boys-and-girls.jpg,https://img-static.popxo.com/tr:w-600\" (found at least ' ')\n",
            "HTTP Error 403: Forbidden\n",
            "HTTP Error 522: Origin Connection Time-out\n",
            "HTTP Error 403: Forbidden\n",
            "HTTP Error 403: Forbidden\n",
            "HTTP Error 403: Forbidden\n",
            "HTTP Error 522: Origin Connection Time-out\n",
            "<urlopen error [Errno 110] Connection timed out>\n",
            "HTTP Error 404: Not Found\n",
            "URL can't contain control characters. \"/buzzfeed-static/static/2017-04/7/5/enhanced/buzzfeed-prod-fastlane-03/original-4336-1491558198-3.png?crop=736:385;4,me after taking one feminist theory class Amen Amen A-woman ,me after taking one feminist theory class Amen Amen A-woman ,very_funny,not_sarcastic,hateful_offensive,motivational,neutral\\nfeminist_p3uibn4AEryT5j2o5Ohf.jpeg,https://d1pgfg6pc3t0x7.cloudfront.net/72781/p3uibn4AEryT5j2o5Ohf.jpeg,You don't have bigger balls than me... mine had to be put on my chest to avoid chaffing ,You don't have bigger balls than me... mine had to be put on my chest to avoid chaffing ,funny,twisted_meaning,very_offensive,not_motivational,very_negative\\nfeminist_patriarchy_720.jpg,https://cmga360buzzworthy.files.wordpress.com/2016/03/patriarchy_720.jpg,Vex Hey Girl,Vox Hey Girl  don't crash the border-crush the partiarchy. ,very_funny,very_twisted,slight,not_motivational,positive\\nfeminist_popular-feminist-memes.jpeg,https://d1pgfg6pc3t0x7.cloudfront.net/72781/popular-feminist-memes.jpeg,Why is it when a woman is confident and powerful,Why is it when a woman is confident and powerful  they call her a witch? ,not_funny,general,slight,motivational,neutral\\nfeminist_q7MJhS3.jpg,https://i.imgur.com/q7MJhS3.jpg,OH WON'T SOMEBODY PLEASE THINK OF THE OPPRESSORS? ,OH WON'T SOMEBODY PLEASE THINK OF THE OPPRESSORS? ,very_funny,general,not_offensive,not_motivational,positive\\nfeminist_quiz-which-sex-and-the-city-gals-style-of-internalized-12060345-zJsocv.png,https://cdn.someecards.com/posts/quiz-which-sex-and-the-city-gals-style-of-internalized-12060345-zJsocv.png,QUIZ: Which ‘Sex and the City' Gal's Style of Internalized Misogyny Are You? Entertainment - Jan 12,QUIZ: Which ‘Sex and the City' Gal's Style of Internalized Misogyny Are You? Entertainment - Jan 12  2017 By: Liz Arcury ,funny,twisted_meaning,slight,not_motivational,neutral\\nfeminist_RedefineTrinity.jpg,https://i2.wp.com/www.thethistlette.com/wp-content/uploads/2016/07/RedefineTrinity.jpg?resize=568%2C335,ONE DOES NOT SIMPLY REDEFINE THE TRINITY TO FIT YOUR PATRIARCHAL THEOLOGY imgflip.com ,ONE DOES NOT SIMPLY REDEFINE THE TRINITY TO FIT YOUR PATRIARCHAL THEOLOGY imgflip.com ,very_funny,twisted_meaning,very_offensive,motivational,positive\\nfeminist_ryan1_3184549c.jpg,https://secure.i.telegraph.co.uk/multimedia/archive/03184/ryan1_3184549c.jpg,Hey girl. Keep your laws off my body,Hey girl. Keep your laws off my body  but keep your hands on it. ,funny,twisted_meaning,very_offensive,not_motivational,very_negative\\nfeminist_ryan3_3184557b.jpg,https://secure.i.telegraph.co.uk/multimedia/archive/03184/ryan3_3184557b.jpg,Hey girl. Gender is a social construct but everyone likes to cuddle. ,Hey girl. Gender is a social construct but everyone likes to cuddle. ,not_funny,not_sarcastic,not_offensive,not_motivational,neutral\\nfeminist_ryan-gosling-4.jpg,http://runt-of-the-web.com/wordpress/wp-content/uploads/2012/01/ryan-gosling-4.jpg,Hey girl. COMBO We can be supportive of gender variance even while we get our bounce on. ,Hey girl. COMBO We can be supportive of gender variance even while we get our bounce on. ,not_funny,very_twisted,slight,motivational,neutral\\nfeminist_s-36960-whenever-i-park-illegally-i-always-give-myself-a-fake-parking-ticket-before-somebody-else-does-it-for-me.jpg,https://meme.xyz/uploads/posts/t/s-36960-whenever-i-park-illegally-i-always-give-myself-a-fake-parking-ticket-before-somebody-else-does-it-for-me.jpg,Keidy @keildyyH whenever I park illegally. I always give myself a fake parking ticket before somebody else does it for me ,Keidy @keildyyH whenever I park illegally. I always give myself a fake parking ticket before somebody else does it for me ,hilarious,twisted_meaning,hateful_offensive,motivational,neutral\\nfeminist_Screenshot_1-5c124e9b556ae__700.jpg,https://static.boredpanda.com/blog/wp-content/uploads/2018/12/Screenshot_1-5c124e9b556ae__700.jpg,Women are so hard to read Well actually we just wan Such complex creatures If you just liste So mysterious boredpanda.com ,Women are so hard to read Well actually we just wan Such complex creatures If you just liste So mysterious boredpanda.com ,very_funny,general,slight,motivational,positive\\nfeminist_s-FEMINIST-NAZI-MEME-400x400.jpg,https://i.huffpost.com/gen/827469/thumbs/s-FEMINIST-NAZI-MEME-400x400.jpg?5,Feminist Nazi THINKS THE IMAGE OF THE HYSTERICAL WOMAN IS AN UNFAIR STEREOTYPE WILL PROBABLY GET ALL HYSTERICAL ABOUT THIS MEME Do Buket quickmeme.com ,Feminist Nazi THINKS THE IMAGE OF THE HYSTERICAL WOMAN IS AN UNFAIR STEREOTYPE WILL PROBABLY GET ALL HYSTERICAL ABOUT THIS MEME Do Buket quickmeme.com ,hilarious,twisted_meaning,very_offensive,motivational,very_negative\\nfeminist_soidy5w4dn5q6orwkumt73qf4h6jc3sachvcdoaizecfr3dnitcq_3_0.png,https://0901.static.prezi.com/preview/v2/soidy5w4dn5q6orwkumt73qf4h6jc3sachvcdoaizecfr3dnitcq_3_0.png,Reference List ada.w rong gathshakira Feminist Memes and their Consciousness Raising Abilities for Intersectionality What are Feminist Memes? What Memes? ,Reference List ada.w rong gathshakira Feminist Memes and their Consciousness Raising Abilities for Intersectionality What are Feminist Memes? What Memes? ,not_funny,general,not_offensive,motivational,positive\\nfeminist_student-kicked-out-of-class-for-asking-feminist-professor-how-36171313.png,https://pics.conservativememes.com/student-kicked-out-of-class-for-asking-feminist-professor-how-36171313.png,Student Kicked Out Of Class For Asking Feminist Professor How Women Are Simultaneously 'Powerful And 'Helpless Victims Of Patriarchy' September 6,Student Kicked Out Of Class For Asking Feminist Professor How Women Are Simultaneously 'Powerful And 'Helpless Victims Of Patriarchy' September 6  2018 Feminism title /via/r/memes/ https://itr.tt/2×3 weMD ,very_funny,general,not_offensive,motivational,positive\\nfeminist_sub-buzz-1754-1491488578-5.png,https://img.buzzfeed.com/buzzfeed-static/static/2017-04/6/10/asset/buzzfeed-prod-fastlane-03/sub-buzz-1754-1491488578-5.png?downsize=700:*&output-format=auto&output-quality=auto,me when boys compliment me vs me when girls compliment me ,me when boys compliment me vs me when girls compliment me ,very_funny,twisted_meaning,very_offensive,not_motivational,positive\\nfeminist_sub-buzz-3311-1491489574-1.jpg,https://img.buzzfeed.com/buzzfeed-static/static/2017-04/6/10/asset/buzzfeed-prod-fastlane-02/sub-buzz-3311-1491489574-1.jpg?crop=483:378;0\" (found at least ' ')\n",
            "HTTP Error 403: Forbidden\n",
            "<urlopen error [SSL: CERTIFICATE_VERIFY_FAILED] certificate verify failed (_ssl.c:852)>\n",
            "HTTP Error 403: Forbidden\n",
            "HTTP Error 403: Forbidden\n",
            "HTTP Error 403: Forbidden\n",
            "HTTP Error 403: Forbidden\n",
            "HTTP Error 522: Origin Connection Time-out\n",
            "<urlopen error [SSL: CERTIFICATE_VERIFY_FAILED] certificate verify failed (_ssl.c:852)>\n",
            "<urlopen error [Errno -3] Temporary failure in name resolution>\n",
            "HTTP Error 404: Not Found\n",
            "<urlopen error [SSL: CERTIFICATE_VERIFY_FAILED] certificate verify failed (_ssl.c:852)>\n",
            "HTTP Error 400: Bad Request\n",
            "<urlopen error [SSL: CERTIFICATE_VERIFY_FAILED] certificate verify failed (_ssl.c:852)>\n",
            "HTTP Error 403: Forbidden\n",
            "HTTP Error 404: Not Found\n",
            "HTTP Error 403: Forbidden\n",
            "URL can't contain control characters. \"/f/ebea9e75-ed4e-4820-841d-e0af70db0c98/dcqjcjl-23b67a42-b7ba-40eb-a56e-18c701a8b07b.png/v1/fill/w_334,OKAY,OKAY  I'M NOT GOING DOWN THERE ,funny,general,not_offensive,not_motivational,positive\\nfriends_thomas_and_friends_meme_10_by_thethomaguy_dcreh9k-250t.jpg,https://images-wixmp-ed30a86b8c4ca887773594c2.wixmp.com/f/ebea9e75-ed4e-4820-841d-e0af70db0c98/dcreh9k-b85f925e-c6de-4391-a90e-d90f3e79b74a.png/v1/fill/w_441\" (found at least ' ')\n",
            "URL can't contain control characters. \"/f/ebea9e75-ed4e-4820-841d-e0af70db0c98/dcruxjn-fbbbb77e-9066-4b90-904e-da485eef7bd5.png/v1/fill/w_441,YEAH WHATEVER made on imgur ,YEAH WHATEVER made on imgur ,not_funny,general,very_offensive,motivational,neutral\\nfriends_Twitter-Anytime-something-slightly-upsetting-happens-to-d33d0a.png,https://pics.me.me/Twitter-Anytime-something-slightly-upsetting-happens-to-d33d0a.png,I guess things were just going too well for me. Anytime something slightly upsetting happens to me ,I guess things were just going too well for me. Anytime something slightly upsetting happens to me ,funny,not_sarcastic,not_offensive,not_motivational,neutral\\nfriends_two-friends-are-closer.jpg,https://loldamn.com/wp-content/uploads/2017/12/two-friends-are-closer.jpg,When two of ur friends are closer to each other than they are to u ,When two of ur friends are closer to each other than they are to u ,funny,very_twisted,not_offensive,motivational,very_positive\\nfriends_Vegan-friends-funny-meme-700x700.jpg,http://jokideo.com/wp-content/uploads/2017/10/Vegan-friends-funny-meme-700x700.jpg,When your vegan friend gets hungry on a trip so you pull over on the side of the road to let them get a quick meal in IG: @thegainz ,When your vegan friend gets hungry on a trip so you pull over on the side of the road to let them get a quick meal in IG: @thegainz ,very_funny,general,not_offensive,not_motivational,positive\\nfriends_vTfu4sp.png,https://i.imgur.com/vTfu4sp.png,DRINKING FRIENDS ASSEMBLE!! memecrunch.com ,DRINKING FRIENDS ASSEMBLE!! memecrunch.com ,funny,general,slight,motivational,very_positive\\nfriends_we-all-have-one-friend-who-makes-sexual-innuendos-out-5841355.png,https://pics.me.me/we-all-have-one-friend-who-makes-sexual-innuendos-out-5841355.png,WE ALL HAVE ONE FRIEND WHO MAKES SEXUAL INNUENDOS OUT OF EVERYTHING YOU SAY. ,WE ALL HAVE ONE FRIEND WHO MAKES SEXUAL INNUENDOS OUT OF EVERYTHING YOU SAY. ,funny,not_sarcastic,not_offensive,not_motivational,neutral\\nfriends_we-all-have-that-guy-friend-who-listen-f-vletdissemgoguys-6012083.png,https://pics.me.me/we-all-have-that-guy-friend-who-listen-f-vletdissemgoguys-6012083.png,WE ALL HAVE THAT GUY FRIEND WHO LISTEN f/LETDISSEMGOGUYS TO YOUR TALKS NO MATTER HOW LONG YOU SPEAK ,WE ALL HAVE THAT GUY FRIEND WHO LISTEN f/LETDISSEMGOGUYS TO YOUR TALKS NO MATTER HOW LONG YOU SPEAK ,funny,general,slight,motivational,neutral\\nfriends_We-all-have-that-one-friend---animal-meme.jpg,http://jokideo.com/wp-content/uploads/meme/2016/05/We-all-have-that-one-friend---animal-meme.jpg,WE ALL HAVE THAT ONE FRIEND ,WE ALL HAVE THAT ONE FRIEND ,funny,twisted_meaning,not_offensive,not_motivational,positive\\nfriends_when-i-see-my-best-friend-in-public-43-best-47808915.png,https://pics.awwmemes.com/when-i-see-my-best-friend-in-public-43-best-47808915.png,When I see my best friend in public 43 Best Friends Memes to Share with Your Closest Friends Best Wishes and Quotes.com || Words from the Heart ,When I see my best friend in public 43 Best Friends Memes to Share with Your Closest Friends Best Wishes and Quotes.com || Words from the Heart ,very_funny,general,very_offensive,not_motivational,very_positive\\nfriends_when-my-friends-says-he-ilkes-jojo-when-he-starts-43425437.png,https://pics.awwmemes.com/when-my-friends-says-he-ilkes-jojo-when-he-starts-43425437.png,When my friends says he likes jojo When he starts making “it was me dio” memes (Spoilers kinda) same guy :( ,When my friends says he likes jojo When he starts making “it was me dio” memes (Spoilers kinda) same guy :( ,very_funny,twisted_meaning,slight,not_motivational,positive\\nfriends_when-that-one-friend-who-never-has-anything-intelligent-to-18039426.png,https://pics.conservativememes.com/when-that-one-friend-who-never-has-anything-intelligent-to-18039426.png,When that one friend who never has anything intelligent to say actually says something smart: sorelatable.tumblr.com Posted By: Gordon Colman e memez.com ,When that one friend who never has anything intelligent to say actually says something smart: sorelatable.tumblr.com Posted By: Gordon Colman e memez.com ,funny,twisted_meaning,slight,not_motivational,negative\\nfriends_when-you-invite-your-friend-out-and-they-show-up-14704515.png,https://pics.conservativememes.com/when-you-invite-your-friend-out-and-they-show-up-14704515.png,When you invite your friend out and they show up with their other friend you can't stand ...Oh. Luigi came too. Super. i cant relate i have no friends ,When you invite your friend out and they show up with their other friend you can't stand ...Oh. Luigi came too. Super. i cant relate i have no friends ,funny,not_sarcastic,not_offensive,not_motivational,very_positive\\nfriends_when-youre-looking-in-the-comments-section-for-memes-but-47711207.png,https://pics.conservativememes.com/when-youre-looking-in-the-comments-section-for-memes-but-47711207.png,When you're looking in the comments section for memes but it's just people tagging their shitty friends ,When you're looking in the comments section for memes but it's just people tagging their shitty friends ,not_funny,not_sarcastic,not_offensive,not_motivational,positive\\nfriends_when-your-too-shy-friend-memes.jpg,https://sayingimages.com/wp-content/uploads/when-your-too-shy-friend-memes.jpg,When you're too shy to talk to your crush and you ask your friends for advice A friend's advice: A best friend's advice: That's okay. Give it time. STOP BEING A LITTLE BITCH ,When you're too shy to talk to your crush and you ask your friends for advice A friend's advice: A best friend's advice: That's okay. Give it time. STOP BEING A LITTLE BITCH ,very_funny,twisted_meaning,very_offensive,not_motivational,very_positive\\nfriends_when-you-were-the-weird-goth-friend-but-10-years-23831870.png,https://pics.astrologymemes.com/when-you-were-the-weird-goth-friend-but-10-years-23831870.png,When you were the weird goth friend but 10+ years of eyeliner practice paid off Marriak Yasss wings so sharp they cut a hoe repost & gofollow my girl @pearlsuicide ,When you were the weird goth friend but 10+ years of eyeliner practice paid off Marriak Yasss wings so sharp they cut a hoe repost & gofollow my girl @pearlsuicide ,not_funny,not_sarcastic,not_offensive,motivational,very_negative\\nfriends_why-i-have-no-friends-throwback-to-the-early-skit-3924904.png,https://pics.conservativememes.com/why-i-have-no-friends-throwback-to-the-early-skit-3924904.png,WHY I HAVE NO FRIENDS Throwback to the early skit | shot with Page. I should have a new one up tomorrow around noon-ish. ,WHY I HAVE NO FRIENDS Throwback to the early skit | shot with Page. I should have a new one up tomorrow around noon-ish. ,funny,general,slight,not_motivational,positive\\nfriends_why-we-need-best-friends-because-they-laugh-at-our-56147823.png,https://pics.me.me/why-we-need-best-friends-because-they-laugh-at-our-56147823.png,Why we need BEST FRIENDS Because they laugh at our stupid jokes. Because they give us advice. Because they are there for us,Why we need BEST FRIENDS Because they laugh at our stupid jokes. Because they give us advice. Because they are there for us,funny,general,slight,not_motivational,very_positive\\nfriends_yellow-octopus-friends-memes-13-300x300.jpg,https://blog.yellowoctopus.com.au/wp-content/uploads/2017/07/yellow-octopus-friends-memes-13-300x300.jpg,3x02 GAANOTHSCENES You know what's weird. Donald Duck never wore pants. But whenever he's getting out of the shower,3x02 GAANOTHSCENES You know what's weird. Donald Duck never wore pants. But whenever he's getting out of the shower  he always put a towel around his waist. ,funny,very_twisted,slight,not_motivational,positive\\nfriends_you-kissed-a-guy-my-defense-it-wasdark-and-he-11114766.png,https://pics.me.me/you-kissed-a-guy-my-defense-it-wasdark-and-he-11114766.png,You kissed a guy? in my defense,You kissed a guy? in my defense  it was dark and he was a very pretty guy. ,not_funny,general,slight,not_motivational,neutral\\nfriends_zf4kw.jpg,https://i.imgflip.com/zf4kw.jpg,YOU WERE THE ONE WHO ASKED ME FOR ADVICE WHY WOULD YOU GET PISSED WHEN I GAVE IT TO YOU? imgflip.com ,YOU WERE THE ONE WHO ASKED ME FOR ADVICE WHY WOULD YOU GET PISSED WHEN I GAVE IT TO YOU? imgflip.com ,funny,general,slight,motivational,positive\\ngene_10LhSR46N.jpg,https://i.imgur.com/LhSR46N.jpg,R.I.P.GENE WILDER The Contou JUNE 11 1933 - AUGUST 29 2016 YOU WILL ALWAYS BE REMEMBERED FOR YOUR COMEDIC GENIUS THROUGH YOUR MOVIES AND YOU WILL BE FOREVER IMMORTALIZED WITH MEMES! ,R.I.P.GENE WILDER The Contou JUNE 11 1933 - AUGUST 29 2016 YOU WILL ALWAYS BE REMEMBERED FOR YOUR COMEDIC GENIUS THROUGH YOUR MOVIES AND YOU WILL BE FOREVER IMMORTALIZED WITH MEMES! ,very_funny,twisted_meaning,very_offensive,not_motivational,neutral\\ngene_19CrDhja0UsAAvyTv.jpg,https://pbs.twimg.com/media/CrDhja0UsAAvyTv.jpg,YOU USE INSTAGRAM? YOU MUST BE AN EXCELLENT PHOTOGRAPHER ,YOU USE INSTAGRAM? YOU MUST BE AN EXCELLENT PHOTOGRAPHER ,funny,general,slight,not_motivational,positive\\ngene_22fc415630-505d-0134-3e34-0ad17316e277.jpg,https://typeset-beta.imgix.net/lovelace/uploads/362/fc415630-505d-0134-3e34-0ad17316e277.jpg,YOU CONSTANTLY JUDGE OTHERS? TELL ME JUST HOW PERFECT YOU ARE. LE memecenter.com Memetenter ,YOU CONSTANTLY JUDGE OTHERS? TELL ME JUST HOW PERFECT YOU ARE. ,funny,general,not_offensive,not_motivational,neutral\\ngene_32gene-wilder-dr-frankenstein-meme-data.jpg,https://www.abc.net.au/cm/lb/7798192/data/gene-wilder-dr-frankenstein-meme-data.jpg,WAIT,WAIT  YOU'RE HOW OLD? HAPPY BIRTHDAY ,hilarious,general,slight,not_motivational,neutral\\ngene_38ce04c03c57406c8d8494c25bdbfe6a0--worthless-stay-strong.jpg,https://i.pinimg.com/236x/8c/e0/4c/8ce04c03c57406c8d8494c25bdbfe6a0--worthless-stay-strong.jpg,OH. YOU TAKE ADDERALL? YOU MUST HAVE REALLY BAD ADD LA XXI ,OH. YOU TAKE ADDERALL? YOU MUST HAVE REALLY BAD ADD LA XXI ,funny,general,slight,not_motivational,very_positive\\ngene_43so-your-not-a-whore-half-a-gram-says-you-are-16385.png,https://www.mememaker.net/api/bucket?path=static/img/memes/full/2018/Jul/17/15/so-your-not-a-whore-half-a-gram-says-you-are-16385.png,MY AWESOME MEME TEXT.. MY AWESOME ,MY AWESOME MEME TEXT.. MY AWESOME ,very_funny,very_twisted,very_offensive,motivational,very_positive\\ngene_52when-you-were-a-dead-meme-but-now-youre-actually-17688880.png,https://pics.me.me/when-you-were-a-dead-meme-but-now-youre-actually-17688880.png,When you were a dead meme but now you're actually dead VIA 9GAG.COM ,When you were a dead meme but now you're actually dead VIA 9GAG.COM ,funny,general,very_offensive,not_motivational,neutral\\ngene_53we-are-the-music-makers-and-we-are-the-dreamers-23961576.png,https://pics.astrologymemes.com/we-are-the-music-makers-and-we-are-the-dreamers-23961576.png,WE ARE THE MUSIC MAKERS AND WE ARE THE DREAMERS OF DREAMS R.I.P. Gene Wilder. ,WE ARE THE MUSIC MAKERS AND WE ARE THE DREAMERS OF DREAMS R.I.P. Gene Wilder. ,very_funny,general,not_offensive,motivational,positive\\ngene_67rest-in-peace-gene-wilder-1983-2016-genewilder-rip-20115316.png,https://pics.conservativememes.com/rest-in-peace-gene-wilder-1983-2016-genewilder-rip-20115316.png,REST IN PEACE GENE WILDER 1933 - 2016 shared :'( #genewilder #rip #willywonka ,REST IN PEACE GENE WILDER 1933 - 2016 shared :'( #genewilder #rip \" (found at least ' ')\n",
            "<urlopen error [Errno 110] Connection timed out>\n",
            "HTTP Error 403: Forbidden\n",
            "<urlopen error [Errno -3] Temporary failure in name resolution>\n",
            "URL can't contain control characters. \"/teepublic/image/private/s--9yyptJCE--/t_Preview/b_rgb:191919,I HAVE A GF w ,I HAVE A GF ,funny,general,not_offensive,not_motivational,positive\\ngf_5143660-0f4b417ed71aa6ec60a2319e1b9a6df7-1535225868-728-7a0db40e17-1536318500.jpg,https://files.brightside.me/files/news/part_60/600310/5143660-0f4b417ed71aa6ec60a2319e1b9a6df7-1535225868-728-7a0db40e17-1536318500.jpg,Being called cute all the time But you're still single... ,Being called cute all the time But you're still single... ,hilarious,general,not_offensive,not_motivational,negative\\ngf_23880178.jpg,https://memegenerator.net/img/instances/23880178.jpg,HE WILL NEVER HAVEA GIRLFRIEND memegenerator.net ,HE WILL NEVER HAVEA GIRLFRIEND memegenerator.net ,funny,general,slight,not_motivational,neutral\\ngf_50269614.jpg,https://memegenerator.net/img/instances/50269614.jpg,I LOVE MY GIRLFRIEND EVERY DAY OF THE MONTH HICHI yeutiator.net ,I LOVE MY GIRLFRIEND EVERY DAY OF THE MONTH memesgenerator.net ,funny,general,not_offensive,not_motivational,neutral\\ngf_53882618_2304379733164926_5251221271102482406_n-9396233777.jpg,https://ahseeit.com//king-include/uploads/2019/04/53882618_2304379733164926_5251221271102482406_n-9396233777.jpg,When you finally meet your online girlfriend. -Ahh,When you finally meet your online girlfriend. -Ahh  i see you're a man as well. ,not_funny,general,slight,not_motivational,neutral\\ngf_56317749_647021575757223_9124331978966921132_n-3074569660.jpg,https://ahseeit.com/tamil/king-include/uploads/2019/04/56317749_647021575757223_9124331978966921132_n-3074569660.jpg,That Moment * Me mt KOLITHI PODUVOM.. When our committed friend got Breakup with his girlfriend ,That Moment * Me mt KOLITHI PODUVOM.. When our committed friend got Breakup with his girlfriend ,very_funny,twisted_meaning,slight,motivational,neutral\\ngf_59068360.jpg,https://memegenerator.net/img/instances/59068360.jpg,MY SEXY GIRLFRIEND MAKES ME S0000 HAPPY 119 .net ,MY SEXY GIRLFRIEND MAKES ME S0000 HAPPY memegenerator.net ,funny,general,slight,not_motivational,positive\\ngf_782827540914c726e6f545c110c2bf13fc0c097bad65cc5168223f2790a108fc.jpg,http://www.quickmeme.com/img/78/782827540914c726e6f545c110c2bf13fc0c097bad65cc5168223f2790a108fc.jpg,DISCOVERS SANE GIRLFRIEND MEME NOT OKAY WITH IT quickmeme.com ,DISCOVERS SANE GIRLFRIEND MEME NOT OKAY WITH IT quickmeme.com ,funny,twisted_meaning,slight,motivational,very_positive\\ngf_a0081a64127d30c06294458f909795ea--so-funny-hilarious.jpg,https://i.pinimg.com/236x/a0/08/1a/a0081a64127d30c06294458f909795ea--so-funny-hilarious.jpg,My boyfriend isn't allowed to have candles on his birthday cake. INSTAGRAM@OLIVIABOSSCHICK Wtf are you wishing for? All your dreams came true when you met me. ,My boyfriend isn't allowed to have candles on his birthday cake. INSTAGRAM@OLIVIABOSSCHICK Wtf are you wishing for? All your dreams came true when you met me. ,hilarious,not_sarcastic,very_offensive,motivational,negative\\ngf_a-real-girlfriend-acts-like-your-mom-sam-fb-com-feelmyh-pain-9889808.png,https://pics.awwmemes.com/a-real-girlfriend-acts-like-your-mom-sam-fb-com-feelmyh-pain-9889808.png,A real girlfriend acts Like your Mom SAIM Fb.com/feelmyheartpain your best friend and your girl friend ,A real girlfriend acts Like your Mom SAIM Fb.com/feelmyheartpain your best friend and your girl friend ,not_funny,not_sarcastic,not_offensive,not_motivational,negative\\ngf_Asked-Girlfriend-What-Was-Wrong-600x600.jpg,http://www.funnybeing.com/wp-content/uploads/2017/03/Asked-Girlfriend-What-Was-Wrong-600x600.jpg,ASKED GIRLFRIEND WHAT WAS WRONG SHE TOLD ME FunnyBeing.com ,ASKED GIRLFRIEND WHAT WAS WRONG SHE TOLD ME ,funny,general,slight,motivational,positive\\ngf_c88ee9a6b76066f4235983f05f102e9d70d4d48b7478097006072ec31b8869f8.jpg,http://www.quickmeme.com/img/c8/c88ee9a6b76066f4235983f05f102e9d70d4d48b7478097006072ec31b8869f8.jpg,OSINK YOU ARE HANDSOME AND A LITTLE FAT Vagabond ,I SINK YOU ARE HANDSOME AND A LITTLE FAT Vagabond ,funny,not_sarcastic,not_offensive,not_motivational,positive\\ngf_ce9458b86ed7ac2b938073f758b8799b026f9f14d42001c6aaa05aead00595ca.jpg,http://www.quickmeme.com/img/ce/ce9458b86ed7ac2b938073f758b8799b026f9f14d42001c6aaa05aead00595ca.jpg,WELCOME TO ARGUING WITH YOUR GIRLFRIEND WHERE EVERYTHING'S MADE UP AND GOOD POINTS DONT MATTER ALT Guickmeme.com ,WELCOME TO ARGUING WITH YOUR GIRLFRIEND WHERE EVERYTHING'S MADE UP AND GOOD POINTS DONT MATTER ,very_funny,twisted_meaning,slight,motivational,negative\\ngf_crazy_girlfriend_meme_collection_02-s600x596-285225-420.jpg,https://files.sharenator.com/crazy_girlfriend_meme_collection_02-s600x596-285225-420.jpg,OH\" (found at least ' ')\n",
            "HTTP Error 404: Not Found\n",
            "<urlopen error [Errno 110] Connection timed out>\n",
            "HTTP Error 404: Not Found\n",
            "HTTP Error 404: Not Found\n",
            "HTTP Error 404: Not Found\n",
            "HTTP Error 404: Not Found\n",
            "HTTP Error 522: Origin Connection Time-out\n",
            "HTTP Error 404: Not Found\n",
            "HTTP Error 522: Origin Connection Time-out\n",
            "HTTP Error 401: Unauthorized\n",
            "<urlopen error [Errno 110] Connection timed out>\n",
            "<urlopen error [Errno -3] Temporary failure in name resolution>\n",
            "HTTP Error 404: Not Found\n",
            "<urlopen error [Errno 110] Connection timed out>\n",
            "HTTP Error 404: Not Found\n",
            "HTTP Error 404: Not Found\n",
            "HTTP Error 522: Origin Connection Time-out\n",
            "HTTP Error 522: Origin Connection Time-out\n",
            "HTTP Error 522: Origin Connection Time-out\n",
            "HTTP Error 522: Origin Connection Time-out\n",
            "HTTP Error 403: Forbidden\n",
            "<urlopen error [Errno 110] Connection timed out>\n",
            "<urlopen error [Errno 110] Connection timed out>\n",
            "HTTP Error 404: Not Found\n",
            "HTTP Error 404: Not Found\n",
            "HTTP Error 403: Forbidden\n",
            "HTTP Error 522: Origin Connection Time-out\n",
            "HTTP Error 404: Not Found\n",
            "HTTP Error 403: Forbidden\n",
            "HTTP Error 403: Forbidden\n",
            "HTTP Error 404: Not Found\n",
            "URL can't contain control characters. '/tachyon/2018/04/notmypotus.jpg?resize=411,ON FEB 29,ON FEB 29  2017  Hillary Clinton founded notmypit.us ,very_funny,twisted_meaning,very_offensive,motivational,positive\\nhillary_PhotoGrid_1540553018259-1024x567.jpg,https://thelibertarianrepublic.com/wp-content/uploads/2018/10/PhotoGrid_1540553018259-1024x567.jpg,Facebook foils freedom plot?? 40 22 ,Facebook foils freedom plot?? ,very_funny,twisted_meaning,not_offensive,not_motivational,neutral\\nhillary_putin-has-a-slogan-too-make-russia-great-again-crooked-5746926.png,https://pics.esmemes.com/putin-has-a-slogan-too-make-russia-great-again-crooked-5746926.png,Putin has a slogan too... Make Russia Great Again!\" Crooked Hillary' (found at least ' ')\n",
            "HTTP Error 400: Bad Request\n",
            "HTTP Error 522: Origin Connection Time-out\n",
            "HTTP Error 403: Forbidden\n",
            "<urlopen error [Errno -2] Name or service not known>\n",
            "HTTP Error 403: Forbidden\n",
            "HTTP Error 522: Origin Connection Time-out\n",
            "HTTP Error 522: Origin Connection Time-out\n",
            "HTTP Error 522: Origin Connection Time-out\n",
            "HTTP Error 522: Origin Connection Time-out\n",
            "HTTP Error 522: Origin Connection Time-out\n",
            "HTTP Error 522: Origin Connection Time-out\n",
            "HTTP Error 404: Not Found\n",
            "<urlopen error [Errno 110] Connection timed out>\n",
            "HTTP Error 404: Not Found\n",
            "HTTP Error 404: Not Found\n",
            "<urlopen error [Errno 99] Cannot assign requested address>\n",
            "HTTP Error 522: Origin Connection Time-out\n",
            "HTTP Error 522: Origin Connection Time-out\n",
            "HTTP Error 404: Not Found\n",
            "HTTP Error 401: Unauthorized\n",
            "HTTP Error 404: Not Found\n",
            "HTTP Error 522: Origin Connection Time-out\n",
            "HTTP Error 404: Not Found\n",
            "HTTP Error 403: Forbidden\n",
            "HTTP Error 404: Not Found\n",
            "HTTP Error 401: Unauthorized\n",
            "<urlopen error [Errno -3] Temporary failure in name resolution>\n",
            "HTTP Error 404: File Not Found\n",
            "HTTP Error 404: File Not Found\n",
            "HTTP Error 404: File Not Found\n",
            "HTTP Error 404: File Not Found\n",
            "HTTP Error 404: Not Found\n",
            "HTTP Error 404: Not Found\n",
            "<urlopen error [Errno 110] Connection timed out>\n",
            "HTTP Error 403: Forbidden\n",
            "HTTP Error 522: Origin Connection Time-out\n",
            "HTTP Error 522: Origin Connection Time-out\n",
            "<urlopen error [Errno 110] Connection timed out>\n",
            "HTTP Error 404: Not Found\n",
            "HTTP Error 404: Not Found\n",
            "HTTP Error 522: Origin Connection Time-out\n",
            "HTTP Error 404: Not Found\n",
            "<urlopen error [Errno 110] Connection timed out>\n",
            "HTTP Error 404: Not Found\n",
            "HTTP Error 522: Origin Connection Time-out\n",
            "HTTP Error 404: Not Found\n",
            "HTTP Error 400: Bad Request\n",
            "HTTP Error 404: Not Found\n",
            "HTTP Error 403: Forbidden\n",
            "<urlopen error [Errno 111] Connection refused>\n",
            "<urlopen error [Errno 111] Connection refused>\n",
            "HTTP Error 404: Not Found\n",
            "HTTP Error 404: Not Found on Accelerator\n",
            "HTTP Error 404: Not Found on Accelerator\n",
            "HTTP Error 404: Not Found on Accelerator\n",
            "HTTP Error 404: Not Found on Accelerator\n",
            "HTTP Error 404: Not Found\n",
            "<urlopen error [Errno 111] Connection refused>\n",
            "HTTP Error 401: Unauthorized\n",
            "hostname 'funnymememaker.com' doesn't match either of 'autodiscover.wwwls29.a2hosting.com', 'cpanel.wwwls29.a2hosting.com', 'mail.wwwls29.a2hosting.com', 'webdisk.wwwls29.a2hosting.com', 'webmail.wwwls29.a2hosting.com', 'whm.wwwls29.a2hosting.com', 'www.wwwls29.a2hosting.com', 'wwwls29.a2hosting.com'\n",
            "HTTP Error 522: Origin Connection Time-out\n",
            "<urlopen error [Errno 110] Connection timed out>\n",
            "HTTP Error 404: Not Found\n",
            "HTTP Error 404: Not Found\n",
            "URL can't contain control characters. '/complex/images/c_limit,CHUCK NORRIS CATCHES ALL THE POKEMON Occorre FROM A LANDLINE ,CHUCK NORRIS CATCHES ALL THE POKEMON Occorre FROM A LANDLINE ,funny,general,not_offensive,not_motivational,positive\\nmisog_212f70a21a3-d4b6-4fbf-86ab-c60c4c19a7d6.png,https://imgix.bustle.com/rehost/2016/9/13/f70a21a3-d4b6-4fbf-86ab-c60c4c19a7d6.png,<html><head><meta content=text/html; charset=UTF-8\" http-equiv=\"content-type\"><style type=\"text/css\">ol{margin:0;padding:0}table td' (found at least ' ')\n",
            "HTTP Error 404: Not Found\n",
            "HTTP Error 522: Origin Connection Time-out\n",
            "HTTP Error 403: Forbidden\n",
            "HTTP Error 522: Origin Connection Time-out\n",
            "HTTP Error 522: Origin Connection Time-out\n",
            "HTTP Error 522: Origin Connection Time-out\n",
            "HTTP Error 403: Forbidden\n",
            "<urlopen error [Errno -2] Name or service not known>\n",
            "HTTP Error 404: Not Found\n",
            "HTTP Error 404: Not Found\n",
            "HTTP Error 522: Origin Connection Time-out\n",
            "HTTP Error 522: Origin Connection Time-out\n",
            "<urlopen error [Errno -2] Name or service not known>\n",
            "<urlopen error [Errno 110] Connection timed out>\n",
            "HTTP Error 401: Unauthorized\n",
            "HTTP Error 522: Origin Connection Time-out\n",
            "HTTP Error 522: Origin Connection Time-out\n",
            "HTTP Error 522: Origin Connection Time-out\n",
            "HTTP Error 522: Origin Connection Time-out\n",
            "HTTP Error 403: Forbidden\n",
            "HTTP Error 522: Origin Connection Time-out\n",
            "HTTP Error 522: Origin Connection Time-out\n",
            "HTTP Error 522: Origin Connection Time-out\n",
            "HTTP Error 403: Forbidden\n",
            "HTTP Error 403: Forbidden\n",
            "HTTP Error 522: Origin Connection Time-out\n",
            "<urlopen error [Errno 110] Connection timed out>\n",
            "HTTP Error 404: Not Found\n",
            "<urlopen error [Errno 110] Connection timed out>\n",
            "<urlopen error [Errno -2] Name or service not known>\n",
            "HTTP Error 522: Origin Connection Time-out\n",
            "HTTP Error 522: Origin Connection Time-out\n",
            "HTTP Error 403: Forbidden\n",
            "HTTP Error 403: Forbidden\n",
            "HTTP Error 404: Not Found\n",
            "HTTP Error 403: Forbidden\n",
            "<urlopen error [Errno 110] Connection timed out>\n",
            "HTTP Error 403: Forbidden\n",
            "HTTP Error 401: Unauthorized\n",
            "HTTP Error 522: Origin Connection Time-out\n",
            "HTTP Error 403: Forbidden\n",
            "HTTP Error 522: Origin Connection Time-out\n",
            "<urlopen error [Errno 110] Connection timed out>\n",
            "HTTP Error 404: Not Found\n",
            "URL can't contain control characters. '/sagacity/image/upload/c_limit,MAKE IT GLOW ,MAKE IT GLOW ,not_funny,general,slight,motivational,very_negative\\npicard_Screen_Shot_2015-06-17_at_1.52.19_PM_ltahyz.png,http://res.cloudinary.com/sagacity/image/upload/c_crop' (found at least ' ')\n",
            "URL can't contain control characters. '/sagacity/image/upload/c_crop,DOZENS OF PICARD-THEMED ART PIECES? SET PHASERS TO STUNNING\"!' (found at least ' ')\n",
            "HTTP Error 404: Not Found\n",
            "HTTP Error 522: Origin Connection Time-out\n",
            "HTTP Error 522: Origin Connection Time-out\n",
            "HTTP Error 403: Forbidden\n",
            "HTTP Error 403: Forbidden\n",
            "HTTP Error 403: Forbidden\n",
            "HTTP Error 403: Forbidden\n",
            "HTTP Error 403: Forbidden\n",
            "HTTP Error 403: Forbidden\n",
            "HTTP Error 403: Forbidden\n",
            "HTTP Error 403: Forbidden\n",
            "HTTP Error 403: Forbidden\n",
            "HTTP Error 522: Origin Connection Time-out\n",
            "HTTP Error 522: Origin Connection Time-out\n",
            "HTTP Error 404: Not Found\n",
            "HTTP Error 522: Origin Connection Time-out\n",
            "HTTP Error 403: Forbidden\n",
            "<urlopen error [Errno 110] Connection timed out>\n",
            "HTTP Error 404: Not Found\n",
            "HTTP Error 404: Not Found\n",
            "HTTP Error 404: Not Found\n",
            "HTTP Error 401: Unauthorized\n",
            "HTTP Error 404: Not Found\n",
            "HTTP Error 404: Not Found\n",
            "HTTP Error 404: Not Found\n",
            "HTTP Error 404: Not Found\n",
            "HTTP Error 522: Origin Connection Time-out\n",
            "HTTP Error 522: Origin Connection Time-out\n",
            "HTTP Error 522: Origin Connection Time-out\n",
            "HTTP Error 522: Origin Connection Time-out\n",
            "HTTP Error 522: Origin Connection Time-out\n",
            "HTTP Error 522: Origin Connection Time-out\n",
            "HTTP Error 404: Not Found\n",
            "HTTP Error 403: Forbidden\n",
            "HTTP Error 522: Origin Connection Time-out\n",
            "<urlopen error [Errno 110] Connection timed out>\n",
            "HTTP Error 403: Forbidden\n",
            "HTTP Error 403: Forbidden\n",
            "HTTP Error 404: Not Found\n",
            "HTTP Error 522: Origin Connection Time-out\n",
            "HTTP Error 522: Origin Connection Time-out\n",
            "HTTP Error 522: Origin Connection Time-out\n",
            "HTTP Error 522: Origin Connection Time-out\n",
            "HTTP Error 522: Origin Connection Time-out\n",
            "HTTP Error 404: Not Found\n",
            "HTTP Error 404: Not Found\n",
            "HTTP Error 522: Origin Connection Time-out\n",
            "HTTP Error 404: Not Found\n",
            "HTTP Error 404: Not Found\n",
            "HTTP Error 522: Origin Connection Time-out\n",
            "HTTP Error 401: Unauthorized\n",
            "HTTP Error 404: Not Found\n",
            "HTTP Error 403: Forbidden\n",
            "HTTP Error 522: Origin Connection Time-out\n",
            "URL can't contain control characters. '/complex/image/upload/c_limit,THEY SAYA WOMAN\\'S WORK IS NEVER DONE MAYBE THAT\\'S WHY THEY GET PAID LESS ,THEY SAYA WOMAN\\'S WORK IS NEVER DONE MAYBE THAT\\'S WHY THEY GET PAID LESS ,funny,general,slight,motivational,neutral\\nsexist_Girls-be-like-funny-sexist-meme.jpg,http://jokideo.com/wp-content/uploads/2015/08/Girls-be-like-funny-sexist-meme.jpg,Girls be like: Baby,Girls be like: Baby be careful  it\\'s my first time... ,funny,not_sarcastic,not_offensive,not_motivational,positive\\nsexist_gnrc1pE.png,https://i.imgur.com/gnrc1pE.png,I DON\\'T THINK TAKING AN EXISTING MOVIE FRANCHISE AND REPLACING ALL THE MALE LEADS WITH WOMEN IS A VERY CREATIVE OR GOOD IDEA made on imgur ,I DON\\'T THINK TAKING AN EXISTING MOVIE FRANCHISE AND REPLACING ALL THE MALE LEADS WITH WOMEN IS A VERY CREATIVE OR GOOD IDEA made on imgur ,not_funny,general,slight,not_motivational,positive\\nsexist_hates-children-meri-becomes-teacher-10-sexist-memes-we-should-49620849.png,https://pics.me.me/hates-children-meri-becomes-teacher-10-sexist-memes-we-should-49620849.png,HATES CHILDREN ASIA MERIT BECOMES TEACHER 10 Sexist Memes We Should Probably Stop Using | Complex ,HATES CHILDREN ASIA MERIT BECOMES TEACHER 10 Sexist Memes We Should Probably Stop Using | Complex ,very_funny,twisted_meaning,not_offensive,not_motivational,neutral\\nsexist_hqdefault.jpg,https://i.ytimg.com/vi/ONLcUduiYVo/hqdefault.jpg,Husband shared sexist memes on Facebook ,Husband shared sexist memes on Facebook ,funny,general,hateful_offensive,motivational,neutral\\nsexist_if-absare-made-in-the-kitchen-why-dont-all-women-16834255.png,https://pics.me.me/if-absare-made-in-the-kitchen-why-dont-all-women-16834255.png,IF ABS ARE MADE IN THE KITCHEN WHY DONT ALL WOMEN HAVE THEM? Sexism is WRONG. And being wrong is for women. Gym Memes ,IF ABS ARE MADE IN THE KITCHEN WHY DONT ALL WOMEN HAVE THEM? Sexism is WRONG. And being wrong is for women. Gym Memes ,hilarious,twisted_meaning,not_offensive,not_motivational,positive\\nsexist_IinMl7K.png,https://i.imgur.com/IinMl7K.png,That one friend who can\\'t keep her mouth shut when you tell her a dirty filthy secret THE SEXY MEMEMAKER GIRL BYE!!! Diriu Hilihu Secreis GirlByeFridays ,That one friend who can\\'t keep her mouth shut when you tell her a dirty filthy secret THE SEXY MEMEMAKER GIRL BYE!!! Diriu  Filihy Secreis GirlByeFridays ,not_funny,not_sarcastic,not_offensive,not_motivational,neutral\\nsexist_image.jpg,http://memecrunch.com/meme/BEGIY/for-those-of-you-who-think-donald-trump-is-sexist/image.jpg,FOR THOSE OF YOU WHO THINK DONALD TRUMP IS SEXIST,FOR THOSE OF YOU WHO THINK DONALD TRUMP IS SEXIST  YOU CAN SUCK MY DICK ,very_funny,general,very_offensive,not_motivational,negative\\nsexist_images-yOzJqr.jpg,https://cdn.someecards.com/posts/images-yOzJqr.jpg,POSTS SEXIST MEMES ONLINE DOESN\\'T UNDERSTAND WHY WOMEN DONT LIKE HIM ,POSTS SEXIST MEMES ONLINE DOESN\\'T UNDERSTAND WHY WOMEN DONT LIKE HIM ,not_funny,general,slight,not_motivational,neutral\\nsexist_im-not-sexist-sexism-is-wrong-and-being-wrong-is-35465528.png,https://pics.me.me/im-not-sexist-sexism-is-wrong-and-being-wrong-is-35465528.png,I\\'M NOT SEXIST SEXISM IS WRONG,I\\'M NOT SEXIST SEXISM IS WRONG,not_funny,very_twisted,very_offensive,not_motivational,positive\\nsexist_India9_trans_NvBQzQNjv4BqqVzuuqpFlyLIwiB6NTmJwRRbnTbzNxgK2PMhwxvA5xQ.jpg,https://www.telegraph.co.uk/content/dam/women/2016/03/10/India9_trans_NvBQzQNjv4BqqVzuuqpFlyLIwiB6NTmJwRRbnTbzNxgK2PMhwxvA5xQ.jpg?imwidth=450,MY FAVOURITE POSITION? PRIME MINISTER ,MY FAVOURITE POSITION? PRIME MINISTER ,very_funny,not_sarcastic,not_offensive,not_motivational,neutral\\nsexist_India15_trans_NvBQzQNjv4BqqVzuuqpFlyLIwiB6NTmJwZxvn59mA2wub_4QvAiFqkM.jpg,https://www.telegraph.co.uk/content/dam/women/2016/03/10/India15_trans_NvBQzQNjv4BqqVzuuqpFlyLIwiB6NTmJwZxvn59mA2wub_4QvAiFqkM.jpg?imwidth=480,I NEVER FORGET MY LIPSTICK AND PERFUME IS AND A TYRE WRENCH AND A HI-LIFT ,I NEVER FORGET MY LIPSTICK AND PERFUME IS AND A TYRE WRENCH AND A HI-LIFT ,funny,not_sarcastic,not_offensive,not_motivational,neutral\\nsexist_its-weird-that-cam-newton-would-make-sexist-comments-towards-28165723.png,https://pics.conservativememes.com/its-weird-that-cam-newton-would-make-sexist-comments-towards-28165723.png,IT\\'S WEIRD THAT CAM NEWTON WOULD MAKE SEXIST COMMENTS TOWARDS WOMEN @NFL_MEMES Bankolar BECAUSE HE CLEARLY DOESN\\'T MIND DRESSING LIKE THEM The craziest thing about this whole situation is that he didn\\'t dive for that football in the Super Bowl ,IT\\'S WEIRD THAT CAM NEWTON WOULD MAKE SEXIST COMMENTS TOWARDS WOMEN @NFL_MEMES Bankolar BECAUSE HE CLEARLY DOESN\\'T MIND DRESSING LIKE THEM The craziest thing about this whole situation is that he didn\\'t dive for that football in the Super Bowl ,very_funny,general,not_offensive,not_motivational,positive\\nsexist_KSSWxD7.jpg,http://i.imgur.com/KSSWxD7.jpg,WHAT HAVE MEN AND FLOOR TILES GOT IN COMMON? IF YOU LAY THEM PROPERLY THE FIRST TIME,WHAT HAVE MEN AND FLOOR TILES GOT IN COMMON? IF YOU LAY THEM PROPERLY THE FIRST TIME  YOU CAN WALK ALL OVER THEM FOR LIFE. ,very_funny,general,slight,not_motivational,neutral\\nsexist_l-30133-when-you-make-a-good-sexist-joke-but-theres-a-feminist-near.jpg,https://meme.xyz/uploads/posts/t/l-30133-when-you-make-a-good-sexist-joke-but-theres-a-feminist-near.jpg,when you make a good sexist joke but there\\'s a feminist near ,when you make a good sexist joke but there\\'s a feminist near ,very_funny,general,very_offensive,not_motivational,positive\\nsexist_LX0XLJ9.jpg,https://i.imgur.com/LX0XLJ9.jpg,Are they thinking of their secret lover? Will BMW actually ever produce an M7? ,Are they thinking of their secret lover? Will BMW actually ever produce an M7? ,funny,general,slight,motivational,neutral\\nsexist_my-husband-does-everything-ask-butihavet-ask-10-sexist-memes-54260095.png,https://pics.me.me/my-husband-does-everything-ask-butihavet-ask-10-sexist-memes-54260095.png,MY HUSBAND DOES EVERYTHINGIASK BUT I HAVE TO ASK 10 Sexist Memes We Should Probably Stop Using | Complex ,MY HUSBAND DOES EVERYTHINGIASK BUT I HAVE TO ASK 10 Sexist Memes We Should Probably Stop Using | Complex ,funny,general,not_offensive,not_motivational,positive\\nsexist_NJmGLVD.jpg,https://i.imgur.com/NJmGLVD.jpg,BUT I\\'M SUCH A NICE GUY memegenerator.net ,BUT I\\'M SUCH A NICE GUY memegenerator.net ,very_funny,general,very_offensive,motivational,positive\\nsexist_not-sexist-but-i-am-driving-funny-picture.jpg,https://crazyhyena.com/imagebank/g/not-sexist-but-i-am-driving-funny-picture.jpg,I\\'M NOT ALWAYS SEXIST AND RACIST BUT WHEN I AM,I\\'M NOT ALWAYS SEXIST AND RACIST BUT WHEN I AM  I\\'M DRIVING ,very_funny,twisted_meaning,very_offensive,motivational,neutral\\nsexist_nOz0Eye.jpg,https://i.imgur.com/nOz0Eye.jpg,Girls drool over guys and nobody bats an eye Guys drool over girls and everybody loses their minds! quickmeme.com ,Girls drool over guys and nobody bats an eye Guys drool over girls and everybody loses their minds! quickmeme.com ,very_funny,general,slight,not_motivational,positive\\nsexist_original-4336-1491558198-3-z9e0nt.png,https://cdn.someecards.com/posts/original-4336-1491558198-3-z9e0nt.png,me after taking one feminist theory class Amen Amen A-woman ,me after taking one feminist theory class -Amen -Amen A-woman ,funny,twisted_meaning,slight,motivational,very_positive\\nsexist_peta-peta-peta-youd-be-surprised-why-cheese-ls-the-27160764.png,https://pics.astrologymemes.com/peta-peta-peta-youd-be-surprised-why-cheese-ls-the-27160764.png,PETA е @peta You\\'d be surprised. Why Cheese Is the Most Sexist Thing You Can Eat. To Help End Sexism,PETA е @peta You\\'d be surprised. Why Cheese Is the Most Sexist Thing You Can Eat. To Help End Sexism  you should stop eating cheese salute ,very_funny,very_twisted,slight,not_motivational,positive\\nsexist_peter.jpg,https://basicandbipolar.files.wordpress.com/2016/02/peter.jpg?w=396,YOU KNOW WHAT REALLY GRINDS MY GEARS? RUMO Ono GEARS ALL THESE FUCKING SEXIST MEMES. GET A GIRLFRIEND AND DISCOVER WHAT WOMEN ARE TRULY LIKE YOU ARSEHOLES. wuickmeme.co. ,YOU KNOW WHAT REALLY GRINDS MY GEARS? RUMO Ono GEARS ALL THESE FUCKING SEXIST MEMES. GET A GIRLFRIEND AND DISCOVER WHAT WOMEN ARE TRULY LIKE YOU ARSEHOLES. quickmeme.com ,very_funny,general,not_offensive,not_motivational,very_positive\\nsexist_p-sexist-this-lady-who-called-me-out-for-my-16147275.png,https://pics.awwmemes.com/p-sexist-this-lady-who-called-me-out-for-my-16147275.png,SEXIST. VIA 9GAG.COM THIS LADY WHO CALLED ME OUT FOR MY HISTORY OF MISOGYNISTIC COMMENTS MUST BE ON HER PERIOD ,SEXIST. VIA 9GAG.COM THIS LADY WHO CALLED ME OUT FOR MY HISTORY OF MISOGYNISTIC COMMENTS MUST BE ON HER PERIOD ,hilarious,general,not_offensive,not_motivational,positive\\nsexist_rose-are-red-this-rhyme-makes-no-fucking-sense-starwars-21755849.png,https://pics.me.me/rose-are-red-this-rhyme-makes-no-fucking-sense-starwars-21755849.png,Rose are red this rhyme makes no fucking sense Starwars is sexist - the dark side\" symbolizes women on our periods 124K views If you say this doesnt rhyme you are Fake News' (found at least ' ')\n",
            "HTTP Error 401: Unauthorized\n",
            "HTTP Error 403: Forbidden\n",
            "HTTP Error 522: Origin Connection Time-out\n",
            "HTTP Error 404: File Not Found\n",
            "HTTP Error 404: Not Found\n",
            "URL can't contain control characters. \"/f/f7c2d9fb-5482-4275-a98a-4c642a602548/dba5s69-0d0c7d9b-b087-4615-9838-2f167a6d270d.jpg/v1/fill/w_1024,My spidey senses are currently detecting massive amounts of Bullshit ,My spidey senses are currently detecting massive amounts of Bullshit ,very_funny,not_sarcastic,not_offensive,not_motivational,neutral\\nspiderman_505bac602968a.jpeg,http://images1.memedroid.com/images/UPLOADED18/505bac602968a.jpeg,I DONT KNOW,I DON'T KNOW  SHE SAID SHE WAS 18 MEMEBASE.com ,very_funny,general,very_offensive,motivational,neutral\\nspiderman_967da21104e6bebaff5ef29423ed0871.jpeg,https://www.memesmonkey.com/images/memesmonkey/96/967da21104e6bebaff5ef29423ed0871.jpeg,OH WALL NOBODY UNDERSTANDS --- ME LIKE YOU! Monteereitor ,OH WALL NOBODY UNDERSTANDS --- ME LIKE YOU! Memecreator ,funny,general,slight,motivational,neutral\\nspiderman_1243dd8db39b65a9b526981095f79267.jpeg,https://www.memesmonkey.com/images/memesmonkey/12/1243dd8db39b65a9b526981095f79267.jpeg,u mad cuz I'm styling on you ,u mad cuz I'm styling on you ,funny,general,very_offensive,motivational,very_positive\\nspiderman_02448af6b4c2db15225599436c5c5dd6-0.jpg,https://img.buzzfeed.com/buzzfeed-static/static/2017-07/5/15/tmp/buzzfeed-prod-fastlane-03/02448af6b4c2db15225599436c5c5dd6-0.jpg?crop=625:327;0\" (found at least ' ')\n",
            "HTTP Error 404: Not Found\n",
            "HTTP Error 404: Not Found\n",
            "URL can't contain control characters. '/albums/ab282/Jaded_Conformity/Memes/Spiderman%20Memes/come-at-me-bro-Spider-Man-Meme-s480x390-196085.jpg?width=200&height=200&crop=1:1,proudly hosted on 17 photobucket COME TO COME AT ME BRO ,proudly hosted on photobucket COME AT ME BRO ,not_funny,not_sarcastic,not_offensive,not_motivational,neutral\\nspiderman_confirmedi-tom-hollands-peter-parker-also-appeared-in-the-amazing-24398837.png,https://pics.astrologymemes.com/confirmedi-tom-hollands-peter-parker-also-appeared-in-the-amazing-24398837.png,& CONFIRMED!! TOM HOLLAND\\'S PETER PARKER ALSO APPEARED IN THE AMAZING SPIDER-MAN 2!! WAIT WHAT ,& CONFIRMED!! TOM HOLLAND\\'S PETER PARKER ALSO APPEARED IN THE AMAZING SPIDER-MAN 2!! WAIT WHAT ,very_funny,general,slight,not_motivational,positive\\nspiderman_d7cde95a4cf892cff3a5ce7adf48d7b1--spiderman-spiderman-spider-meme.jpg,https://i.pinimg.com/236x/d7/cd/e9/d7cde95a4cf892cff3a5ce7adf48d7b1--spiderman-spiderman-spider-meme.jpg,DONT MIND ME JUST DOING SOME REDECORATING ,DONT MIND ME JUST DOING SOME REDECORATING ,very_funny,general,very_offensive,motivational,neutral\\nspiderman_d8d7add0a28d506e666ece72b76bca32.jpg,https://cdn.groovyhistory.com/content/55436/d8d7add0a28d506e666ece72b76bca32.jpg,I found exactly one f*** It is my gift to you. ,I found exactly one f*** It is my gift to you. ,very_funny,twisted_meaning,slight,motivational,neutral\\nspiderman_db7c04eb3325c843e05d8ab38a431e83.jpg,https://media0ch-a.akamaihd.net/96/97/db7c04eb3325c843e05d8ab38a431e83.jpg,When you share a Netflix account with your family No matter what I do,When you share a Netflix account with your family No matter what I do  no mater how hard I try  the ones I love will always be the ones who pay ,funny,general,slight,not_motivational,negative\\nspiderman_Dear-Diary-I-Wish.jpg,http://www.funnybeing.com/wp-content/uploads/2016/08/Dear-Diary-I-Wish.jpg,Dear Diary I wish I could read. FunnyBeing.com ,Dear Diary I wish I could read. FunnyBeing.com ,very_funny,general,very_offensive,motivational,positive\\nspiderman_Dear-Diary-My-Pencil-Is-Not-Working.jpg,http://www.funnybeing.com/wp-content/uploads/2016/08/Dear-Diary-My-Pencil-Is-Not-Working.jpg,DEAR DIARY,DEAR DIARY,very_funny,general,slight,motivational,very_positive\\nspiderman_e9699a0564adc52a777d0e2278def8b9825f13d0_00.jpg,http://pm1.narvii.com/6148/e9699a0564adc52a777d0e2278def8b9825f13d0_00.jpg,YOU MAY THINKIGIVE A FUCK BUT I ASSURE YOU,YOU MAY THINK I GIVE A FUCK BUT I ASSURE YOU  I GIVE NONE ,funny,general,slight,not_motivational,positive\\nspiderman_enhanced-buzz-9825-1352916194-2.jpg,https://img.buzzfeed.com/buzzfeed-static/static/enhanced/webdr02/2012/11/14/13/enhanced-buzz-9825-1352916194-2.jpg?downsize=700:*&output-format=auto&output-quality=auto,i hope no one saw me kill this guy ,i hope no one saw me kill this guy ,not_funny,not_sarcastic,very_offensive,not_motivational,negative\\nspiderman_eww-makea-spider-man-meme-with-impact-font-disgusting6-memegenerator-net-39730214.png,https://pics.ballmemes.com/eww-makea-spider-man-meme-with-impact-font-disgusting6-memegenerator-net-39730214.png,1 EWW ΜΑΚΕΙΑ SPIDER-MAN MEME WITH IMPACT FONT DISGUSTING memegenerator.net MAHE A SPIDER-MAN TEME WITH SPIDER-MAN FONT Araneae-sapien ,1 EWW ΜΑΚΕΙΑ SPIDER-MAN MEME WITH IMPACT FONT DISGUSTING memegenerator.net MAHE A SPIDER-MAN TEME WITH SPIDER-MAN FONT Araneae-sapien ,not_funny,not_sarcastic,not_offensive,not_motivational,neutral\\nspiderman_f23c9ee13db368250ad8696015d25409.png,https://i.pinimg.com/originals/f2/3c/9e/f23c9ee13db368250ad8696015d25409.png,FIGHT ME SPINACH MAN I\\'LL NEVER EAT MY VEGITABLES memecrunch.com ,FIGHT ME SPINACH MAN I\\'LL NEVER EAT MY VEGITABLES memecrunch.com ,hilarious,general,not_offensive,not_motivational,very_positive\\nspiderman_f70dfe456a8a5aad201527180e707e88.jpg,https://d.justpo.st/media/images/2013/04/f70dfe456a8a5aad201527180e707e88.jpg,SPIDER-MAN IS MY FAVORITE SUPERHERO SUPERHERO AVORITE 10.com 420smokersclub CUZ HE LOVES MARY JANE ,SPIDER-MAN IS MY FAVORITE SUPERHERO SUPERHERO AVORITE 10.com 420smokersclub CUZ HE LOVES MARY JANE ,not_funny,general,not_offensive,motivational,positive\\nspiderman_fde934a29991dc059489855f67b17b8d.jpg,https://i.pinimg.com/originals/fd/e9/34/fde934a29991dc059489855f67b17b8d.jpg,DEAR DIARY TODAY I FUCKED BITCHES AND GOT MONEY ,DEAR DIARY  TODAY I FUCKED BITCHES AND GOT MONEY ,very_funny,twisted_meaning,slight,not_motivational,neutral\\nspiderman_find-the-unique-funny-spiderman-cat-memes-of-funny-spiderman-cat-memes-1.jpg,https://paspahang.org/wp-content/uploads/2018/12/find-the-unique-funny-spiderman-cat-memes-of-funny-spiderman-cat-memes-1.jpg,I wonder Why my pillow has a boner memecenter.com MemeCenter ,I wonder Why my pillow has a boner memecenter.com MemeCenter ,very_funny,general,very_offensive,not_motivational,positive\\nspiderman_ft-23-324x160.jpg,https://bestofcomicbooks.com/wp-content/uploads/2018/03/ft-23-324x160.jpg,THAT MOMENT YOU REALIZET PETER PARKER GETS PAID EOR TAKING SELFIES THOR ,THAT MOMENT YOU REALIZET PETER PARKER GETS PAID EOR TAKING SELFIES THOR ,not_funny,general,slight,motivational,neutral\\nspiderman_fuck-you-im-spider-man-60s-spiderman.jpeg,http://weknowmemes.com/wp-content/uploads/2012/04/fuck-you-im-spider-man-60s-spiderman.jpeg,HERE ARE YOUR OPTIONS: 1. FUCK YOU I\\'M SPIDERMAN We Know Memes ,HERE ARE YOUR OPTIONS: 1. FUCK YOU I\\'M SPIDERMAN We Know Memes ,funny,general,slight,motivational,neutral\\nspiderman_Funny-adult-spiderman-meme.jpg,http://jokideo.com/wp-content/uploads/2013/09/Funny-adult-spiderman-meme.jpg,I knew you were a squirter Mary Jane Butthis is fucking riddiculous ,I knew you were a squirter Mary Jane Butthis is fucking riddiculous ,funny,very_twisted,slight,not_motivational,neutral\\nspiderman_goXRX.jpg,https://i2.wp.com/i.imgur.com/goXRX.jpg?resize=400%2C294&quality=100,YOUR STORY REMINDS ME OF THE TIME I ALMOST GAVE A FUCK memegenerator.net ,YOUR STORY REMINDS ME OF THE TIME I ALMOST GAVE A FUCK memegenerator.net ,not_funny,general,very_offensive,not_motivational,very_positive\\nspiderman_ipnxcsdrgq811.jpg,https://i.redd.it/ipnxcsdrgq811.jpg,Rare re-creation of George Bush capturing the man responsible for 9/11 ,Rare re-creation of George Bush capturing the man responsible for 9/11 ,very_funny,twisted_meaning,slight,not_motivational,positive\\nspiderman_ive-spent-the-first-hour-of-spider-man-on-ps4-just-36116666.png,https://pics.me.me/ive-spent-the-first-hour-of-spider-man-on-ps4-just-36116666.png,I\\'ve spent the first hour of Spider-Man on PS4 just taking photos of the ideal male body Time to invest on Spiderman memes again? ,I\\'ve spent the first hour of Spider-Man on PS4 just taking photos of the ideal male body Time to invest on Spiderman memes again? ,funny,not_sarcastic,not_offensive,not_motivational,positive\\nspiderman_i-want-pictures-of-spiderman-memes-1.jpg,https://memebomb.net/wp-content/uploads/2019/03/i-want-pictures-of-spiderman-memes-1.jpg,LET ME TELL YOU WHY THATS BULLSHIT imgflip.com ,LET ME TELL YOU WHY THATS BULLSHIT imgflip.com ,very_funny,twisted_meaning,not_offensive,not_motivational,positive\\nspiderman_k3vcay7lv2j11.jpg,https://i.redd.it/k3vcay7lv2j11.jpg,r/todayilearned u/thecheckeredflick• 10h TIL that in 2015,r/todayilearned u/thecheckeredflick• 10h TIL that in 2015  two men sold a fake Goya painting for €1.5 million  only to find out all the money paid was counterfeit. ,very_funny,twisted_meaning,not_offensive,not_motivational,neutral\\nspiderman_l-25603-the-first-time-deadpool-met-spider-man-he-told-him-that-he-was-spider-man-from-the-future.jpg,https://meme.xyz/uploads/posts/t/l-25603-the-first-time-deadpool-met-spider-man-he-told-him-that-he-was-spider-man-from-the-future.jpg,THE FIRST TIME DEADPOOL MET SPIDER-MAN HE TOLD HIM THAT HE WAS SPIDER-MAN FROM THE FUTURE ,THE FIRST TIME DEADPOOL MET SPIDER-MAN HE TOLD HIM THAT HE WAS SPIDER-MAN FROM THE FUTURE ,not_funny,not_sarcastic,not_offensive,not_motivational,neutral\\nspiderman_l-38250-leaked-footage-of-spider-man-versus-antman.jpg,https://meme.xyz/uploads/posts/t/l-38250-leaked-footage-of-spider-man-versus-antman.jpg,Leaked footage of Spider-Man versus AntMan ,Leaked footage of Spider-Man versus AntMan ,not_funny,general,not_offensive,not_motivational,positive\\nspiderman_large.60s-spiderman-meme-collection-1mut.com-4.png.83054f3553a59302ae717be6736cffac.png,http://forums.digitalcommunitycafe.com/uploads/monthly_2016_04/large.60s-spiderman-meme-collection-1mut.com-4.png.83054f3553a59302ae717be6736cffac.png,THE SPIDER ON MY BACK ONLY HAS SIX LEGS ..I AM LIVING A LIE ,THE SPIDER ON MY BACK ONLY HAS SIX LEGS ..I AM LIVING A LIE ,hilarious,twisted_meaning,slight,not_motivational,very_positive\\nspiderman_large.Batman-Spiderman-Memes-5.jpg.3916f9e21cb31587f14cb38c4fb4d59e.jpg,http://forums.digitalcommunitycafe.com/uploads/monthly_2016_04/large.Batman-Spiderman-Memes-5.jpg.3916f9e21cb31587f14cb38c4fb4d59e.jpg,,HEY BATMAN HOW ARE YOUR PARENTS MemeCenter MemeCenter ,funny,general,very_offensive,not_motivational,neutral\\nspiderman_Railroad-Deadpool-Spider-Man-Meme-5afdfe58a9d4f90036d875aa.jpg,https://www.lifewire.com/thmb/gxhOQ3mwNkr8eOwRUFvJjjhm9zw=/768x640/filters:no_upscale():max_bytes(150000):strip_icc()/Railroad-Deadpool-Spider-Man-Meme-5afdfe58a9d4f90036d875aa.jpg,OH,OH  I\\'M SORRY WERE YOU LOOKING FOR DEADPOOL? imgflip.com ,very_funny,general,very_offensive,not_motivational,positive\\nspiderman_rwufjGV.jpg,http://i.imgur.com/rwufjGV.jpg,SHIT\\'S FROZEN. ,SHIT\\'S FROZEN. ,not_funny,not_sarcastic,not_offensive,not_motivational,neutral\\nspiderman_since-we-are-bringing-back-spiderman-memes-this-is-my-personal-favorite-gonna-start-uploading-my-own-tomorrow-cheers.jpg,http://www.bestfunnypic.com/data/funny/since-we-are-bringing-back-spiderman-memes-this-is-my-personal-favorite-gonna-start-uploading-my-own-tomorrow-cheers.jpg,EXCELLENT THE STRIPPERS ARE HERE ,EXCELLENT THE STRIPPERS ARE HERE ,very_funny,general,slight,not_motivational,positive\\nspiderman_spiderman-9.jpg,https://www.dailymoss.com/wp-content/uploads/2018/04/spiderman-9.jpg,I prefer the real Spiderman I said,I prefer the real Spiderman I said  the real Spiderman  I said  the real Spiderman perfection ,very_funny,twisted_meaning,not_offensive,motivational,positive\\nspiderman_spider-man-and-the-kids_o_1039979.jpg,https://img.memecdn.com/spider-man-and-the-kids_o_1039979.jpg,Spiderman-son PSSST WANT SOME CANDY? I\\'M NOT GONNA LIE,Spiderman-son PSSST WANT SOME CANDY? I\\'M NOT GONNA LIE  KID THERE WAS NEVER ANY CANDY MemeCenter.com MemeCenter ,very_funny,general,very_offensive,not_motivational,very_positive\\nspiderman_spider-man-drstrange-ron-man-a-few-hours-later-iron-man-1Gfre.jpg,https://cdn.dopl3r.com/memes_files/spider-man-drstrange-ron-man-a-few-hours-later-iron-man-1Gfre.jpg,SPIDER MAN IRON MAN DR. STRANGE a few hours later \"IRON MAN' (found at least ' ')\n",
            "HTTP Error 403: Forbidden\n",
            "HTTP Error 401: Unauthorized\n",
            "<urlopen error [Errno -2] Name or service not known>\n",
            "<urlopen error [Errno -3] Temporary failure in name resolution>\n",
            "<urlopen error [Errno -3] Temporary failure in name resolution>\n",
            "URL can't contain control characters. '/complex/image/upload/c_limit,@NBAMEMES BWANT 24 de HOW KOBE SEES DWIGHT ,@NBAMEMES BWANT 24 CKET HOW KOBE SEES DWIGHT ,hilarious,twisted_meaning,slight,motivational,positive\\nsports_im-calling-out-sick-until-my-bracket-is-busted-fx0.png,https://cdn.someecards.com/someecards/filestorage/im-calling-out-sick-until-my-bracket-is-busted-fx0.png,I\\'m calling out sick until my bracket is busted. someecards ,I\\'m calling out sick until my bracket is busted. someecards ,funny,general,very_offensive,motivational,neutral\\nsports_i-miss-hockey.jpg,https://tullysportsblog.files.wordpress.com/2012/11/i-miss-hockey.jpg,ICAN COUNT TO POTATO 2 JUSTCAPSHUNZ.com ,I CAN COUNT TO POTATO 2 JUSTCAPSHUNZ.com ,very_funny,twisted_meaning,very_offensive,not_motivational,neutral\\nsports_im-the-michael-jordan-of-getting-on-peoples-nerves-memegenerator-net-18458673.png,https://pics.ballmemes.com/im-the-michael-jordan-of-getting-on-peoples-nerves-memegenerator-net-18458673.png,I\\'M THE MICHAEL JORDAN OF GETTING ON PEOPLES NERVES memegenerator.net Follow us for more funny Sports Memes ,I\\'M THE MICHAEL JORDAN OF GETTING ON PEOPLES NERVES memegenerator.net Follow us for more funny Sports Memes ,funny,twisted_meaning,very_offensive,motivational,positive\\nsports_is-it-cool-sport-memes.jpg,https://sayingimages.com/wp-content/uploads/is-it-cool-sport-memes.jpg,Coach is it cool if I step in the game real quick? They need me... ,Coach is it cool if I step in the game real quick? They need me... ,very_funny,very_twisted,slight,motivational,positive\\nsports_LJ_Hoes_Meme_650x483.jpg,http://jobusrum.com/wp-content/uploads/2016/01/LJ_Hoes_Meme_650x483.jpg,LL. HOES Orioles IN DIFFERENT AREA CODES ,L.J.HOES Orioles IN DIFFERENT AREA CODES ,very_funny,not_sarcastic,not_offensive,not_motivational,positive\\nsports_love-hockey-except-sports-ecard-someecards.jpg,https://cdn.someecards.com/someecards/filestorage/love-hockey-except-sports-ecard-someecards.jpg,I love hockey except for the agonizing moments when no fight is happening. De CL someecards ,love hockey except for the agonizing moments when no fight is happening. someecards ,hilarious,very_twisted,hateful_offensive,not_motivational,very_positive\\nsports_make-a-wil-sports-meme-it-does-really-well-never-43491793.png,https://pics.awwmemes.com/make-a-wil-sports-meme-it-does-really-well-never-43491793.png,Make a wii sports meme It does really well Never be able to do that well again Never be able to do that well again Make more matt memes Me_irl ,Make a wii sports meme It does really well Never be able to do that well again Never be able to do that well again Make more matt memes Me_irl ,funny,general,not_offensive,motivational,negative\\nsports_manti-teo.jpg,https://cdn.tiebreaker.com/wp-content/uploads/2019/01/manti-teo.jpg,I KNOW FOR A FACT RYAN LOCHTE UnionBank GOT ROBBED,I KNOW FOR A FACT RYAN LOCHTE UnionBank GOT ROBBED  UnionBank MY GIRLFRIEND WAS THERE AND SAW THE WHOLE THING. memegenerator.net ,very_funny,general,slight,not_motivational,positive\\nsports_marshawn-nfl.png,http://nocoastbias.com/wp-content/uploads/2014/12/marshawn-nfl.png,<html><head><meta content=text/html; charset=UTF-8\" http-equiv=\"content-type\"><style type=\"text/css\">ol{margin:0;padding:0}table td' (found at least ' ')\n",
            "URL can't contain control characters. '/complex/image/upload/c_limit,JOSH SHAW DIDN\\'T LIE ABOUT SAVING HIS NEPHEW @NFL MEMES MY GIRLFRIEND SAW THE WHOLE THING ,JOSH SHAW DIDN\\'T LIE ABOUT SAVING HIS NEPHEW @NFL MEMES MY GIRLFRIEND SAW THE WHOLE THING ,not_funny,general,slight,motivational,neutral\\nsports_nfl-memes-each-sport-has-its-greatest-13-51-but-he-2669596.png,https://pics.me.me/nfl-memes-each-sport-has-its-greatest-13-51-but-he-2669596.png,@NFL_MEMES EACH SPORT HAS IT\\'S GREATEST BUT HE WAS SPORTS\\' GREATEST RIP MUHAMMAD ALI RIP Champ.. ,@NFL_MEMES EACH SPORT HAS IT\\'S GREATEST BUT HE WAS SPORTS\\' GREATEST RIP MUHAMMAD ALI RIP Champ.. ,not_funny,not_sarcastic,not_offensive,motivational,neutral\\nsports_office.png,https://cdn.theatlantic.com/media/old_wire/img/upload/2012/06/19/office.png,HORSEBACK RIDING IS SO EASY\" FALSE. IT IS ONE OF THE MOST DEMANDING' (found at least ' ')\n",
            "HTTP Error 404: Not Found\n",
            "HTTP Error 401: Unauthorized\n",
            "HTTP Error 401: Unauthorized\n",
            "HTTP Error 404: Not Found\n",
            "<urlopen error [Errno 110] Connection timed out>\n",
            "<urlopen error [Errno -2] Name or service not known>\n",
            "URL can't contain control characters. '/thmb/R48qFex7b-itr6sEJkBBvRRMomc=/700x700/filters:fill(auto,HEY THERE I CAN WIPE MY OWN BUTT. ,HEY THERE I CAN WIPE MY OWN BUTT. ,very_funny,twisted_meaning,very_offensive,not_motivational,negative\\nsuccess_any-time-somebody-posts-success-kid-memes-about-penis-size-or-sexual-performance-compliments-77571.jpg,https://memeguy.com/photos/images/any-time-somebody-posts-success-kid-memes-about-penis-size-or-sexual-performance-compliments-77571.jpg,I DON\\'T BELIEVE YOU ,I DON\\'T BELIEVE YOU ,funny,twisted_meaning,very_offensive,motivational,very_positive\\nsuccess_c2486fa06cbb0ec6691c5392ebec9801b17fdc83e057e36dad3ce2bebf9f5b25.jpg,http://www.quickmeme.com/img/c2/c2486fa06cbb0ec6691c5392ebec9801b17fdc83e057e36dad3ce2bebf9f5b25.jpg,COME TO STUDENT COUNCIL IN THE FACULTY LOUNGE EVERY THURSDAY 1:50PM-2:30PM quickmeme.com ,COME TO STUDENT COUNCIL IN THE FACULTY LOUNGE EVERY THURSDAY 1:50PM-2:30PM ,funny,general,not_offensive,motivational,neutral\\nsuccess_forever-alone-success-kid.png,https://4.bp.blogspot.com/-iQY15i8GR-E/VtWcoWgaAmI/AAAAAAAAFGk/EdyGpoTwOG4/s1600/forever-alone-success-kid.png,accidentally posts porn on facebook has no friends ,accidentally posts porn on facebook has no friends ,not_funny,not_sarcastic,slight,not_motivational,negative\\nsuccess_forever-alone-success-kid_o_1003654.jpg,https://img.memecdn.com/forever-alone-success-kid_o_1003654.jpg,Takes a walk in the woods Doesn\\'t see Slenderman Takes a walk in the woods Doesn\\'t see Slenderman memecenter.com Memetenter ,Takes a walk in the woods Doesn\\'t see Slenderman Takes a walk in the woods Doesn\\'t see Slenderman memecenter.com Memecenter ,funny,not_sarcastic,very_offensive,not_motivational,negative\\nsuccess_funny-success-kid-memes.jpg,http://runt-of-the-web.com/wordpress/wp-content/uploads/2017/07/funny-success-kid-memes.jpg,HAD STUPID OPINIONS AS A TEENAGER FACEBOOK AND TWITTER DIDN\\'T EXIST SO THE WORLD NEVER FOUND OUT ,HAD STUPID OPINIONS AS A TEENAGER FACEBOOK AND TWITTER DIDN\\'T EXIST SO THE WORLD NEVER FOUND OUT ,very_funny,twisted_meaning,very_offensive,motivational,positive\\nsuccess_goes-to-kfc-and-they-dont-sell-koolaid-third-world-54195052.png,https://pics.awwmemes.com/goes-to-kfc-and-they-dont-sell-koolaid-third-world-54195052.png,GOES TO KFC AND THEY DONT SELL KOOL AID imgflip.com Third World Success Kid Meme - Imgflip ,GOES TO KFC AND THEY DONT SELL KOOL AID imgflip.com Third World Success Kid Meme - Imgflip ,funny,general,slight,not_motivational,positive\\nsuccess_having-a-baby-meme-awesome-livememe-success-kid-of-having-a-baby-meme.jpg,https://photo-invivo.com/wp-content/uploads/2019/03/having-a-baby-meme-awesome-livememe-success-kid-of-having-a-baby-meme.jpg,GETTING MARRIED BEFORE HAVING A BABY ,GETTING MARRIED BEFORE HAVING A BABY ,funny,general,slight,not_motivational,positive\\nsuccess_q1di4.jpg,https://i.imgflip.com/q1di4.jpg,FINALLY GOT SOME PUBIC HAIR imgflip.com ,FINALLY GOT SOME PUBIC HAIR imgflip.com ,funny,not_sarcastic,slight,not_motivational,positive\\nsuccess_Ran-into-my-ex-success-meme.jpg,http://www.coolphotoeditors.com/wp-content/uploads/2015/07/Ran-into-my-ex-success-meme.jpg,RAN INTO MY EX SHE GOT FAT ,RAN INTO MY EX SHE GOT FAT ,funny,general,slight,motivational,positive\\nsuccess_remembe-success-kid-this-is-him-now-feel-old-yet-35895204.png,https://pics.me.me/remembe-success-kid-this-is-him-now-feel-old-yet-35895204.png,Remember Success Kid? MemeCenter.com This is him now. Feel old yet? Memes never end ,Remember Success Kid? MemeCenter.com This is him now. Feel old yet? Memes never end ,not_funny,general,very_offensive,not_motivational,negative\\nsuccess_success-kid-2.jpg,http://www.elitereaders.com/wp-content/uploads/2015/04/success-kid-2.jpg,WIFE GOT DENTAL SURGERY PLAYING PEEK-A-B00 WITH MOM CANT TALK FOR A WEEK SCOTT ,WIFE GOT DENTAL SURGERY PLAYING PEEK-A-B00 WITH MOM CANT TALK FOR A WEEK I CAN SEE HER ,very_funny,general,slight,motivational,neutral\\nsuccess_Success-Kid-6.jpeg,http://pleated-jeans.com/wp-content/uploads/2011/07/Success-Kid-6.jpeg,GO TO MCDONALDS,GO TO MCDONALDS  GET HAPPY MEAL EXTRA CHICKEN NUGGET quickmeme.com ,not_funny,general,not_offensive,not_motivational,neutral\\nsuccess_success-kid-meme-008.jpg,http://memedump.com/d/2379-4/success-kid-meme-008.jpg,EAT COINS ALL MORNING SHIT WAS SO CASH modump.com memegenerator.net ,EAT COINS ALL MORNING SHIT WAS SO CASH modump.com memegenerator.net ,funny,not_sarcastic,very_offensive,motivational,positive\\nsuccess_success-kid-meme-021.jpg,http://memedump.com/d/2392-5/success-kid-meme-021.jpg,Fart in an enclosed area Someone else gets blamed memedump.com ,Fart in an enclosed area Someone else gets blamed memedump.com ,funny,not_sarcastic,slight,not_motivational,neutral\\nsuccess_success-kid-meme-1494511522.jpeg,https://assets.capitalfm.com/2017/19/success-kid-meme-1494511522.jpeg,ATE SPAGHETTI WHILE WEARING A WHITE SHIRT DIDN\\'T GET SAUCE ON IT ,ATE SPAGHETTI WHILE WEARING A WHITE SHIRT DIDN\\'T GET SAUCE ON IT ,very_funny,general,slight,motivational,positive\\nsuccess_Success-Kid-meme-collection-1mut.com-6.jpg,http://1mut.com/wp-content/uploads/2012/09/Success-Kid-meme-collection-1mut.com-6.jpg,MOM WALKS IN WITHOUT KNOCKING WHILE WATCHING INTERNET PORN ALREADY HAD FACEBOOK TAB OPEN AND CHROME DIDNT FREEZE ,MOM WALKS IN WITHOUT KNOCKING WHILE WATCHING INTERNET PORN ALREADY HAD FACEBOOK TAB OPEN AND CHROME DIDNT FREEZE ,funny,general,slight,not_motivational,very_positive\\nsuccess_success-kid-now.jpg,http://funnypicturesplus.com/wp-content/uploads/2012/10/success-kid-now.jpg,Remember him? Yeah,Remember him? Yeah  he is growing up...MORE FUNNY PICTURES AT DUNNO SOLUS.COM ,very_funny,not_sarcastic,not_offensive,motivational,positive\\nsuccess_success-kid-pokebattle_o_200865.jpg,https://img.memecdn.com/success-kid-pokebattle_o_200865.jpg,Your Pokemon has 2 hp left Your opponent misses. memecenter.com Mamelenler ,Your Pokemon has 2 hp left Your opponent misses. memecenter.com Mamelenler ,funny,general,not_offensive,not_motivational,positive\\nsuccess_tumblr_m53oqr0ZlX1qat8sbo1_1280.jpg,https://66.media.tumblr.com/tumblr_m53oqr0ZlX1qat8sbo1_1280.jpg,VACATION FOR A WEEK LOST NO FOLLOWERS ,VACATION FOR A WEEK LOST NO FOLLOWERS ,funny,general,very_offensive,motivational,positive\\nsuccess_uzcyu.jpg,https://i.imgflip.com/uzcyu.jpg,BE STRONG MATH TEACHER WILL GET FIRED NEXT WEEK imgflip.com ,BE STRONG MATH TEACHER WILL GET FIRED NEXT WEEK imgflip.com ,hilarious,twisted_meaning,not_offensive,not_motivational,positive\\ntech_0b7f935174a89f5404ddca17fb8f9bf9--funny-monday-memes-funny-school-memes.jpg,https://i.pinimg.com/236x/0b/7f/93/0b7f935174a89f5404ddca17fb8f9bf9--funny-monday-memes-funny-school-memes.jpg,WHAT DO YOU MEAN THE LAMINATOR IS BROKEN?! ,WHAT DO YOU MEAN THE LAMINATOR IS BROKEN?! ,very_funny,not_sarcastic,slight,not_motivational,very_positive\\ntech_0e5.jpg,https://i.kym-cdn.com/photos/images/original/000/727/958/0e5.jpg,@gandalfthewhite @gandalfwhite @gandalf_white @gandalfwhite23 Checking... USERNAME HAS ALREADY BEEN TAKEN. @gandalfthegrey *SIGH* THAT\\'S YOU! ,@gandalfthewhite @gandalfwhite @gandalf_white @gandalfwhite23 Checking... USERNAME HAS ALREADY BEEN TAKEN. @gandalfthegrey *SIGH* THAT\\'S YOU! ,funny,general,not_offensive,not_motivational,negative\\ntech_1a6586f2181492ca830af23f97cab103ab1550b5_hq.jpg,https://pm1.narvii.com/6609/1a6586f2181492ca830af23f97cab103ab1550b5_hq.jpg,WHO WOULD WIN? the earth one man and his shorts ,WHO WOULD WIN? the earth one man and his shorts ,very_funny,general,not_offensive,not_motivational,neutral\\ntech_1e3eb2fe80867065539ebdbd00382ef8.jpeg,https://www.memesmonkey.com/images/memesmonkey/1e/1e3eb2fe80867065539ebdbd00382ef8.jpeg,RESEARCH? YOU MEAN LIKE GOOGLE? ,RESEARCH? YOU MEAN LIKE GOOGLE? ,not_funny,very_twisted,not_offensive,motivational,neutral\\ntech_1MRaxDI.png,https://i.imgur.com/1MRaxDI.png,NORTH KOREA\\'S TECHNOLOGY AS PERCEIVED BY THE WEST ACTUAL TECHNOLOGY USED FOR USA\\'S NUCLEAR LAUNCH CODES DCBE made on Imgur ,NORTH KOREA\\'S TECHNOLOGY AS PERCEIVED BY THE WEST ACTUAL TECHNOLOGY USED FOR USA\\'S NUCLEAR LAUNCH CODES DCBE made on Imgur ,very_funny,not_sarcastic,slight,not_motivational,positive\\ntech_1qdo95.jpg,https://i.imgflip.com/1qdo95.jpg,HOW WE TOOK WWWWWWWWWWWWWWWW SNAP-ON TOOLS eco SELFIES IN THE 1980\\'S imgflip.com ,HOW WE TOOK SNAP-ON TOOLS SELFIES IN THE 1980\\'S imgflip.com ,funny,general,very_offensive,not_motivational,negative\\ntech_1wldp5.jpg,https://i.imgflip.com/1wldp5.jpg,BACK IN MY DAY WE DIDN\\'T HAVE TECHNOLOGY,BACK IN MY DAY WE DIDN\\'T HAVE TECHNOLOGY. SO BY OLD PERSON LAW YOU CAN\\'T USE IT. ,funny,general,slight,motivational,negative\\ntech_2a5bc29967ac702aea4b2337f82b2482.jpg,http://www.quotemaster.org/images/2a/2a5bc29967ac702aea4b2337f82b2482.jpg,I fear the day that technology will surpass our human interaction. The world will have a generation of idiots.\" - Albert Einstein FOUND AT VERY FUNNYPES.EU EATLIVER.COM www.veryfunnypics.eu' (found at least ' ')\n",
            "<urlopen error [Errno -2] Name or service not known>\n",
            "HTTP Error 522: Origin Connection Time-out\n",
            "<urlopen error [Errno 110] Connection timed out>\n",
            "HTTP Error 401: Unauthorized\n",
            "HTTP Error 522: Origin Connection Time-out\n",
            "HTTP Error 522: Origin Connection Time-out\n",
            "HTTP Error 522: Origin Connection Time-out\n",
            "HTTP Error 404: Not Found\n",
            "HTTP Error 403: Forbidden\n",
            "<urlopen error [Errno 110] Connection timed out>\n",
            "<urlopen error [Errno 110] Connection timed out>\n",
            "HTTP Error 404: Not Found\n",
            "HTTP Error 404: Not Found\n",
            "<urlopen error [Errno -2] Name or service not known>\n",
            "HTTP Error 521: Origin Down\n",
            "<urlopen error [Errno -3] Temporary failure in name resolution>\n",
            "HTTP Error 302: The HTTP server returned a redirect error that would lead to an infinite loop.\n",
            "The last 30x error message was:\n",
            "Moved Temporarily\n",
            "HTTP Error 401: Unauthorized\n",
            "<urlopen error [Errno -2] Name or service not known>\n",
            "HTTP Error 403: Forbidden\n",
            "HTTP Error 404: File Not Found\n",
            "HTTP Error 403: Forbidden\n",
            "HTTP Error 522: Origin Connection Time-out\n",
            "HTTP Error 403: Forbidden\n",
            "HTTP Error 404: Not Found\n",
            "HTTP Error 404: Not Found\n",
            "<urlopen error [Errno -3] Temporary failure in name resolution>\n",
            "HTTP Error 404: Not Found\n",
            "HTTP Error 404: File Not Found\n",
            "HTTP Error 404: Not Found\n",
            "HTTP Error 522: Origin Connection Time-out\n",
            "HTTP Error 522: Origin Connection Time-out\n",
            "HTTP Error 522: Origin Connection Time-out\n",
            "HTTP Error 404: Not Found\n",
            "HTTP Error 404: Not Found\n",
            "HTTP Error 522: Origin Connection Time-out\n",
            "HTTP Error 404: Not Found\n",
            "HTTP Error 522: Origin Connection Time-out\n",
            "HTTP Error 404: Not Found\n",
            "HTTP Error 401: Unauthorized\n",
            "HTTP Error 403: Forbidden\n",
            "HTTP Error 403: Forbidden\n",
            "HTTP Error 404: Not Found\n",
            "HTTP Error 522: Origin Connection Time-out\n",
            "HTTP Error 401: Unauthorized\n",
            "HTTP Error 403: Forbidden\n",
            "HTTP Error 404: Not Found\n",
            "URL can't contain control characters. '/hmg-prod.s3.amazonaws.com/images/freinds-1518452835.jpg?crop=1xw:1xh;center,She: I don\\'t like FRIENDS\" me: JoeyTribbbianii Would you rather drown or be burned alive?' (found at least ' ')\n",
            "HTTP Error 404: Not Found\n",
            "HTTP Error 522: Origin Connection Time-out\n",
            "HTTP Error 403: Forbidden\n",
            "<urlopen error [Errno 0] Error>\n",
            "HTTP Error 522: Origin Connection Time-out\n",
            "HTTP Error 404: Not Found\n",
            "HTTP Error 522: Origin Connection Time-out\n",
            "HTTP Error 522: Origin Connection Time-out\n",
            "HTTP Error 404: Not Found\n",
            "HTTP Error 522: Origin Connection Time-out\n",
            "<urlopen error [Errno 110] Connection timed out>\n",
            "<urlopen error [Errno -3] Temporary failure in name resolution>\n",
            "HTTP Error 404: Not Found\n",
            "<urlopen error [Errno -3] Temporary failure in name resolution>\n",
            "HTTP Error 403: Forbidden\n",
            "HTTP Error 404: Not Found\n",
            "HTTP Error 403: Forbidden\n",
            "HTTP Error 403: Forbidden\n",
            "HTTP Error 403: Forbidden\n",
            "<urlopen error [Errno 110] Connection timed out>\n",
            "<urlopen error [Errno -5] No address associated with hostname>\n",
            "HTTP Error 404: Not Found\n",
            "HTTP Error 404: Not Found\n",
            "HTTP Error 403: Forbidden\n",
            "HTTP Error 404: Not Found\n",
            "<urlopen error [Errno -3] Temporary failure in name resolution>\n",
            "HTTP Error 404: Not Found\n",
            "HTTP Error 522: Origin Connection Time-out\n",
            "HTTP Error 522: Origin Connection Time-out\n",
            "HTTP Error 404: Not Found\n",
            "HTTP Error 403: Forbidden\n",
            "HTTP Error 404: File Not Found\n",
            "HTTP Error 404: Not Found\n",
            "<urlopen error [Errno -2] Name or service not known>\n",
            "<urlopen error [Errno -3] Temporary failure in name resolution>\n",
            "<urlopen error [Errno -2] Name or service not known>\n",
            "HTTP Error 522: Origin Connection Time-out\n",
            "HTTP Error 404: Not Found\n",
            "HTTP Error 522: Origin Connection Time-out\n",
            "<urlopen error [Errno 110] Connection timed out>\n",
            "URL can't contain control characters. '/thmb/iroPHgM_OxHDgR-adYnpxGryUdA=/450x346/filters:fill(auto,WITH THIS TECHNOLOGY WE WILL BRING THE UNITED STATES TO ITS KNEES ,WITH THIS TECHNOLOGY WE WILL BRING THE UNITED STATES TO ITS KNEES ,very_funny,twisted_meaning,slight,not_motivational,positive\\ngf_enhanced-buzz-15740-1339168346-10.jpg,https://img.buzzfeed.com/buzzfeed-static/static/enhanced/web04/2012/6/8/11/enhanced-buzz-15740-1339168346-10.jpg?downsize=700:*&output-format=auto&output-quality=auto,GIRLFRIEND CALLS TWICE WITHIN 24 HOURS CREATES OVERLY ATTACHED GIRLFRIEND MEME ,GIRLFRIEND CALLS TWICE WITHIN 24 HOURS CREATES OVERLY ATTACHED GIRLFRIEND MEME ,funny,general,slight,motivational,very_positive\\nrahul_19b641bd44c0dc7e32b0a75f6397b208.jpg,https://i.pinimg.com/originals/19/b6/41/19b641bd44c0dc7e32b0a75f6397b208.jpg,Give me India for 20 years and.. I will give you a developed nation. Pappu leave India for 20 years with family.. It will automatically become a developed nation! ,Give me India for 20 years and.. I will give you a developed nation. Pappu leave India for 20 years with family.. It will automatically become a developed nation! ,very_funny,twisted_meaning,slight,not_motivational,positive\\nracis_108k0eacbd3h1bjyfnqfdvn.jpg,https://i.kinja-img.com/gawker-media/image/upload/s--uTxRxcqf--/c_scale' (found at least ' ')\n",
            "HTTP Error 404: Not Found\n",
            "HTTP Error 404: Not Found\n",
            "HTTP Error 404: File Not Found\n",
            "HTTP Error 522: Origin Connection Time-out\n",
            "HTTP Error 522: Origin Connection Time-out\n",
            "HTTP Error 404: Not Found\n",
            "HTTP Error 522: Origin Connection Time-out\n",
            "HTTP Error 522: Origin Connection Time-out\n",
            "HTTP Error 404: Not Found\n",
            "HTTP Error 522: Origin Connection Time-out\n",
            "HTTP Error 404: Not Found\n",
            "<urlopen error [Errno 110] Connection timed out>\n",
            "HTTP Error 404: Not Found\n",
            "HTTP Error 400: Bad Request\n",
            "HTTP Error 522: Origin Connection Time-out\n",
            "HTTP Error 404: Not Found\n",
            "HTTP Error 522: Origin Connection Time-out\n",
            "HTTP Error 404: File Not Found\n",
            "HTTP Error 522: Origin Connection Time-out\n",
            "HTTP Error 522: Origin Connection Time-out\n",
            "HTTP Error 522: Origin Connection Time-out\n",
            "<urlopen error [Errno -2] Name or service not known>\n",
            "HTTP Error 404: Not Found\n",
            "HTTP Error 403: Forbidden\n",
            "HTTP Error 404: not found\n",
            "HTTP Error 403: Forbidden\n",
            "HTTP Error 522: Origin Connection Time-out\n",
            "<urlopen error [Errno -2] Name or service not known>\n",
            "<urlopen error [Errno 110] Connection timed out>\n",
            "<urlopen error [Errno 110] Connection timed out>\n",
            "HTTP Error 403: Forbidden\n",
            "<urlopen error [Errno -3] Temporary failure in name resolution>\n",
            "<urlopen error [Errno 110] Connection timed out>\n",
            "<urlopen error [Errno 110] Connection timed out>\n",
            "HTTP Error 401: Unauthorized\n",
            "HTTP Error 404: Not Found\n",
            "<urlopen error [Errno -2] Name or service not known>\n",
            "<urlopen error [Errno 110] Connection timed out>\n",
            "HTTP Error 404: Not Found\n",
            "<urlopen error [Errno 110] Connection timed out>\n",
            "HTTP Error 403: Forbidden\n",
            "HTTP Error 404: Not Found\n",
            "<urlopen error [Errno -5] No address associated with hostname>\n",
            "URL can't contain control characters. \"/complex/image/upload/c_limit,ITTOOKYOU15 MINUTES TOGET HOME GOOGLE MAPS SAID IT TAKES 12. WHO IS SHE? ,ITTOOKYOU15 MINUTES TOGET HOME GOOGLE MAPS SAID IT TAKES 12. WHO IS SHE? ,funny,twisted_meaning,very_offensive,motivational,neutral\\nbig_bang_Scumbag-Big-Bang-Theory_o_121769.jpg,https://img.memecdn.com/Scumbag-Big-Bang-Theory_o_121769.jpg,Show about nerds They all have girlfriends memecenter.com MemeCenter ,Show about nerds They all have girlfriends memecenter.com MemeCenter ,funny,general,not_offensive,not_motivational,positive\\nbest_2018_sub-buzz-19467-1543793685-25.png,https://img.buzzfeed.com/buzzfeed-static/static/2018-12/2/18/asset/buzzfeed-prod-web-01/sub-buzz-19467-1543793685-25.png?downsize=700:*&output-format=auto&output-quality=auto,WHAT NORMAL PEOPLE SEE WHAT MARVEL FANS SEE ,WHAT NORMAL PEOPLE SEE WHAT MARVEL FANS SEE ,very_funny,twisted_meaning,hateful_offensive,not_motivational,negative\\ncat_U_196Funny+xd+cat+memes+lmao_fa3142_6002006.jpg,https://2static.fjcdn.com/pictures/Funny+xd+cat+memes+lmao_fa3142_6002006.jpg,Why has you canceled my x boks live? ,Why has you canceled my x boks live? ,funny,general,not_offensive,not_motivational,positive\\nharry_hairy-wizard.png,https://runt-of-the-web.com/wordpress/wp-content/uploads/2017/05/hairy-wizard.png,You're a wizard,You're a wizard  Harry. You're a hairy wizard. ,funny,general,not_offensive,not_motivational,positive\\ntitanic_l-21591-commonfolk-titanic-is-the-saddest-movie-in-existancel-me-an-intellectual-ahemm.jpg,https://meme.xyz/uploads/posts/t/l-21591-commonfolk-titanic-is-the-saddest-movie-in-existancel-me-an-intellectual-ahemm.jpg,Commonfolk: Titanic is the saddest movie in existance Me,Commonfolk: Titanic is the saddest movie in existance Me  an intellectual: ahemm... I hate you! You were my brother Anakin  I loved you. ,hilarious,twisted_meaning,very_offensive,not_motivational,very_negative\\npicard_sd3726-star-trek-the-next-generation-fridge-magnet-captain-jean-luc-picard-what-is-this-meme.jpeg,https://d3inagkmqs1m6q.cloudfront.net/1868/media-photos/sd3726-star-trek-the-next-generation-fridge-magnet-captain-jean-luc-picard-what-is-this-meme.jpeg,What is this??? ,What is this??? ,not_funny,very_twisted,very_offensive,not_motivational,very_positive\\ngodfather_i33ksk4vdfl01.jpg,https://i.redd.it/i33ksk4vdfl01.jpg,Did you just merge a prequel meme with The Godfather? Is that,Did you just merge a prequel meme with The Godfather? Is that  legal? Possibly I'll make it legal ,not_funny,twisted_meaning,not_offensive,motivational,neutral\\nfriends_533b48046e013771a01825c37198b27d65842b115f927bb92bdb8eca7880a31c.jpg,http://www.quickmeme.com/img/53/533b48046e013771a01825c37198b27d65842b115f927bb92bdb8eca7880a31c.jpg,SEES MEME ON TUMBLR TO MAKE FUN OF FRIENDS HAS NO FRIENDS Quickmeme.com ,SEES MEME ON TUMBLR TO MAKE FUN OF FRIENDS HAS NO FRIENDS Quickmeme.com ,very_funny,general,slight,not_motivational,very_positive\\ngiorgio_nobody-that-guy-at-the-bar-this-suit-is-officially-43492105.png,https://pics.awwmemes.com/nobody-that-guy-at-the-bar-this-suit-is-officially-43492105.png,Nobody: That guy at the bar: This suit is officially a Giorgio Armani,Nobody: That guy at the bar: This suit is officially a Giorgio Armani  my dad knows him I'm proud of you the two people who will get this ,not_funny,not_sarcastic,very_offensive,not_motivational,negative\\ntom_JmSs7oP.jpg,https://i.imgur.com/JmSs7oP.jpg,LIFE WAS SO MUCH BETTER WHEN Funnymemes.com TOM JERRY WE HAD TO ONLY WORRY ABOUT HOW JERRY WILL ESCAPE ,LIFE WAS SO MUCH BETTER WHEN  ,very_funny,general,slight,motivational,positive\\nbarney_UXHni.jpg,http://i.imgur.com/UXHni.jpg,SEX WITH OVER 200 WOMEN SPANNING SIX CONTINENTS: 17 NATIONALITIES:74 SEXUAL POSITIONS; AND NOT A SINGLE FATTY. I AM THE 0.1% memeganiurator.net\" (found at least ' ')\n",
            "HTTP Error 403: Forbidden\n",
            "<urlopen error [Errno 111] Connection refused>\n",
            "HTTP Error 404: Not Found\n",
            "HTTP Error 522: Origin Connection Time-out\n",
            "<urlopen error [Errno 104] Connection reset by peer>\n",
            "HTTP Error 403: Forbidden\n",
            "URL can't contain control characters. '/complex/image/upload/c_limit,CLAIMS TO HATE SEXISM ASSUMES ALL MALES ARE SEXIST ,CLAIMS TO HATE SEXISM ASSUMES ALL MALES ARE SEXIST ,not_funny,general,slight,not_motivational,neutral\\nbethe_252837931.jpg,http://images.memes.com/meme/837931,NOW IF EVERYONE COULD STOP TO TELL ME TO BE LIKE BILL THAT WOULD BE GREAT memes.com ,NOW IF EVERYONE COULD STOP TO TELL ME TO BE LIKE BILL THAT WOULD BE GREAT memes.com ,very_funny,general,not_offensive,not_motivational,neutral\\nmisog_73images-4.jpeg,https://thefeministwire.com/wp-content/uploads/2014/05/images-4.jpeg,WHO\\'S BRUCE WAYNE? I\\'M A HUGE BATMAN FAN ,WHO\\'S BRUCE WAYNE? I\\'M A HUGE BATMAN FAN ,funny,general,slight,motivational,positive\\nlor_56cf6f4fa3e74.jpeg,https://images3.memedroid.com/images/UPLOADED203/56cf6f4fa3e74.jpeg,EAT. PUNKS LIKE YOU FOR SECOND BREAKFAST. ,EAT. PUNKS LIKE YOU FOR SECOND BREAKFAST. ,hilarious,very_twisted,very_offensive,not_motivational,very_positive\\nliam_breaking-picture-of-liam-neeson-attacking-a-black-person-surfaces-41692119.png,https://pics.conservativememes.com/breaking-picture-of-liam-neeson-attacking-a-black-person-surfaces-41692119.png,BREAKING: Picture of Liam Neeson attacking a black person surfaces. ,BREAKING: Picture of Liam Neeson attacking a black person surfaces. ,funny,general,slight,not_motivational,positive\\ntech_meme-yoda-AML.jpg,http://www.radicalcompliance.com/wp-content/uploads/2018/12/meme-yoda-AML.jpg,DO OR DO NOT,DO OR DO NOT; THERE IS NO TRY EXCEPT IN AML COMPLIANCE imgflip.com ,very_funny,general,slight,not_motivational,neutral\\nmodi_im-neither-a-bjp-member-nor-a-modi-bhakt-but-7470598.png,https://pics.conservativememes.com/im-neither-a-bjp-member-nor-a-modi-bhakt-but-7470598.png,I\\'M NEITHER A BJP MEMBER NOR A MODI BHAKT BUTI SUPPORT HIS LAST CHECKMATE MOVE AGAINST CORRUPTION ,I\\'M NEITHER A BJP MEMBER NOR A MODI BHAKT BUTI SUPPORT HIS LAST CHECKMATE MOVE AGAINST CORRUPTION ,not_funny,twisted_meaning,very_offensive,not_motivational,neutral\\ngf_1-my-girlfriend-s-hairclip-scared-the-shit-out-of-me-funny-meme.jpg,http://www.pmslweb.com/the-blog/wp-content/uploads/2018/02/1-my-girlfriend-s-hairclip-scared-the-shit-out-of-me-funny-meme.jpg,My girlfriend\\'s hairclip nearly put me in cardiac arrest.. PUSHW .com The Internet Scavengers ,My girlfriend\\'s hairclip nearly put me in cardiac arrest.. PUSLWeb.com The Internet Scavengers ,very_funny,not_sarcastic,not_offensive,not_motivational,neutral\\npenguin_you-vs-the-penguin-she-tells-you-not-to-worry-6273468.png,https://pics.me.me/you-vs-the-penguin-she-tells-you-not-to-worry-6273468.png,You vs the penguin she tells you not to worry about smdh ,You vs the penguin she tells you not to worry about smdh ,funny,not_sarcastic,slight,motivational,positive\\nharry_wzs3x.jpg,https://i.imgflip.com/wzs3x.jpg,I DON\\'T KNOW EITHER RON BUT ITS GOT TO BE BETTER THAN VOLDEMORT imgflip.com ,I DON\\'T KNOW EITHER RON BUT ITS GOT TO BE BETTER THAN VOLDEMORT imgflip.com ,not_funny,general,slight,not_motivational,very_positive\\nhitler_people-hitler-and-stalin-killed-the-most-people-in-history-noah-not-letting-anyone-on-the-ark-looking-through-shades.jpg,https://starecat.com/content/wp-content/uploads/people-hitler-and-stalin-killed-the-most-people-in-history-noah-not-letting-anyone-on-the-ark-looking-through-shades.jpg,People: Hitler and Stalin killed the most people in history Noah not letting anyone on the ark: STARECAT.COM ,People: Hitler and Stalin killed the most people in history Noah not letting anyone on the ark: STARECAT.COM ,very_funny,not_sarcastic,very_offensive,not_motivational,positive\\ncat_U_142i-want-belly-rubs-but-onlyexactly2-funny-catmemes-xyz-and-10129253-JjJ01j.png,https://cdn.someecards.com/posts/i-want-belly-rubs-but-onlyexactly2-funny-catmemes-xyz-and-10129253-JjJ01j.png,I WANT BELLY RUBS. BUT ONLY EXACTLY 2. FunnyCat Memes.xyz AND THEN I\\'LL BITE. ,I WANT BELLY RUBS. BUT ONLY EXACTLY 2. FunnyCat Memes.xyz AND THEN I\\'LL BITE. ,very_funny,general,slight,not_motivational,positive\\nnemo_26l8i4.jpg,https://i.imgflip.com/26l8i4.jpg,HAVE YOU SEEN MY SON? HIS NAME IS WILL imgflip.com ,HAVE YOU SEEN MY SON? HIS NAME IS WILL imgflip.com ,funny,general,slight,not_motivational,positive\\nbean_Mr.Bean.png,https://i.kym-cdn.com/photos/images/original/000/155/173/Mr.Bean.png,FUCK THE POLICE ,FUCK THE POLICE ,very_funny,not_sarcastic,not_offensive,not_motivational,neutral\\nhillary_when-you-cook-for-yourself-and-melt-cheese-on-bread-47812056.png,https://pics.conservativememes.com/when-you-cook-for-yourself-and-melt-cheese-on-bread-47812056.png,when you cook for yourself and melt cheese on bread This is some serious gourmet shit. Living alone isn\\'t so glorious ,when you cook for yourself and melt cheese on bread This is some serious gourmet shit. Living alone isn\\'t so glorious ,very_funny,general,not_offensive,not_motivational,positive\\nsexist_India8_trans_NvBQzQNjv4BqHTknAkgPXXmjqdhr7rp_og_epdRdHRU0bMBeGjIcKQs.jpg,https://www.telegraph.co.uk/content/dam/women/2016/03/10/India8_trans_NvBQzQNjv4BqHTknAkgPXXmjqdhr7rp_og_epdRdHRU0bMBeGjIcKQs.jpg?imwidth=480,V ISIE 1 MUST GO TO THE KITCHEN NOW FASHIONAT ITS THE ONLY PART OF MY NEW HOUSE WHERE THAVENT DONE ELECTRICAL FITTINGS YET facebook.com/spoiltmodernuoma ,V ISIE 1 MUST GO TO THE KITCHEN NOW FASHIONAT ITS THE ONLY PART OF MY NEW HOUSE WHERE THAVENT DONE ELECTRICAL FITTINGS YET facebook.com/spoiltmodernuoma ,funny,general,slight,motivational,positive\\nseal_c-this-is-a-picture-of-an-elephant-seal-in-11508235.png,https://pics.me.me/c-this-is-a-picture-of-an-elephant-seal-in-11508235.png,This is a picture of an Elephant seal in 1936. ,This is a picture of an Elephant seal in 1936. ,hilarious,general,slight,motivational,positive\\ndecaprio_15167100313971-1seob6-500x330.jpg,https://buzz-wire.net/wp-content/uploads/2018/01/15167100313971-1seob6-500x330.jpg,ABOUT THESE FEMALE TEACHERS SLEEPING WITH THEIR STUDENTS ,.... ABOUT THESE FEMALE TEACHERS SLEEPING WITH THEIR STUDENTS ,funny,twisted_meaning,hateful_offensive,not_motivational,positive\\njoker_all-things-doand-mar-harley-quinn-calls-joker-pudding-because-5454039.png,https://pics.me.me/all-things-doand-mar-harley-quinn-calls-joker-pudding-because-5454039.png,ALL THINGS DC AND MYRVEI HARLEY QUINN CALLS JOKER PUDDING BECAUSE HE GAVE HER A CUP OF IT WHEN THEY FIRST MET IN THE ASYLUM. ,ALL THINGS DC AND MYRVEI HARLEY QUINN CALLS JOKER PUDDING BECAUSE HE GAVE HER A CUP OF IT WHEN THEY FIRST MET IN THE ASYLUM. ,not_funny,general,slight,motivational,neutral\\nminion_7be214b451bfa9665ab3466e9ff618cbd3ae05dav2_00.jpg,http://pm1.narvii.com/6761/7be214b451bfa9665ab3466e9ff618cbd3ae05dav2_00.jpg,Teacher: Why are you talking during my lesson?\" Student: \"Why are you vou & trying to teach while I sodomize infants?\"' (found at least ' ')\n",
            "HTTP Error 522: Origin Connection Time-out\n",
            "<urlopen error [Errno 110] Connection timed out>\n",
            "URL can't contain control characters. '/albums/ab282/Jaded_Conformity/Memes/Spiderman%20Memes/squeezin-arm-spiderman-meme-generator-they-took-my-squeezin-arm-why-my-squeezin-arm-ad7428.png?width=200&height=200&crop=1:1,THEY TOOK MY SQUEEZIN ARM... WHY MY SQUEEZIN ARM!! photobucket LC MARVEL.com DIYLOL.COM ,THEY TOOK MY SQUEEZIN ARM... WHY MY SQUEEZIN ARM!! photobucket LC MARVEL.com DIYLOL.COM ,very_funny,general,slight,motivational,positive\\ncat_U_48848345d61b99e111944f0c968218833e.jpg,https://i.pinimg.com/originals/84/83/45/848345d61b99e111944f0c968218833e.jpg,I HAVE CLAIMED THIS TINY HUMAN FOR MYSELF. YOU MAY LEAVE NOW. ,I HAVE CLAIMED THIS TINY HUMAN FOR MYSELF. YOU MAY LEAVE NOW. ,very_funny,twisted_meaning,very_offensive,not_motivational,positive\\ndrunk_baby_drunk-baby_o_1966687.jpg,https://img.memecdn.com/drunk-baby_o_1966687.jpg,OKOK:SOLISTEN-LISTEN I CRIED AND THE NEXT THING I KNOW IS I HAVE A TITTY IN MY MOUTH! memecenter.com Mamelenler ,OKOK:SOLISTEN-LISTEN I CRIED AND THE NEXT THING I KNOW IS I HAVE A TITTY IN MY MOUTH! memecenter.com MameCenter ,very_funny,twisted_meaning,very_offensive,motivational,positive\\nmodi_troll-bollywood-memes-tb-according-to-readers-poll-modi-beat-11415246.png,https://pics.ballmemes.com/troll-bollywood-memes-tb-according-to-readers-poll-modi-beat-11415246.png,Troll Bollywood Memes ACCORDING TO READERS POLL MODI BEAT OBAMA AND IS NOW.. TIME PERSON OF THE YEAR 2016\\' Troll Bollywood fb.com/officialtrollbollywood Narendra Modi ,Troll Bollywood Memes ACCORDING TO READERS POLL MODI BEAT OBAMA AND IS NOW.. TIME PERSON OF THE YEAR 2016\\' Troll Bollywood fb.com/officialtrollbollywood Narendra Modi ,not_funny,general,slight,not_motivational,negative\\ncountry_death-anniversary-in-other-countries-free-food-passthe-sweet-bro-in-my-country-TL4d2.jpg,https://cdn.dopl3r.com/memes_files/death-anniversary-in-other-countries-free-food-passthe-sweet-bro-in-my-country-TL4d2.jpg,Death anniversary In other countries *Free food* Pass the sweet bro In my country ,Death anniversary In other countries *Free food* Pass the sweet bro In my country ,very_funny,general,slight,not_motivational,positive\\nharvey_GLASTONBURY4-1024x866.jpg,https://m0.her.ie/wp-content/uploads/2016/06/27111856/GLASTONBURY4-1024x866.jpg,LOOKING FOR A FUCK TO GIVE WHEN YOUR FRIEND SAYS SHE PAYS SOOO MUCH TAX Her .ie ,LOOKING FOR A FUCK TO GIVE WHEN YOUR FRIEND SAYS SHE PAYS SOOO MUCH TAX Her ,very_funny,general,not_offensive,not_motivational,neutral\\ntrump_best-mothers-day-memes.jpg,http://worldwideinterweb.com/wp-content/uploads/2016/03/best-mothers-day-memes.jpg,,THE FACE YOU MAKE WHEN SOMEONE SAYS THEY THINK DONALD TRUMP WOULD BE A GOOD PRESIDENT ,very_funny,twisted_meaning,very_offensive,not_motivational,positive\\ngot_demon-baby-58b8ed9f3df78c353c31c438.png,https://www.thoughtco.com/thmb/2ONxdZadC8-j47d9GTy5vihEp9g=/592x464/filters:no_upscale():max_bytes(150000):strip_icc()/demon-baby-58b8ed9f3df78c353c31c438.png,OH HONEY LOOK OUR DEMON BABY IS COMMITTING ITS FIRST MURDER HOW CUTE GET THE CAMERA ,OH HONEY LOOK OUR DEMON BABY IS COMMITTING ITS FIRST MURDER HOW CUTE GET THE CAMERA ,hilarious,general,not_offensive,not_motivational,neutral\\ntrump_3B58EDA100000578-0-image-a-119_1481662237507.jpg,https://i.dailymail.co.uk/i/pix/2016/12/13/20/3B58EDA100000578-0-image-a-119_1481662237507.jpg,,INTRODUCING THE NEW SECRETARY OF MENTAL HEALTH instagram ,funny,twisted_meaning,slight,motivational,negative\\nsexist_image.png,http://memecrunch.com/meme/88BV/sexist-muslim/image.png,,WOMEN RIGHTS? WRONG memecrunch.com ,very_funny,general,not_offensive,not_motivational,very_positive\\njim_7def63bdbf162b0702c0f6dd53e2006ae1556dd2fde3b5c204df20db5a8d94ed.jpg,http://www.quickmeme.com/img/7d/7def63bdbf162b0702c0f6dd53e2006ae1556dd2fde3b5c204df20db5a8d94ed.jpg,NO. The Denvel WAIS OU TL Millions around the AND I DONT CARE! quickmeme.com ,No  And I DON’T CARE ,funny,general,slight,motivational,positive\\nbethe_210final_5bce5f345f1a2e625f1b1503.jpg,https://cdn.kapwing.com/final_5bce5f345f1a2e625f1b1503.jpg,Square meme with Montserrat font ,Square meme with Montserrat font ,not_funny,not_sarcastic,very_offensive,not_motivational,positive\\ngiorgio_hqdefault.jpg,http://i1.wp.com/ytimg.googleusercontent.com/vi/eGHA0mIEF58/hqdefault.jpg,WHAT IF I TOLD YOU THE QUESTION EVOLUTION PROJECT IS THE RED PILL MEMES & FUNNY PICS FRABZ.COM ,WHAT IF I TOLD YOU THE QUESTION EVOLUTION PROJECT IS THE RED PILL MEMES & FUNNY PICS FRABZ.COM ,not_funny,not_sarcastic,slight,not_motivational,neutral\\nbig_bang_big-bang-theory-sheldon-leonard-meme.jpg,https://tvshowmeme.files.wordpress.com/2013/11/big-bang-theory-sheldon-leonard-meme.jpg?w=1400,The only thing worse than sitting in my spot is wearing that sweater around me ,The only thing worse than sitting in my spot is wearing that sweater around me ,very_funny,general,not_offensive,not_motivational,positive\\nputin_41xVlJiqeJL._AC_US218_.jpg,https://images-eu.ssl-images-amazon.com/images/I/41xVlJiqeJL._AC_US218_.jpg,BEST PUTIN MEMES FUNNIEST MEMES ,BEST PUTIN MEMES FUNNIEST MEMES ,hilarious,twisted_meaning,not_offensive,not_motivational,positive\\ntrump_anti-trump-memes-marvelous-anti-trump-memes-1-about-trump-of-anti-trump-memes.jpg,https://photo-invivo.com/wp-content/uploads/2019/03/anti-trump-memes-marvelous-anti-trump-memes-1-about-trump-of-anti-trump-memes.jpg,,THAT FACE YOU MAKE WHEN YOU\\'RE A BULLY AND JUST GOT BEAT UP BY A GIRL OCCUPY DEMOCRATE ,funny,general,very_offensive,not_motivational,neutral\\ndecaprio_leonardo-dicaprio-memes-1.jpg,https://coedmagazine.files.wordpress.com/2016/02/leonardo-dicaprio-memes-1.jpg?quality=88&w=391,AND THE OSCAR GOES TO LEO VIA 9GAG.COM ... NEI MESSI GQ DEUTSCHLAND ,AND THE OSCAR GOES TO LEO VIA 9GAG.COM ... NEI MESSI GQ DEUTSCHLAND ,not_funny,general,slight,not_motivational,neutral\\nbean_2id0gq.jpg,https://i.imgflip.com/2id0gq.jpg,JEHOVAH\\'S WITNESSES WHEN ARMAGEDDON COMES imgflip.com ,JEHOVAH\\'S WITNESSES WHEN ARMAGEDDON COMES imgflip.com ,very_funny,general,not_offensive,not_motivational,very_positive\\ntrump_DrAm6T_WsAAQzID.jpg,https://www.rollingstone.com/wp-content/uploads/2018/11/DrAm6T_WsAAQzID.jpg?crop=900:600&width=440,,SANCTIONS ARE COMING ,very_funny,twisted_meaning,very_offensive,not_motivational,neutral\\nliam_540.jpg,https://i.kym-cdn.com/photos/images/original/000/336/283/540.jpg,LIAM KNEESON ,LIAM KNEESON ,very_funny,general,slight,not_motivational,positive\\nbethe_40Like-Bill-Meme.jpg,https://media1.popsugar-assets.com/files/thumbor/0S83miZNhGvJg1d2ea3o5fx06g0/fit-in/1024x1024/filters:format_auto-!!-:strip_icc-!!-/2016/01/19/969/n/1922507/b932f269_edit_img_cover_file_39861061_1453238976_main/i/Like-Bill-Meme.jpg,This is Bill. Bill\\'s friends are getting engaged or married. Bill is single. Bill just doesn\\'t give a shit. Bill is smart. Be like Bill. ,This is Bill. Bill\\'s friends are getting engaged or married. Bill is single. Bill just doesn\\'t give a shit. Bill is smart. Be like Bill. ,hilarious,very_twisted,slight,motivational,very_positive\\nlor_precious-lord-of-the-rings-memes-are-spicier-than-the-fires-of-mount-doom-2.jpg,https://thechive.files.wordpress.com/2018/02/precious-lord-of-the-rings-memes-are-spicier-than-the-fires-of-mount-doom-2.jpg?quality=85&strip=info&w=600,I LOVE TAKING LONG WALKS TRY TO IMPRESS HER\" \"TRY TO IMPRESS HER\" \"TRY TO IMPRESS HER\" ONCE I WALKED UP TO MORDOR imgiinan' (found at least ' ')\n",
            "HTTP Error 401: Unauthorized\n",
            "HTTP Error 522: Origin Connection Time-out\n",
            "HTTP Error 522: Origin Connection Time-out\n",
            "HTTP Error 522: Origin Connection Time-out\n",
            "HTTP Error 404: Not Found\n",
            "<urlopen error [Errno -2] Name or service not known>\n",
            "HTTP Error 522: Origin Connection Time-out\n",
            "HTTP Error 404: Not Found\n",
            "URL can't contain control characters. '/complex/image/upload/c_limit,Yo Chuck,Yo Chuck ima gonna let you finish  but.... You know what  you go right ahead and finish. ,very_funny,twisted_meaning,slight,motivational,positive\\nbest_2018_39517220.jpg,https://memegenerator.net/img/instances/39517220.jpg,TDONT ALWAYS GO THRU A HURRICANE.... BUT WHEN I DO...I GOTTA GET THE BREAD AND MILK!!!!!!!!THE BREAD AND MILK!!!!! MILA!!!!! memegenerator.net ,TDONT ALWAYS GO THRU A HURRICANE.... BUT WHEN I DO...I GOTTA GET THE BREAD AND MILK!!!!!!!!THE BREAD AND MILK!!!!! memegenerator.net ,funny,general,slight,not_motivational,positive\\ncountry_9fd42559a6e47b880fbdc14e2fbd771713bb3491a99717da3997cc3028927814.jpg,http://www.quickmeme.com/img/9f/9fd42559a6e47b880fbdc14e2fbd771713bb3491a99717da3997cc3028927814.jpg,CAN\\'T GET RAPE CONDOM OFF quickmeme.com ,CAN\\'T GET RAPE CONDOM OFF quickmeme.com ,funny,general,not_offensive,not_motivational,very_positive\\nobama_30obama-trump-enough-said.jpg,http://politicalpunchline.com/wp-content/uploads/2018/01/obama-trump-enough-said.jpg,ENOUGH SAID. ,ENOUGH SAID. ,very_funny,twisted_meaning,very_offensive,motivational,neutral\\nharry_da82878b6039a068c43ce7f59b85ef51.jpg,https://media-assets.bookbub.com/wp-content/uploads/2017/01/da82878b6039a068c43ce7f59b85ef51.jpg,My Lord,My Lord,funny,general,slight,not_motivational,neutral\\nhillary_hillary-clinton-and-anthony-weiner-memes-to-make-you-laugh-entity.png,https://s24193.pcdn.co/wp-content/uploads/2016/10/hillary-clinton-and-anthony-weiner-memes-to-make-you-laugh-entity.png,YOU MEAN IT WASN\\'T MY WEINER THAT GOT HILLARY IN TROUBLE THIS TIME?? ,YOU MEAN IT WASN\\'T MY WEINER THAT GOT HILLARY IN TROUBLE THIS TIME?? ,very_funny,general,not_offensive,not_motivational,neutral\\ngf_overlyattached-5900fa4a3df78c54563e3d8b-5b09bacdfa6bcc0037edbe1a-693ecafeb51d480990a3fe4c889aeb35.jpg,https://www.lifewire.com/thmb/Mbepx78wqsai1f9ZKBlMXLpsi3k=/768x0/filters:no_upscale():max_bytes(150000):strip_icc()/overlyattached-5900fa4a3df78c54563e3d8b-5b09bacdfa6bcc0037edbe1a-693ecafeb51d480990a3fe4c889aeb35.jpg,CAN WE LEAVE THE LIGHT ON TONIGHT? I WANT TO BE ABLE TO WATCH YOU SLEEP ,CAN WE LEAVE THE LIGHT ON TONIGHT? I WANT TO BE ABLE TO WATCH YOU SLEEP ,funny,not_sarcastic,not_offensive,not_motivational,positive\\nsports_35-Funniest-Sports-Pictures-QuotesHumor-364x205.jpg,https://quoteshumor.com/wp-content/uploads/2016/10/35-Funniest-Sports-Pictures-QuotesHumor-364x205.jpg,AND I SWEAR ,AND I SWEAR ,funny,twisted_meaning,not_offensive,not_motivational,negative\\nlor_parks-and-recreation-lord-of-the-rings-boromir.png,https://www.hypable.com/wp-content/uploads/2015/01/parks-and-recreation-lord-of-the-rings-boromir.png,<html><head><meta content=text/html; charset=UTF-8\" http-equiv=\"content-type\"><style type=\"text/css\">ol{margin:0;padding:0}table td' (found at least ' ')\n",
            "HTTP Error 404: Not Found\n",
            "HTTP Error 522: Origin Connection Time-out\n",
            "HTTP Error 403: Forbidden\n",
            "<urlopen error [Errno -3] Temporary failure in name resolution>\n",
            "<urlopen error [Errno -5] No address associated with hostname>\n",
            "<urlopen error [Errno 110] Connection timed out>\n",
            "URL can't contain control characters. '/buzzfeed-static/static/enhanced/webdr01/2013/5/15/16/original-grid-image-21884-1368649786-22.jpg?crop=382:558;7,STOPS GIRL FROM KILLING HERSELF ACCUSED OF RAPE ,STOPS GIRL FROM KILLING HERSELF ACCUSED OF RAPE ,not_funny,very_twisted,very_offensive,not_motivational,positive\\ngodfather_1fsm6x.jpg,https://i.imgflip.com/1fsm6x.jpg,TRUMP:T CAN HANDLE THINGS. I\\'M SMART. NOT LIKE EVERYBODY SAYS LIKE DUMB. I\\'M SMART! Imgflip.com ,TRUMP:T CAN HANDLE THINGS. I\\'M SMART. NOT LIKE EVERYBODY SAYS LIKE DUMB. I\\'M SMART! Imgflip.com ,very_funny,general,not_offensive,not_motivational,positive\\nbest_2017_BEST-OF-2017-BEST-NEW-CHARACTER-STYLE-B-01-512x512.jpg,http://www.groundpunch.com/wp-content/uploads/2018/01/BEST-OF-2017-BEST-NEW-CHARACTER-STYLE-B-01-512x512.jpg,BEST NEW CHARACTER ,BEST NEW CHARACTER ,very_funny,general,slight,motivational,neutral\\npenguin_waddle-on-little-guy_c_7194127.jpg,https://img.memecdn.com/waddle-on-little-guy_c_7194127.jpg,They couldn\\'t make her part of his world,They couldn\\'t make her part of his world  so they made him part of hers MemeCenter.com ,funny,not_sarcastic,slight,not_motivational,positive\\ntrump_trump-repealed-replaced.jpg,http://politicalpunchline.com/wp-content/uploads/2017/08/trump-repealed-replaced.jpg,,THE ONLY THING TRUMP HAS REPEALED AND REPLACED SO FAR IS HIS OWN STAFF. BUT THAT\\'S NONE OF MY BUSINESS. ,funny,not_sarcastic,not_offensive,not_motivational,neutral\\npepe_zBkkIuk.jpg,https://i.imgur.com/zBkkIuk.jpg,Sound оң әйQ әAL I did ,PEPE THe one who memes ,not_funny,general,slight,not_motivational,neutral\\ngodfather_a0f50daf6d41513ad88089021534b293--wise-words-book-jacket.jpg,https://i.pinimg.com/236x/a0/f5/0d/a0f50daf6d41513ad88089021534b293--wise-words-book-jacket.jpg,A FISH WITH HIS MOUTH CLOSED NEVER GETS CAUGHT-TONY ACCARDO ,A FISH WITH HIS MOUTH CLOSED NEVER GETS CAUGHT-TONY ACCARDO ,not_funny,not_sarcastic,very_offensive,motivational,negative\\nobama_82209cc9d90655e050b7ec683b4ebf2901.jpg,https://i.pinimg.com/originals/20/9c/c9/209cc9d90655e050b7ec683b4ebf2901.jpg,Im just going to say it... We will never have a president as a awesome as President Obama. = whisper ,Im just going to say it... We will never have a president as a awesome as President Obama. whisper ,very_funny,general,very_offensive,motivational,positive\\nliam_we-can-never-forget-the-time-when-liam-was-on-25984821.png,https://pics.conservativememes.com/we-can-never-forget-the-time-when-liam-was-on-25984821.png,WE CAN NEVER FORGET THE TIME WHEN LIAM WAS ON AUSTRALIAN NATIONAL TV DIGGING A HOLE IN THE SAND haroldluvme|IG Lima ,WE CAN NEVER FORGET THE TIME WHEN LIAM WAS ON AUSTRALIAN NATIONAL TV DIGGING A HOLE IN THE SAND haroldluvme||IG Lima ,not_funny,not_sarcastic,not_offensive,not_motivational,very_negative\\ncat_U_3463ba1c4f675ce10bfaeeb5985690e2546.jpeg,https://www.memesmonkey.com/images/memesmonkey/3b/3ba1c4f675ce10bfaeeb5985690e2546.jpeg,I MAY LIKE THIS ROYAL BABY m anting ,I MAY LIKE THIS ROYAL BABY made on imagur ,funny,general,slight,motivational,negative\\nobama_114obama-miss-complete-sentences.jpg,http://politicalpunchline.com/wp-content/uploads/2018/01/obama-miss-complete-sentences.jpg,YOU MISS THOSE COMPLETE SENTENCES,YOU MISS THOSE COMPLETE SENTENCES  DON\\'T YOU? ,funny,general,not_offensive,not_motivational,positive\\nharry_harry-potter-lead.jpg,https://thechive.files.wordpress.com/2018/11/harry-potter-lead.jpg?quality=85&strip=info,-So,-So  this is a nose. Interesting... ,funny,twisted_meaning,slight,motivational,neutral\\nmrbri_37classic-bad-luck-brian-12154.png,https://memeguy.com/photos/images/classic-bad-luck-brian-12154.png,STILL HAS SMALL PENIS ,STILL HAS SMALL PENIS ,funny,general,slight,motivational,positive\\nchandler_friends-tv-quotes-funny-tops-chandler-bing-meme-quotes-of-friends-tv-quotes-funny.jpg,http://blackdia.net/wp-content/uploads/2018/08/friends-tv-quotes-funny-tops-chandler-bing-meme-quotes-of-friends-tv-quotes-funny.jpg,I\\'m a pretty little girl. ,I\\'m a pretty little girl. ,very_funny,general,not_offensive,not_motivational,neutral\\nmorpheus_how-it-feels-when-jdotcooublee-youre-taking-an-epic-shit-2335360.png,https://pics.conservativememes.com/how-it-feels-when-jdotcooublee-youre-taking-an-epic-shit-2335360.png,HOW IT FEELS WHEN @JDOTCDOUBLEE YOU\\'RE TAKING AN EPIC SHIT Drop bombs.. epicshit matrix morpheus tbt funniest15 seconds Created by @jdotcdoublee Email: funniest15seconds@yahoo.com YouTube: funniest15seconds ,HOW IT FEELS WHEN @JDOTCDOUBLEE YOU\\'RE TAKING AN EPIC SHIT Drop bombs.. epicshit matrix morpheus tbt funniest15 seconds Created by @jdotcdoublee Email: funniest15seconds@yahoo.com YouTube: funniest15seconds ,funny,general,slight,motivational,neutral\\nsports_sports-meme-generator-22-so-you-like-posting-sports-memes-tell-me-more-about-things-i-don.jpg,http://www.bestdance.me/wp-content/uploads/2017/03/sports-meme-generator-22-so-you-like-posting-sports-memes-tell-me-more-about-things-i-don.jpg,SO YOU LIKE POSTING SPORTS MEMES? TELL ME MORE ABOUT THINGS I DON\\'T CARE ABOUTemegenerator.net ,SO YOU LIKE POSTING SPORTS MEMES? TELL ME MORE ABOUT THINGS I DON\\'T CARE ABOUTemegenerator.net ,very_funny,general,very_offensive,motivational,positive\\nminion_Work-Quotes-31-Snappy-and-Funny-Minion-Quotes-funnyminions-minionquotes-minionmemes.jpg,https://i2.wp.com/jobloving.com/wp-content/uploads/2018/09/Work-Quotes-31-Snappy-and-Funny-Minion-Quotes-funnyminions-minionquotes-minionmemes.jpg?w=696,I\\'M MORE CONFUSED THAN A CHAMELEON IN A BAG OF SKITTLES ,I\\'M MORE CONFUSED THAN A CHAMELEON IN A BAG OF SKITTLES ,funny,general,slight,not_motivational,positive\\njoker_batman_fans_will_enjoy_these_funny_joker_memes_640_08.jpg,https://img.izismile.com/img/img6/20130827/640/batman_fans_will_enjoy_these_funny_joker_memes_640_08.jpg,DRINK WATER AND NO ONE BATS AN EYE BUY A BOAT AND EVERYONE LOSES THEIR MINDS ,DRINK WATER AND NO ONE BATS AN EYE BUY A BOAT AND EVERYONE LOSES THEIR MINDS ,very_funny,general,slight,not_motivational,neutral\\nracis_2815nyna0ndvf111.jpg,https://i.redd.it/5nyna0ndvf111.jpg,SANDWICH MAKING The only job that is suitable for women and niggers DIY.DESPAIR.COM ,SANDWICH MAKING The only job that is suitable for women and niggers DIY.DESPAIR.COM ,very_funny,general,very_offensive,not_motivational,neutral\\nracis_344Funny-Nigga-Racist-Memes.jpg,http://happy-wishes.net/wp-content/uploads/2017/09/Funny-Nigga-Racist-Memes.jpg,WHEN A NIGGA TRIES TO TALK ON INTELLECTUAL THINGS imgflip.com HAPPY-WISHES.NET ,WHEN A NIGGA TRIES TO TALK ON INTELLECTUAL THINGS imgflip.com HAPPY-WISHES.NET ,very_funny,general,slight,not_motivational,positive\\ncountry_BBF0DSMCAAEtek0.jpg,https://pbs.twimg.com/media/BBF0DSMCAAEtek0.jpg,FALCONS NFC CHAMPIONSHIP T-SHIRTS GET HERE WEDNESDAY! ,FALCONS NFC CHAMPIONSHIP T-SHIRTS GET HERE WEDNESDAY! ,funny,general,slight,motivational,neutral\\ndeadpool_50-Deadpool-Funny-Quotes-Wallpaper.jpg,https://memesbams.com/wp-content/uploads/2017/11/50-Deadpool-Funny-Quotes-Wallpaper.jpg,HERE ARE YOUR OPTIONS: 1 - FUCK YOU,HERE ARE YOUR OPTIONS: 1 - FUCK YOU  I\\'M DEADPOOL ,hilarious,general,very_offensive,not_motivational,neutral\\nminion_df07889a5b91fac48371c4fae4931677.jpg,https://i.pinimg.com/originals/df/07/88/df07889a5b91fac48371c4fae4931677.jpg,BREAKING NEWS Common sense is now an endangered species. Stupidity has taken over the world and unfortunately there is no known cure. ,BREAKING NEWS Common sense is now an endangered species. Stupidity has taken over the world and unfortunately there is no known cure. ,not_funny,not_sarcastic,not_offensive,not_motivational,positive\\ndecaprio_young-leonardo-dicaprio-gives-me-breathing-problems-whos-that-xd-1803902.png,https://pics.esmemes.com/young-leonardo-dicaprio-gives-me-breathing-problems-whos-that-xd-1803902.png,Young Leonardo DiCaprio gives me breathing problems * who\\'s that?)) xD ,Young Leonardo DiCaprio gives me breathing problems who\\'s that?)) xD ,hilarious,very_twisted,very_offensive,not_motivational,positive\\nzeck_why-the-hellisa-government-that-spieson-its-own-citizens-being-32169187.png,https://pics.conservativememes.com/why-the-hellisa-government-that-spieson-its-own-citizens-being-32169187.png,WHY THE HELL IS A GOVERNMENT THAT SPIES ON ITS OWN CITIZENS BEING LIBERTARIAN LECTURING MARK ZUCKERBERG ABOUT PRIVACY?! (LC) imgflip.com ,WHY THE HELL IS A GOVERNMENT THAT SPIES ON ITS OWN CITIZENS BEING LIBERTARIAN LECTURING MARK ZUCKERBERG ABOUT PRIVACY?! (LC) imgflip.com ,funny,general,slight,not_motivational,neutral\\nlor_f6a74409e952176a3e3f1da39c7fbec0.jpeg,https://www.memesmonkey.com/images/memesmonkey/f6/f6a74409e952176a3e3f1da39c7fbec0.jpeg,I DON\\'T WANT TO SAY IT\\'S HOT IN MY ROOM BUT TWO HOBBITS JUST CAME AROUND AND THREW A RING IN IT ,I DON\\'T WANT TO SAY IT\\'S HOT IN MY ROOM BUT TWO HOBBITS JUST CAME AROUND AND THREW A RING IN IT ,funny,general,slight,not_motivational,positive\\nharvey_meme-mistake-host-miss-Steve-Harvey-universe.jpg,https://wanna-joke.com/wp-content/uploads/2015/12/meme-mistake-host-miss-Steve-Harvey-universe.jpg,Minor Mistake Marvin has grown up ,Minor Mistake Marvin has grown up ,funny,twisted_meaning,slight,motivational,positive\\nobama_17822826_1576549019282965_2075856700935971404_n.jpg,https://www.panmedia.com.jm/files/images/content/22826_1576549019282965_2075856700935971404_n.jpg,ANYHOW PORTIA KISS YOU AND HUG YOU IS WAR WHEN YOU COME HOME ,ANYHOW PORTIA KISS YOU AND HUG YOU IS WAR WHEN YOU COME HOME ,very_funny,not_sarcastic,not_offensive,not_motivational,neutral\\nfriends_meanwhile_o_2383675.jpg,https://img.memecdn.com/meanwhile_o_2383675.jpg,MEANWHILE AT FOSTERS HOME FOR IMAGINARY FRIENDS 000 memecenter.com Memetenter ,MEANWHILE AT FOSTERS HOME FOR IMAGINARY FRIENDS 000 memecenter.com Memetenter ,very_funny,general,slight,motivational,positive\\ntech_you-have-tech-support-meme.jpg,https://sayingimages.com/wp-content/uploads/you-have-tech-support-meme.jpg,YOU HAVE 3 PHDS? THATS GREAT TRY CLICKINGFORGOT PASSWORD\" FOR ME. quickmeme.com' (found at least ' ')\n",
            "HTTP Error 522: Origin Connection Time-out\n",
            "HTTP Error 522: Origin Connection Time-out\n",
            "HTTP Error 404: Not Found\n",
            "HTTP Error 522: Origin Connection Time-out\n",
            "HTTP Error 403: Forbidden\n",
            "HTTP Error 404: Not Found\n",
            "HTTP Error 522: Origin Connection Time-out\n",
            "HTTP Error 522: Origin Connection Time-out\n",
            "HTTP Error 522: Origin Connection Time-out\n",
            "HTTP Error 522: Origin Connection Time-out\n",
            "HTTP Error 403: Forbidden\n",
            "HTTP Error 522: Origin Connection Time-out\n",
            "<urlopen error [Errno 110] Connection timed out>\n",
            "HTTP Error 403: Forbidden\n",
            "HTTP Error 404: File Not Found\n",
            "<urlopen error [Errno -3] Temporary failure in name resolution>\n",
            "HTTP Error 522: Origin Connection Time-out\n",
            "HTTP Error 404: Not Found\n",
            "HTTP Error 522: Origin Connection Time-out\n",
            "HTTP Error 404: Not Found\n",
            "<urlopen error [Errno -5] No address associated with hostname>\n",
            "URL can't contain control characters. \"/hmg-prod.s3.amazonaws.com/images/single-memes-1547478690.jpg?crop=1xw:1xh;center,being single is so deeply a part of my identity that I truly don't know wtf I'd do with a boyfriend. Do u have to walk it? How often does it need to be fed? I'm not ready ,being single is so deeply a part of my identity that I truly don't know wtf I'd do with a boyfriend. Do u have to walk it? How often does it need to be fed? I'm not ready ,funny,general,not_offensive,not_motivational,neutral\\nfeminist_feminist-memes-61-5c13c55ebbd78__700.jpg,https://2.bp.blogspot.com/-llH2l84dwRY/XBpM3ryl3TI/AAAAAAAAMd0/u1yaVxOalHU9Jj7xmw3M38-8M_2atWtRgCLcBGAs/s1600/feminist-memes-61-5c13c55ebbd78__700.jpg,Hey beautiful\" (found at least ' ')\n",
            "HTTP Error 522: Origin Connection Time-out\n",
            "HTTP Error 403: Forbidden\n",
            "HTTP Error 522: Origin Connection Time-out\n",
            "HTTP Error 522: Origin Connection Time-out\n",
            "<urlopen error [Errno -3] Temporary failure in name resolution>\n",
            "HTTP Error 522: Origin Connection Time-out\n",
            "HTTP Error 522: Origin Connection Time-out\n",
            "HTTP Error 403: Forbidden\n",
            "<urlopen error [Errno -3] Temporary failure in name resolution>\n",
            "HTTP Error 522: Origin Connection Time-out\n",
            "HTTP Error 403: Forbidden\n",
            "HTTP Error 403: Forbidden\n",
            "HTTP Error 522: Origin Connection Time-out\n",
            "URL can't contain control characters. '/complex/images/c_limit,THE WAY YOU PET ME SUCKS ,THE WAY YOU PET ME SUCKS ,funny,not_sarcastic,not_offensive,not_motivational,positive\\ncat_U_2325015689_orig.jpg,https://memesforlifee.weebly.com/uploads/5/4/7/4/54746823/5015689_orig.jpg,WILL YOU STILL LOVE ME TOMORROW? TOMORROW? I DON\\'T EVEN LIKE YOU TODAY ,WILL YOU STILL LOVE ME TOMORROW? TOMORROW? I DON\\'T EVEN LIKE YOU TODAY ,funny,general,slight,motivational,neutral\\ncat_U_2593khulgz2gen01.png,https://i.redd.it/3khulgz2gen01.png,I CAN HAS CHEEZBURGER? Cat Memes in 2008: HEE2EURGER.COM when you walking Cat Memes in 2018: ,I CAN HAS CHEEZBURGER? Cat Memes in 2008: HEE2EURGER.COM when you walking Cat Memes in 2018: ,very_funny,general,very_offensive,motivational,very_positive\\ncat_U_266kitten-with-toy-Funny-Cat-Memes.jpg,https://www.funnycatmemes.xyz/images/2017/03/kitten-with-toy-Funny-Cat-Memes.jpg,Igot a new toy! FunnyCat Memes.xyz I will play with it exactly one day. Then I want a new one. ,Igot a new toy! FunnyCat Memes.xyz I will play with it exactly one day. Then I want a new one. ,funny,not_sarcastic,not_offensive,not_motivational,negative\\ncat_U_26business-cat-on-time-use-photo-u1.jpg,https://imgix.ranker.com/user_node_img/50008/1000155017/original/business-cat-on-time-use-photo-u1?w=650&q=50&fm=pjpg&fit=crop&crop=faces,JOHNSON,JOHNSON I HEARD YOU SPENT ALL DAY LOOKING AT BIRDS OUTSIDE THE WINDOW GOOD WORK JOHNSON memegenerator.net ,not_funny,very_twisted,very_offensive,not_motivational,positive\\ncat_U_275cat-meme-72-1024x750.jpg,https://bestlifeonline.com/wp-content/uploads/2018/06/cat-meme-72-1024x750.jpg,I is so sorry you must always take bath,I is so sorry you must always take bath  weird cat... ,funny,general,very_offensive,not_motivational,positive\\ncat_U_382C_5kW8IXkAAQTQ7.jpg,https://pbs.twimg.com/media/C_5kW8IXkAAQTQ7.jpg,I\\'m an adult but more like an adult cat...Like someone should probably take care of me but I can also sorta make it on my own. ,I\\'m an adult but more like an adult cat...Like someone should probably take care of me but I can also sorta make it on my own. ,very_funny,general,very_offensive,motivational,neutral\\ncat_U_388h8899A11A.jpg,https://i.chzbgr.com/full/9024473600/h8899A11A/,....interesting new cat food ,....interesting new cat food ,not_funny,not_sarcastic,not_offensive,not_motivational,neutral\\ncat_U_40632-Mean-Cat-Meme.jpg,https://sweetytextmessages.com/wp-content/uploads/2018/01/32-Mean-Cat-Meme.jpg,YOU LOOK HAPPY STOP IT ,YOU LOOK HAPPY STOP IT ,very_funny,general,slight,motivational,positive\\ncat_U_421dog-and-cat-memes-37.jpg,http://freeaddon.com/wp-content/uploads/2018/08/dog-and-cat-memes-37.jpg,FOLLOW THAT MOUSE! ,FOLLOW THAT MOUSE! ,hilarious,general,slight,not_motivational,neutral\\ncat_U_426i-came-cat-memes.jpg,https://sayingimages.com/wp-content/uploads/i-came-cat-memes.jpg,I came.I saw. I complained. ,I came.I saw. I complained. ,funny,general,not_offensive,motivational,positive\\ncat_U_42Funny-Cat-Memes-7.jpg,https://www.groundzeroweb.com/wp-content/uploads/2017/05/Funny-Cat-Memes-7.jpg,YOU WANT A PIECE OF ME Why So Serious? ,YOU WANT A PIECE OF ME Why So Serious? ,very_funny,general,hateful_offensive,motivational,positive\\ncat_U_453cf7f6e430b88936b257ad7dabd5f2ee2--grumpy-cat-cat-cat.jpg,https://i.pinimg.com/236x/cf/7f/6e/cf7f6e430b88936b257ad7dabd5f2ee2--grumpy-cat-cat-cat.jpg,WHY AMI BETTER THAN GRUMPY CATP GRUMPY CAT HAS FEELINGS ,WHY AMI BETTER THAN GRUMPY CAT? GRUMPY CAT HAS FEELINGS ,hilarious,twisted_meaning,hateful_offensive,not_motivational,negative\\ncat_U_461c14a0d062fb6837b942ac4f986fb266f.jpg,https://i.pinimg.com/236x/c1/4a/0d/c14a0d062fb6837b942ac4f986fb266f.jpg,My cat was missing for several hours,My cat was missing for several hours  untill I got a call from my neighbor... ,funny,general,not_offensive,not_motivational,positive\\ncat_U_5cat-meme-76-1024x900.jpg,https://bestlifeonline.com/wp-content/uploads/2018/06/cat-meme-76-1024x900.jpg,My Keyboard: *Exists* My Cat: It\\'s Free Real Estate ,My Keyboard: *Exists* My Cat: It\\'s Free Real Estate ,funny,general,not_offensive,not_motivational,positive\\ncat_U_80persian-cat-room-meme-feature.jpg,https://static1.thethingsimages.com/wordpress/wp-content/uploads/2017/03/persian-cat-room-meme-feature.jpg,When she starts talkin bout we\" a lot' (found at least ' ')\n",
            "HTTP Error 403: Forbidden\n",
            "HTTP Error 403: Forbidden\n",
            "HTTP Error 404: Not Found\n",
            "HTTP Error 403: Forbidden\n",
            "HTTP Error 403: Forbidden\n",
            "HTTP Error 522: Origin Connection Time-out\n",
            "HTTP Error 403: Forbidden\n",
            "HTTP Error 522: Origin Connection Time-out\n",
            "HTTP Error 522: Origin Connection Time-out\n",
            "<urlopen error [Errno 110] Connection timed out>\n",
            "HTTP Error 522: Origin Connection Time-out\n",
            "HTTP Error 404: Not Found\n",
            "<urlopen error [Errno -5] No address associated with hostname>\n",
            "URL can't contain control characters. '/f/7914b69f-77ae-4c21-8f43-590f6d5d0f44/dcv5d34-5d2586b8-5960-47bc-8b8c-85f1d70083c0.jpg/v1/fill/w_445,TAKE THE LEFT TURN” YOU SAID \"FREE AND EASY\" YOU SAID' (found at least ' ')\n",
            "URL can't contain control characters. '/images7.memedroid.com/images/UPLOADED886/581ebc9bebae2.jpeg?lb=300,when you screenshot a convo and send it back to the same person ,when you screenshot a convo and send it back to the same person ,very_funny,twisted_meaning,slight,motivational,positive\\ngene_66Kw82qzt.jpg,https://i.imgur.com/Kw82qzt.jpg,OH. SO YOU THINK WILLY WONKA CAN BE CONDESCENDING? HAVE A JELLY BABY. WWW.DORKTOWER.COM ,OH. SO YOU THINK WILLY WONKA CAN BE CONDESCENDING? HAVE A JELLY BABY. WWW.DORKTOWER.COM ,funny,general,not_offensive,not_motivational,neutral\\ngene_89screen-shot-2016-08-29-at-3-46-34-pm.jpg,https://heavyeditorial.files.wordpress.com/2016/08/screen-shot-2016-08-29-at-3-46-34-pm.jpg?quality=65&strip=all&w=780,Put the candle back. ,Put the candle back. ,funny,twisted_meaning,slight,not_motivational,negative\\ngene_985a96af2b035755550798a6754b357b58--dog-tag-necklace-dog-tags.jpg,https://i.pinimg.com/236x/5a/96/af/5a96af2b035755550798a6754b357b58--dog-tag-necklace-dog-tags.jpg,YOU\\'RE 15 WITH A DOG TAG NECKLACE? TELL ME ALL ABOUT YOUR EXPERIENCE IN THE ARMED FORCES ,YOU\\'RE 15 WITH A DOG TAG NECKLACE? TELL ME ALL ABOUT YOUR EXPERIENCE IN THE ARMED FORCES ,very_funny,general,slight,not_motivational,positive\\ngf_1-min-3-267x300.jpg,https://www.funnymemess.com/wp-content/uploads/2018/07/1-min-3-267x300.jpg,YOU ARE THE MOST AMAZING PERSON I LOVE YOU. ,YOU ARE THE MOST AMAZING PERSON I LOVE YOU. ,funny,not_sarcastic,not_offensive,not_motivational,neutral\\ngf_1.jpg,https://cdn1-www.mandatory.com/assets/uploads/2017/06/1.jpg,THAT MOMENT WHEN YOU REALIZE YOU NEED A GF ,THAT MOMENT WHEN YOU REALIZE YOU NEED A GF ,not_funny,general,slight,not_motivational,positive\\ngf_13-my-girlfriend-treats-me-like-god-meme.jpg,http://www.pmslweb.com/the-blog/wp-content/uploads/2015/08/13-my-girlfriend-treats-me-like-god-meme.jpg,MY GIRLFRIEND TREATS ME LIKE A GOD SHEIGNORES ME UNTIL SHE NEEDS ME FOR SOMETHING The Internet Scavengers - PH3Lwab.com ,MY GIRLFRIEND TREATS ME LIKE A GOD SHEIGNORES ME UNTIL SHE NEEDS ME FOR SOMETHING The Internet Scavengers - PH3Lwab.com ,not_funny,twisted_meaning,not_offensive,not_motivational,neutral\\ngf_2.png,https://cdn1-www.mandatory.com/assets/uploads/2017/04/2.png,AIN\\'T NO SUNSHINE WHEN SHE\\'S GONE.. AIN\\'T NO BORDERLINE PSYCHOTIC EMOTIONAL OUTBURSTS EITHER memes com ,AIN\\'T NO SUNSHINE WHEN SHE\\'S GONE.. AIN\\'T NO BORDERLINE PSYCHOTIC EMOTIONAL OUTBURSTS EITHER memes com ,hilarious,not_sarcastic,very_offensive,motivational,neutral\\ngf_5-if-Jesus-had-a-girlfriend-funny-meme.png,http://www.pmslweb.com/the-blog/wp-content/uploads/2018/04/5-if-Jesus-had-a-girlfriend-funny-meme.png,*if Jesus had a girlfriend* I just find it funny how you \"died\" for 3 days... I must look stupid huh?\" POSLO.com The Internet Scavengers' (found at least ' ')\n",
            "HTTP Error 522: Origin Connection Time-out\n",
            "HTTP Error 522: Origin Connection Time-out\n",
            "HTTP Error 404: Not Found\n",
            "HTTP Error 404: Not Found\n",
            "HTTP Error 403: Forbidden\n",
            "HTTP Error 404: Not Found\n",
            "HTTP Error 502: Bad Gateway\n",
            "HTTP Error 404: Not Found\n",
            "<urlopen error [Errno 111] Connection refused>\n",
            "<urlopen error [Errno 111] Connection refused>\n",
            "<urlopen error [Errno 111] Connection refused>\n",
            "HTTP Error 522: Origin Connection Time-out\n",
            "<urlopen error [Errno 110] Connection timed out>\n",
            "HTTP Error 522: Origin Connection Time-out\n",
            "URL can't contain control characters. '/tachyon/2016/05/hitlermeme.jpg?resize=800,FACT: ADOLF HITLER WAS TIME MAGAZINE\\'S MAN OF THE YEAR\" IN 1938 MORAL OF THE STORY: MAINSTREAM MEDIA IS NOT ALWAYS RELIABLE' (found at least ' ')\n",
            "HTTP Error 404: Not Found\n",
            "<urlopen error [Errno 110] Connection timed out>\n",
            "HTTP Error 404: Not Found\n",
            "HTTP Error 404: File Not Found\n",
            "HTTP Error 404: File Not Found\n",
            "<urlopen error [Errno 110] Connection timed out>\n",
            "HTTP Error 404: Not Found\n",
            "HTTP Error 522: Origin Connection Time-out\n",
            "HTTP Error 404: Not Found\n",
            "HTTP Error 404: Not Found\n",
            "HTTP Error 522: Origin Connection Time-out\n",
            "HTTP Error 522: Origin Connection Time-out\n",
            "HTTP Error 404: Not Found on Accelerator\n",
            "HTTP Error 404: Not Found on Accelerator\n",
            "HTTP Error 404: Not Found on Accelerator\n",
            "<urlopen error [Errno -3] Temporary failure in name resolution>\n",
            "HTTP Error 522: Origin Connection Time-out\n",
            "<urlopen error [Errno -2] Name or service not known>\n",
            "HTTP Error 522: Origin Connection Time-out\n",
            "HTTP Error 522: Origin Connection Time-out\n",
            "HTTP Error 403: Forbidden\n",
            "HTTP Error 403: Forbidden\n",
            "HTTP Error 400: Bad Request\n",
            "HTTP Error 403: Forbidden\n",
            "HTTP Error 404: Not Found\n",
            "URL can't contain control characters. '/sagacity/image/upload/c_crop,MAKE IT SNOW. ,MAKE IT SNOW. ,very_funny,general,slight,motivational,positive\\npicard_wtf-is-this_o_200435.jpg,https://img.memecdn.com/wtf-is-this_o_200435.jpg,WTF IS THIS SHIT? My Reaction when I noticed that i can like my own posts on memecenter memecenter.com Memelenler ,WTF IS THIS SHIT? My Reaction when I noticed that i can like my own posts on memecenter memecenter.com MemeCenter ,funny,general,slight,not_motivational,very_negative\\nputin_5cbfa9d7a3bbe.jpeg,https://images7.memedroid.com/images/UPLOADED557/5cbfa9d7a3bbe.jpeg,OBAMA 1980 2000 2016,OBAMA 1980 2000  2010 2016 NEMKUTYA.COM PUTIN 1480 1920 1940 2016 ,very_funny,not_sarcastic,not_offensive,not_motivational,very_positive\\nputin_933bb428730e47998d34c0a90d8444a14cb7d44f849374032f357728819ebe1b.jpg,http://www.quickmeme.com/img/93/933bb428730e47998d34c0a90d8444a14cb7d44f849374032f357728819ebe1b.jpg,IN SOVIET RUSSIA PRESIDENT ASSASSINATE YOU ,IN SOVIET RUSSIA PRESIDENT ASSASSINATE YOU ,hilarious,general,slight,motivational,positive\\nputin_1885677d132086e6f6df3c997745529a.jpeg,https://www.memesmonkey.com/images/memesmonkey/18/1885677d132086e6f6df3c997745529a.jpeg,WOULD YOU LIKE SOME PUTIN? imgija.com ,WOULD YOU LIKE SOME PUTIN? imgija.com ,very_funny,not_sarcastic,slight,not_motivational,positive\\nputin_5678412d510842731664fc0517f86915a5dee5715f6e41f7081720e94d76debc.jpg,http://www.quickmeme.com/img/56/5678412d510842731664fc0517f86915a5dee5715f6e41f7081720e94d76debc.jpg,THESE ARE MY NOT GIVE A FUCK GLASSES ,THESE ARE MY NOT GIVE A FUCK GLASSES quickmeme.com ,not_funny,very_twisted,hateful_offensive,not_motivational,very_negative\\nputin_1511422636_694_20-vladimir-putin-memes-you-should-totally-see.jpg,https://i0.wp.com/lovebrainyquote.com/wp-content/uploads/2017/11/1511422636_694_20-vladimir-putin-memes-you-should-totally-see.jpg?resize=475%2C681&ssl=1,LET\\'S PARTY quickmeme.com ,LET\\'S PARTY quickmeme.com ,hilarious,general,slight,motivational,very_positive\\nputin_50961487532336.jpg,https://i2.wp.com/trumpmemes.net/wp-content/uploads/2017/02/50961487532336.jpg?fit=400%2C400,IT\\'S TIMEFOR OUR SOVIETREUNION Trump Memes.net ,IT\\'S TIME FOR OUR SOVIET REUNION ,very_funny,not_sarcastic,very_offensive,motivational,very_positive\\nputin_better-grabaham-because-there-might-not-be-any-turkey-left-9790613.png,https://pics.me.me/better-grabaham-because-there-might-not-be-any-turkey-left-9790613.png,BETTER GRAB A HAM BECAUSE THERE MIGHT NOT BE ANY TURKEY LEFT BY CHRISTMAS bar Haha.. Well True.. russia putin funny trump usa ,BETTER GRAB A HAM BECAUSE THERE MIGHT NOT BE ANY TURKEY LEFT BY CHRISTMAS bar Haha.. Well True.. russia putin funny trump usa ,not_funny,general,slight,motivational,positive\\nputin_CCeUyCiUwAAZa2e.png,http://pbs.twimg.com/media/CCeUyCiUwAAZa2e.png,<html><head><meta content=text/html; charset=UTF-8\" http-equiv=\"content-type\"><style type=\"text/css\">ol{margin:0;padding:0}table td' (found at least ' ')\n",
            "HTTP Error 403: Forbidden\n",
            "HTTP Error 400: Bad Request\n",
            "HTTP Error 522: Origin Connection Time-out\n",
            "HTTP Error 403: Forbidden\n",
            "<urlopen error [Errno 110] Connection timed out>\n",
            "<urlopen error [Errno 110] Connection timed out>\n",
            "HTTP Error 403: Forbidden\n",
            "HTTP Error 401: Unauthorized\n",
            "HTTP Error 403: Forbidden\n",
            "<urlopen error [SSL: CERTIFICATE_VERIFY_FAILED] certificate verify failed (_ssl.c:852)>\n",
            "HTTP Error 404: Not Found\n",
            "HTTP Error 404: Not Found\n",
            "HTTP Error 403: Forbidden\n",
            "HTTP Error 522: Origin Connection Time-out\n",
            "URL can't contain control characters. '/albums/ab282/Jaded_Conformity/Memes/Spiderman%20Memes/60s-spiderman-meme-collection-1mutcom-1d.png?width=200&height=200&crop=1:1,STAND BACK proudly hosted on photobucket I\\'M GONNA TRY SCIENCE ,STAND BACK proudly hosted on photobucket I\\'M GONNA TRY SCIENCE ,very_funny,general,not_offensive,not_motivational,neutral\\nspiderman_72b55e882865a4a370a728012905f845.jpg,https://media0dk-a.akamaihd.net/23/26/72b55e882865a4a370a728012905f845.jpg,Rare image of united airlines staff training to re-accommodate a passenger Facebook.com/The NationOfDitkovich ,Rare image of united airlines staff training to re-accommodate a passenger Facebook.com/The NationOfDitkovich ,very_funny,general,not_offensive,not_motivational,positive\\nspiderman_4437109.jpg,https://www.memecreator.org/static/images/memes/4437109.jpg,SO,SO WHO IS GOING TO SPIDERMAN BLOW-UP SPIDERMAN? ,funny,general,slight,motivational,very_positive\\nspiderman_84341427.jpg,https://cdn.ebaumsworld.com/mediaFiles/picture/2378487/84341427.jpg,I\\'M NOT GONNA LIE KID THERE WAS NEVER ANY CANDY ,I\\'M NOT GONNA LIE KID THERE WAS NEVER ANY CANDY ,funny,very_twisted,slight,motivational,very_positive\\nspiderman_A-Smooth-Criminal.jpg,http://www.funnybeing.com/wp-content/uploads/2016/08/A-Smooth-Criminal.jpg,You\\'ve been hit by You\\'ve been struck by A smooth criminal eingicom ,You\\'ve been hit by You\\'ve been struck by A smooth criminal Funny being.com ,very_funny,general,very_offensive,motivational,positive\\nspiderman_b1d891ddea09afd98bed21c34f752034.jpg,https://media0dk-a.akamaihd.net/54/23/b1d891ddea09afd98bed21c34f752034.jpg,I prefer the real aunt may. I said the real aunt may. Perfection. ,I prefer the real aunt may. I said the real aunt may. Perfection. ,not_funny,general,slight,motivational,neutral\\nspiderman_B18-II6CQAAdi-x.jpg,https://pbs.twimg.com/media/B18-II6CQAAdi-x.jpg,JUST ADD WATER! quickmeme.com ,JUST ADD WATER! quickmeme.com ,hilarious,not_sarcastic,not_offensive,motivational,very_positive\\nspiderman_deadpool-spiderman-memes-hilarious-AT.jpg,https://www.animatedtimes.com/wp-content/uploads/2018/07/deadpool-spiderman-memes-hilarious-AT.jpg,HERE\\'S HOW DEADPOOL MADE HIS DREAM COME TRUE ,HERE\\'S HOW DEADPOOL MADE HIS DREAM COME TRUE AAAARGH!!! ,very_funny,twisted_meaning,very_offensive,motivational,neutral\\nspiderman_ft-1.jpg,http://geeksoncoffee.com/wp-content/uploads/2018/06/ft-1.jpg,<html><head><meta content=text/html; charset=UTF-8\" http-equiv=\"content-type\"><style type=\"text/css\">ol{margin:0;padding:0}table td' (found at least ' ')\n",
            "HTTP Error 404: Not Found\n",
            "HTTP Error 401: Unauthorized\n",
            "HTTP Error 522: Origin Connection Time-out\n",
            "<urlopen error [Errno 110] Connection timed out>\n"
          ],
          "name": "stdout"
        }
      ]
    },
    {
      "cell_type": "code",
      "metadata": {
        "id": "rEWZpOauGbFp",
        "colab_type": "code",
        "colab": {}
      },
      "source": [
        "negetives_dataframe = pd.DataFrame(negative_memes)\n",
        "positive_dataframe = pd.DataFrame(positive_memes)\n",
        "neutral_dataframe = pd.DataFrame(neutral_memes)"
      ],
      "execution_count": 0,
      "outputs": []
    },
    {
      "cell_type": "code",
      "metadata": {
        "id": "iaPHBU1eHG0P",
        "colab_type": "code",
        "colab": {}
      },
      "source": [
        "negetives_dataframe.to_csv('negatives_1.csv')\n",
        "positive_dataframe.to_csv('positives_1.csv')\n",
        "neutral_dataframe.to_csv('neutral_1.csv')"
      ],
      "execution_count": 0,
      "outputs": []
    },
    {
      "cell_type": "code",
      "metadata": {
        "id": "w9xNTMbxd9mE",
        "colab_type": "code",
        "outputId": "77c36651-e25d-4a9b-86f4-662bee0f5536",
        "colab": {
          "base_uri": "https://localhost:8080/",
          "height": 246
        }
      },
      "source": [
        "%cd 'train'\n",
        "%cd 'positive'\n",
        "print('number of positive memes:')\n",
        "!ls -1 | wc -l\n",
        "\n",
        "%cd '..'\n",
        "%cd 'negative'\n",
        "print('number of negative memes:')\n",
        "!ls -1 | wc -l\n",
        "\n",
        "%cd '..'\n",
        "%cd 'neutral'\n",
        "print('number of neutral memes:')\n",
        "!ls -1 | wc -l\n",
        "\n"
      ],
      "execution_count": 0,
      "outputs": [
        {
          "output_type": "stream",
          "text": [
            "[Errno 2] No such file or directory: 'train'\n",
            "/content/gdrive/My Drive/memotion_analysis/dataset/train\n",
            "/content/gdrive/My Drive/memotion_analysis/dataset/train/positive\n",
            "number of positive memes:\n",
            "3544\n",
            "/content/gdrive/My Drive/memotion_analysis/dataset/train\n",
            "/content/gdrive/My Drive/memotion_analysis/dataset/train/negative\n",
            "number of negative memes:\n",
            "400\n",
            "/content/gdrive/My Drive/memotion_analysis/dataset/train\n",
            "/content/gdrive/My Drive/memotion_analysis/dataset/train/neutral\n",
            "number of neutral memes:\n",
            "2027\n"
          ],
          "name": "stdout"
        }
      ]
    },
    {
      "cell_type": "markdown",
      "metadata": {
        "id": "9oQbutJP3ffS",
        "colab_type": "text"
      },
      "source": [
        "614 images could not be downloaded. Totally 5971 positive, negative and neutral memes are downloaded and saved into seperate csv files."
      ]
    },
    {
      "cell_type": "markdown",
      "metadata": {
        "id": "p7_2p9JPlnMt",
        "colab_type": "text"
      },
      "source": [
        "**Train and validation datasets**\n",
        "We now create the train and validation datasets required for learning."
      ]
    },
    {
      "cell_type": "code",
      "metadata": {
        "id": "Hf2lMgzzmEJ0",
        "colab_type": "code",
        "outputId": "3b970dbb-7d19-4b7f-be46-4f83862e4956",
        "colab": {
          "base_uri": "https://localhost:8080/",
          "height": 589
        }
      },
      "source": [
        "negatives_dataframe = pd.read_csv('/content/gdrive/My Drive/memotion_analysis/dataset/negatives_1.csv')\n",
        "positive_dataframe = pd.read_csv('/content/gdrive/My Drive/memotion_analysis/dataset/positives_1.csv')\n",
        "neutral_dataframe = pd.read_csv('/content/gdrive/My Drive/memotion_analysis/dataset/neutral_1.csv')\n",
        "\n",
        "negatives_dataframe['Overall_Sentiment'] = 0\n",
        "neutral_dataframe['Overall_Sentiment'] = 1\n",
        "positive_dataframe['Overall_Sentiment'] = 2\n",
        "\n",
        "memes_dataframe = pd.concat([negatives_dataframe, neutral_dataframe, positive_dataframe], axis=0, ignore_index=True)\n",
        "memes_dataframe = memes_dataframe.sample(frac=1).reset_index(drop=True)\n",
        "memes_dataframe = memes_dataframe.loc[:, ~memes_dataframe.columns.str.contains('^Unnamed')]\n",
        "memes_dataframe"
      ],
      "execution_count": 0,
      "outputs": [
        {
          "output_type": "execute_result",
          "data": {
            "text/html": [
              "<div>\n",
              "<style scoped>\n",
              "    .dataframe tbody tr th:only-of-type {\n",
              "        vertical-align: middle;\n",
              "    }\n",
              "\n",
              "    .dataframe tbody tr th {\n",
              "        vertical-align: top;\n",
              "    }\n",
              "\n",
              "    .dataframe thead th {\n",
              "        text-align: right;\n",
              "    }\n",
              "</style>\n",
              "<table border=\"1\" class=\"dataframe\">\n",
              "  <thead>\n",
              "    <tr style=\"text-align: right;\">\n",
              "      <th></th>\n",
              "      <th>text</th>\n",
              "      <th>filepath</th>\n",
              "      <th>humour</th>\n",
              "      <th>sarcasm</th>\n",
              "      <th>offensive</th>\n",
              "      <th>motivational</th>\n",
              "      <th>Overall_Sentiment</th>\n",
              "    </tr>\n",
              "  </thead>\n",
              "  <tbody>\n",
              "    <tr>\n",
              "      <th>0</th>\n",
              "      <td>never let bullshit stress  success club</td>\n",
              "      <td>/content/gdrive/My Drive/memotion_analysis/dat...</td>\n",
              "      <td>0.666667</td>\n",
              "      <td>0.000000</td>\n",
              "      <td>0.333333</td>\n",
              "      <td>0.0</td>\n",
              "      <td>2</td>\n",
              "    </tr>\n",
              "    <tr>\n",
              "      <th>1</th>\n",
              "      <td>moment find perfect avocado supermarket</td>\n",
              "      <td>/content/gdrive/My Drive/memotion_analysis/dat...</td>\n",
              "      <td>0.000000</td>\n",
              "      <td>0.000000</td>\n",
              "      <td>0.666667</td>\n",
              "      <td>1.0</td>\n",
              "      <td>2</td>\n",
              "    </tr>\n",
              "    <tr>\n",
              "      <th>2</th>\n",
              "      <td>fans get clear view cheryl bump</td>\n",
              "      <td>/content/gdrive/My Drive/memotion_analysis/dat...</td>\n",
              "      <td>0.666667</td>\n",
              "      <td>0.333333</td>\n",
              "      <td>0.666667</td>\n",
              "      <td>0.0</td>\n",
              "      <td>1</td>\n",
              "    </tr>\n",
              "    <tr>\n",
              "      <th>3</th>\n",
              "      <td>u ask allow fix fuckup  ask  offer  even think...</td>\n",
              "      <td>/content/gdrive/My Drive/memotion_analysis/dat...</td>\n",
              "      <td>0.666667</td>\n",
              "      <td>0.166667</td>\n",
              "      <td>0.000000</td>\n",
              "      <td>0.0</td>\n",
              "      <td>2</td>\n",
              "    </tr>\n",
              "    <tr>\n",
              "      <th>4</th>\n",
              "      <td>life episode friends ross drinks margaritas  ...</td>\n",
              "      <td>/content/gdrive/My Drive/memotion_analysis/dat...</td>\n",
              "      <td>1.000000</td>\n",
              "      <td>0.333333</td>\n",
              "      <td>0.333333</td>\n",
              "      <td>1.0</td>\n",
              "      <td>1</td>\n",
              "    </tr>\n",
              "    <tr>\n",
              "      <th>...</th>\n",
              "      <td>...</td>\n",
              "      <td>...</td>\n",
              "      <td>...</td>\n",
              "      <td>...</td>\n",
              "      <td>...</td>\n",
              "      <td>...</td>\n",
              "      <td>...</td>\n",
              "    </tr>\n",
              "    <tr>\n",
              "      <th>5966</th>\n",
              "      <td>join houses</td>\n",
              "      <td>/content/gdrive/My Drive/memotion_analysis/dat...</td>\n",
              "      <td>0.000000</td>\n",
              "      <td>0.000000</td>\n",
              "      <td>0.333333</td>\n",
              "      <td>1.0</td>\n",
              "      <td>1</td>\n",
              "    </tr>\n",
              "    <tr>\n",
              "      <th>5967</th>\n",
              "      <td>finding nemo better shark tale millenials elde...</td>\n",
              "      <td>/content/gdrive/My Drive/memotion_analysis/dat...</td>\n",
              "      <td>1.000000</td>\n",
              "      <td>0.000000</td>\n",
              "      <td>0.666667</td>\n",
              "      <td>1.0</td>\n",
              "      <td>2</td>\n",
              "    </tr>\n",
              "    <tr>\n",
              "      <th>5968</th>\n",
              "      <td>trump putin like ashford simpson theyre solid ...</td>\n",
              "      <td>/content/gdrive/My Drive/memotion_analysis/dat...</td>\n",
              "      <td>0.000000</td>\n",
              "      <td>0.000000</td>\n",
              "      <td>0.666667</td>\n",
              "      <td>1.0</td>\n",
              "      <td>2</td>\n",
              "    </tr>\n",
              "    <tr>\n",
              "      <th>5969</th>\n",
              "      <td>top dont ever disinfect taxi</td>\n",
              "      <td>/content/gdrive/My Drive/memotion_analysis/dat...</td>\n",
              "      <td>1.000000</td>\n",
              "      <td>0.333333</td>\n",
              "      <td>0.666667</td>\n",
              "      <td>1.0</td>\n",
              "      <td>1</td>\n",
              "    </tr>\n",
              "    <tr>\n",
              "      <th>5970</th>\n",
              "      <td>avengers coulson dies thor 2 loki dies really...</td>\n",
              "      <td>/content/gdrive/My Drive/memotion_analysis/dat...</td>\n",
              "      <td>0.666667</td>\n",
              "      <td>0.000000</td>\n",
              "      <td>0.666667</td>\n",
              "      <td>0.0</td>\n",
              "      <td>2</td>\n",
              "    </tr>\n",
              "  </tbody>\n",
              "</table>\n",
              "<p>5971 rows × 7 columns</p>\n",
              "</div>"
            ],
            "text/plain": [
              "                                                   text  ... Overall_Sentiment\n",
              "0              never let bullshit stress  success club   ...                 2\n",
              "1              moment find perfect avocado supermarket   ...                 2\n",
              "2                      fans get clear view cheryl bump   ...                 1\n",
              "3     u ask allow fix fuckup  ask  offer  even think...  ...                 2\n",
              "4      life episode friends ross drinks margaritas  ...  ...                 1\n",
              "...                                                 ...  ...               ...\n",
              "5966                                       join houses   ...                 1\n",
              "5967  finding nemo better shark tale millenials elde...  ...                 2\n",
              "5968  trump putin like ashford simpson theyre solid ...  ...                 2\n",
              "5969                      top dont ever disinfect taxi   ...                 1\n",
              "5970   avengers coulson dies thor 2 loki dies really...  ...                 2\n",
              "\n",
              "[5971 rows x 7 columns]"
            ]
          },
          "metadata": {
            "tags": []
          },
          "execution_count": 9
        }
      ]
    },
    {
      "cell_type": "code",
      "metadata": {
        "id": "_oYxgb1XpR9O",
        "colab_type": "code",
        "colab": {}
      },
      "source": [
        "memes_dataframe.to_csv('/content/gdrive/My Drive/memotion_analysis/dataset/train.csv')"
      ],
      "execution_count": 0,
      "outputs": []
    },
    {
      "cell_type": "markdown",
      "metadata": {
        "id": "sqhK8Khgpxb3",
        "colab_type": "text"
      },
      "source": [
        "\n",
        "\n",
        "```\n",
        "# This is formatted as code\n",
        "```\n",
        "\n",
        "**Loading images**\n",
        "Now we save images and other of features required for network learning into lists."
      ]
    },
    {
      "cell_type": "code",
      "metadata": {
        "id": "E_00spq6qwz-",
        "colab_type": "code",
        "colab": {}
      },
      "source": [
        "train_dataframe = pd.read_csv('/content/gdrive/My Drive/memotion_analysis/dataset/train.csv')\n",
        "train_dataframe = train_dataframe.loc[:, ~train_dataframe.columns.str.contains('^Unnamed')]\n",
        "train_dataframe = train_dataframe.dropna(subset=['text'])"
      ],
      "execution_count": 0,
      "outputs": []
    },
    {
      "cell_type": "code",
      "metadata": {
        "id": "dhUV4HJAq4jN",
        "colab_type": "code",
        "colab": {}
      },
      "source": [
        "train_test_factor = 0.7\n",
        "mask = np.random.rand(len(train_dataframe)) < train_test_factor\n",
        "validation_dataframe = train_dataframe[~mask]\n",
        "train_dataframe = train_dataframe[mask]"
      ],
      "execution_count": 0,
      "outputs": []
    },
    {
      "cell_type": "code",
      "metadata": {
        "id": "032mMfe_r32E",
        "colab_type": "code",
        "outputId": "02eea3df-4a66-4cfd-e1be-9bdb27399cf1",
        "colab": {
          "base_uri": "https://localhost:8080/",
          "height": 589
        }
      },
      "source": [
        "train_dataframe"
      ],
      "execution_count": 0,
      "outputs": [
        {
          "output_type": "execute_result",
          "data": {
            "text/html": [
              "<div>\n",
              "<style scoped>\n",
              "    .dataframe tbody tr th:only-of-type {\n",
              "        vertical-align: middle;\n",
              "    }\n",
              "\n",
              "    .dataframe tbody tr th {\n",
              "        vertical-align: top;\n",
              "    }\n",
              "\n",
              "    .dataframe thead th {\n",
              "        text-align: right;\n",
              "    }\n",
              "</style>\n",
              "<table border=\"1\" class=\"dataframe\">\n",
              "  <thead>\n",
              "    <tr style=\"text-align: right;\">\n",
              "      <th></th>\n",
              "      <th>text</th>\n",
              "      <th>filepath</th>\n",
              "      <th>humour</th>\n",
              "      <th>sarcasm</th>\n",
              "      <th>offensive</th>\n",
              "      <th>motivational</th>\n",
              "      <th>Overall_Sentiment</th>\n",
              "    </tr>\n",
              "  </thead>\n",
              "  <tbody>\n",
              "    <tr>\n",
              "      <th>0</th>\n",
              "      <td>never let bullshit stress  success club</td>\n",
              "      <td>/content/gdrive/My Drive/memotion_analysis/dat...</td>\n",
              "      <td>0.666667</td>\n",
              "      <td>0.000000</td>\n",
              "      <td>0.333333</td>\n",
              "      <td>0.0</td>\n",
              "      <td>2</td>\n",
              "    </tr>\n",
              "    <tr>\n",
              "      <th>3</th>\n",
              "      <td>u ask allow fix fuckup  ask  offer  even think...</td>\n",
              "      <td>/content/gdrive/My Drive/memotion_analysis/dat...</td>\n",
              "      <td>0.666667</td>\n",
              "      <td>0.166667</td>\n",
              "      <td>0.000000</td>\n",
              "      <td>0.0</td>\n",
              "      <td>2</td>\n",
              "    </tr>\n",
              "    <tr>\n",
              "      <th>4</th>\n",
              "      <td>life episode friends ross drinks margaritas  ...</td>\n",
              "      <td>/content/gdrive/My Drive/memotion_analysis/dat...</td>\n",
              "      <td>1.000000</td>\n",
              "      <td>0.333333</td>\n",
              "      <td>0.333333</td>\n",
              "      <td>1.0</td>\n",
              "      <td>1</td>\n",
              "    </tr>\n",
              "    <tr>\n",
              "      <th>5</th>\n",
              "      <td>said could become solbecame snowball</td>\n",
              "      <td>/content/gdrive/My Drive/memotion_analysis/dat...</td>\n",
              "      <td>0.000000</td>\n",
              "      <td>0.333333</td>\n",
              "      <td>1.000000</td>\n",
              "      <td>1.0</td>\n",
              "      <td>2</td>\n",
              "    </tr>\n",
              "    <tr>\n",
              "      <th>6</th>\n",
              "      <td>life goals sexism patriarchy unsafe roads fuzi...</td>\n",
              "      <td>/content/gdrive/My Drive/memotion_analysis/dat...</td>\n",
              "      <td>1.000000</td>\n",
              "      <td>0.000000</td>\n",
              "      <td>0.666667</td>\n",
              "      <td>1.0</td>\n",
              "      <td>2</td>\n",
              "    </tr>\n",
              "    <tr>\n",
              "      <th>...</th>\n",
              "      <td>...</td>\n",
              "      <td>...</td>\n",
              "      <td>...</td>\n",
              "      <td>...</td>\n",
              "      <td>...</td>\n",
              "      <td>...</td>\n",
              "      <td>...</td>\n",
              "    </tr>\n",
              "    <tr>\n",
              "      <th>5965</th>\n",
              "      <td>look tuck chin  sink rnc  come back us 90s ji...</td>\n",
              "      <td>/content/gdrive/My Drive/memotion_analysis/dat...</td>\n",
              "      <td>1.000000</td>\n",
              "      <td>0.000000</td>\n",
              "      <td>0.666667</td>\n",
              "      <td>0.0</td>\n",
              "      <td>1</td>\n",
              "    </tr>\n",
              "    <tr>\n",
              "      <th>5966</th>\n",
              "      <td>join houses</td>\n",
              "      <td>/content/gdrive/My Drive/memotion_analysis/dat...</td>\n",
              "      <td>0.000000</td>\n",
              "      <td>0.000000</td>\n",
              "      <td>0.333333</td>\n",
              "      <td>1.0</td>\n",
              "      <td>1</td>\n",
              "    </tr>\n",
              "    <tr>\n",
              "      <th>5967</th>\n",
              "      <td>finding nemo better shark tale millenials elde...</td>\n",
              "      <td>/content/gdrive/My Drive/memotion_analysis/dat...</td>\n",
              "      <td>1.000000</td>\n",
              "      <td>0.000000</td>\n",
              "      <td>0.666667</td>\n",
              "      <td>1.0</td>\n",
              "      <td>2</td>\n",
              "    </tr>\n",
              "    <tr>\n",
              "      <th>5968</th>\n",
              "      <td>trump putin like ashford simpson theyre solid ...</td>\n",
              "      <td>/content/gdrive/My Drive/memotion_analysis/dat...</td>\n",
              "      <td>0.000000</td>\n",
              "      <td>0.000000</td>\n",
              "      <td>0.666667</td>\n",
              "      <td>1.0</td>\n",
              "      <td>2</td>\n",
              "    </tr>\n",
              "    <tr>\n",
              "      <th>5969</th>\n",
              "      <td>top dont ever disinfect taxi</td>\n",
              "      <td>/content/gdrive/My Drive/memotion_analysis/dat...</td>\n",
              "      <td>1.000000</td>\n",
              "      <td>0.333333</td>\n",
              "      <td>0.666667</td>\n",
              "      <td>1.0</td>\n",
              "      <td>1</td>\n",
              "    </tr>\n",
              "  </tbody>\n",
              "</table>\n",
              "<p>4146 rows × 7 columns</p>\n",
              "</div>"
            ],
            "text/plain": [
              "                                                   text  ... Overall_Sentiment\n",
              "0              never let bullshit stress  success club   ...                 2\n",
              "3     u ask allow fix fuckup  ask  offer  even think...  ...                 2\n",
              "4      life episode friends ross drinks margaritas  ...  ...                 1\n",
              "5                 said could become solbecame snowball   ...                 2\n",
              "6     life goals sexism patriarchy unsafe roads fuzi...  ...                 2\n",
              "...                                                 ...  ...               ...\n",
              "5965   look tuck chin  sink rnc  come back us 90s ji...  ...                 1\n",
              "5966                                       join houses   ...                 1\n",
              "5967  finding nemo better shark tale millenials elde...  ...                 2\n",
              "5968  trump putin like ashford simpson theyre solid ...  ...                 2\n",
              "5969                      top dont ever disinfect taxi   ...                 1\n",
              "\n",
              "[4146 rows x 7 columns]"
            ]
          },
          "metadata": {
            "tags": []
          },
          "execution_count": 5
        }
      ]
    },
    {
      "cell_type": "markdown",
      "metadata": {
        "id": "8giy1AVUZYAP",
        "colab_type": "text"
      },
      "source": [
        "**Loading images**\n",
        "Now we save images and other of features required for network learning into lists."
      ]
    },
    {
      "cell_type": "code",
      "metadata": {
        "id": "g02qFTx4x2J9",
        "colab_type": "code",
        "colab": {
          "base_uri": "https://localhost:8080/",
          "height": 81
        },
        "outputId": "89a507d4-b937-40ba-ba70-693aec640051"
      },
      "source": [
        "from keras.preprocessing import image as keras_image\n",
        "\n",
        "\n",
        "def preprocess_image(image):\n",
        "  img = image.copy()\n",
        "  img = keras_image.img_to_array(img)\n",
        "  img = img//255.0\n",
        "\n",
        "  return img"
      ],
      "execution_count": 6,
      "outputs": [
        {
          "output_type": "stream",
          "text": [
            "Using TensorFlow backend.\n"
          ],
          "name": "stderr"
        },
        {
          "output_type": "display_data",
          "data": {
            "text/html": [
              "<p style=\"color: red;\">\n",
              "The default version of TensorFlow in Colab will soon switch to TensorFlow 2.x.<br>\n",
              "We recommend you <a href=\"https://www.tensorflow.org/guide/migrate\" target=\"_blank\">upgrade</a> now \n",
              "or ensure your notebook will continue to use TensorFlow 1.x via the <code>%tensorflow_version 1.x</code> magic:\n",
              "<a href=\"https://colab.research.google.com/notebooks/tensorflow_version.ipynb\" target=\"_blank\">more info</a>.</p>\n"
            ],
            "text/plain": [
              "<IPython.core.display.HTML object>"
            ]
          },
          "metadata": {
            "tags": []
          }
        }
      ]
    },
    {
      "cell_type": "code",
      "metadata": {
        "id": "3p6aQjsm-whO",
        "colab_type": "code",
        "colab": {}
      },
      "source": [
        "train_list = train_dataframe.to_dict('records')\n",
        "validation_list = validation_dataframe.to_dict('records')"
      ],
      "execution_count": 0,
      "outputs": []
    },
    {
      "cell_type": "code",
      "metadata": {
        "id": "5QF33DFeu887",
        "colab_type": "code",
        "outputId": "23963990-f966-4aed-acdb-5b96011c4dcb",
        "colab": {
          "base_uri": "https://localhost:8080/",
          "height": 389
        }
      },
      "source": [
        "xs_images = {'train': [], 'validation': []}\n",
        "xs_categoricals = {'train': [], 'validation': []}\n",
        "xs_texts = {'train': [], 'validation': []}\n",
        "ys = {'train': [], 'validation': []}\n",
        "\n",
        "for image_data in train_list:\n",
        "  try:\n",
        "    image = keras_image.load_img(image_data['filepath'], target_size=(224, 224))\n",
        "  except Exception as e:\n",
        "    print(e)\n",
        "    continue\n",
        "\n",
        "  image = preprocess_image(image)\n",
        "  xs_images['train'].append(image)\n",
        "  xs_texts['train'].append(image_data['text'])\n",
        "  humour = image_data['humour']\n",
        "  sarcasm = image_data['sarcasm']\n",
        "  offensive = image_data['offensive']\n",
        "  motivational = image_data['motivational']\n",
        "  xs_categoricals['train'].append([humour, sarcasm, offensive, motivational])\n",
        "  ys['train'] += [image_data['Overall_Sentiment']]\n",
        "\n",
        "for image_data in validation_list:\n",
        "  try:\n",
        "    image = keras_image.load_img(image_data['filepath'], target_size=(224, 224))\n",
        "  except Exception as e:\n",
        "    print(e)\n",
        "    continue\n",
        "    \n",
        "  image = preprocess_image(image)\n",
        "  xs_images['validation'].append(image)\n",
        "  xs_texts['validation'].append(image_data['text'])\n",
        "  humour = image_data['humour']\n",
        "  sarcasm = image_data['sarcasm']\n",
        "  offensive = image_data['offensive']\n",
        "  motivational = image_data['motivational']\n",
        "  xs_categoricals['validation'].append([humour, sarcasm, offensive, motivational])\n",
        "  ys['validation'] += [image_data['Overall_Sentiment']]\n"
      ],
      "execution_count": 8,
      "outputs": [
        {
          "output_type": "stream",
          "text": [
            "cannot identify image file '/content/gdrive/My Drive/memotion_analysis/dataset/train/positive/sexist_meme4_640x700.jpg'\n",
            "cannot identify image file '/content/gdrive/My Drive/memotion_analysis/dataset/train/positive/gene_85YOUR-ARGUMENT-IS-INVALID-meme-collection-1mut.com-1.jpg'\n",
            "cannot identify image file '/content/gdrive/My Drive/memotion_analysis/dataset/train/positive/minion_Minion-gift-to-baby-ghost-halloween-meme-635x529.jpg'\n",
            "cannot identify image file '/content/gdrive/My Drive/memotion_analysis/dataset/train/neutral/minion_funny-minions-03000o-5.jpg'\n",
            "cannot identify image file '/content/gdrive/My Drive/memotion_analysis/dataset/train/positive/best_2017_meme-costumes-2017-great-funny-halloween-costumes-2017-memes-of-meme-costumes-2017.jpg'\n",
            "cannot identify image file '/content/gdrive/My Drive/memotion_analysis/dataset/train/positive/jim_got-to-love-jim-carrey_gp_2415921.jpg'\n",
            "cannot identify image file '/content/gdrive/My Drive/memotion_analysis/dataset/train/positive/gene_59157598.jpg'\n"
          ],
          "name": "stdout"
        },
        {
          "output_type": "stream",
          "text": [
            "/usr/local/lib/python3.6/dist-packages/PIL/TiffImagePlugin.py:802: UserWarning: Corrupt EXIF data.  Expecting to read 2 bytes but only got 0. \n",
            "  warnings.warn(str(msg))\n"
          ],
          "name": "stderr"
        },
        {
          "output_type": "stream",
          "text": [
            "cannot identify image file '/content/gdrive/My Drive/memotion_analysis/dataset/train/neutral/spiderman_60s-spiderman-meme-collection-1mut.com-8.png'\n",
            "cannot identify image file '/content/gdrive/My Drive/memotion_analysis/dataset/train/neutral/bean_whats-is-the-face-expression-of-mr-bean-hahahah-mr-bean-meme-on-me.png'\n"
          ],
          "name": "stdout"
        },
        {
          "output_type": "stream",
          "text": [
            "/usr/local/lib/python3.6/dist-packages/PIL/Image.py:989: UserWarning: Palette images with Transparency expressed in bytes should be converted to RGBA images\n",
            "  \"Palette images with Transparency expressed in bytes should be \"\n"
          ],
          "name": "stderr"
        },
        {
          "output_type": "stream",
          "text": [
            "cannot identify image file '/content/gdrive/My Drive/memotion_analysis/dataset/train/positive/jim_alright_y_then_by_girlgamer1397-d5kyqxy.jpg'\n",
            "cannot identify image file '/content/gdrive/My Drive/memotion_analysis/dataset/train/positive/bean_mr-bean-face-imgflip.jpg'\n",
            "cannot identify image file '/content/gdrive/My Drive/memotion_analysis/dataset/train/positive/best_2017_meme-costumes-2017-admirable-2017-pun-halloween-costume-ideas-saltypun-of-meme-costumes-2017.jpg'\n",
            "cannot identify image file '/content/gdrive/My Drive/memotion_analysis/dataset/train/negative/third_Skeptical-Third-World-Kid-meme-collection-1mut.com-16.jpg'\n",
            "cannot identify image file '/content/gdrive/My Drive/memotion_analysis/dataset/train/positive/harvey_14.jpg'\n",
            "cannot identify image file '/content/gdrive/My Drive/memotion_analysis/dataset/train/positive/chuck_Hilarious-Chuck-Norris-Memes-Ever-2-1024x671.png'\n",
            "cannot identify image file '/content/gdrive/My Drive/memotion_analysis/dataset/train/positive/minion_66c264447c732f73e6c50f92dcaad539-635x802.jpg'\n"
          ],
          "name": "stdout"
        }
      ]
    },
    {
      "cell_type": "code",
      "metadata": {
        "id": "nmz6eScZNLPq",
        "colab_type": "code",
        "colab": {}
      },
      "source": [
        "# Sanity check\n",
        "assert (len(ys['train']) == len(xs_images['train']) == len(xs_texts['train']) == len(xs_categoricals['train'])),\"There is some problem.\"\n",
        "assert (len(ys['validation']) == len(xs_images['validation']) == len(xs_texts['validation']) == len(xs_categoricals['validation'])),\"There is some problem.\""
      ],
      "execution_count": 0,
      "outputs": []
    },
    {
      "cell_type": "markdown",
      "metadata": {
        "id": "jEgHweQ3AdHr",
        "colab_type": "text"
      },
      "source": [
        "**Word2Vec Embedding** Now its time to embed texts using pre-trainded embedding model Word2Vec."
      ]
    },
    {
      "cell_type": "code",
      "metadata": {
        "id": "R9b_aQGJ2v-p",
        "colab_type": "code",
        "outputId": "c20ed5f8-f654-435e-8b56-22840b115c14",
        "colab": {
          "base_uri": "https://localhost:8080/",
          "height": 35
        }
      },
      "source": [
        "# Find texts maximum length\n",
        "MAX_SEQUENCE_LENGTH = 0\n",
        "for image_data in train_list:\n",
        "  MAX_SEQUENCE_LENGTH = max(MAX_SEQUENCE_LENGTH, len(image_data['text'].split(' ')))\n",
        "\n",
        "for image_data in validation_list:\n",
        "  MAX_SEQUENCE_LENGTH = max(MAX_SEQUENCE_LENGTH, len(image_data['text'].split(' ')))\n",
        "\n",
        "print(MAX_SEQUENCE_LENGTH)"
      ],
      "execution_count": 10,
      "outputs": [
        {
          "output_type": "stream",
          "text": [
            "104\n"
          ],
          "name": "stdout"
        }
      ]
    },
    {
      "cell_type": "code",
      "metadata": {
        "id": "wtKghXH-4f0T",
        "colab_type": "code",
        "outputId": "4ae68936-8089-4c34-a4d1-dc26f63e3f26",
        "colab": {
          "base_uri": "https://localhost:8080/",
          "height": 369
        }
      },
      "source": [
        "!wget http://nlp.stanford.edu/data/glove.6B.zip\n",
        "! unzip glove.6B.zip\n",
        "!cp -a 'glove.6B.100d.txt' 'gdrive/My Drive/memotion_analysis/word2vec/'"
      ],
      "execution_count": 0,
      "outputs": [
        {
          "output_type": "stream",
          "text": [
            "--2020-01-23 14:18:04--  http://nlp.stanford.edu/data/glove.6B.zip\n",
            "Resolving nlp.stanford.edu (nlp.stanford.edu)... 171.64.67.140\n",
            "Connecting to nlp.stanford.edu (nlp.stanford.edu)|171.64.67.140|:80... connected.\n",
            "HTTP request sent, awaiting response... 302 Found\n",
            "Location: https://nlp.stanford.edu/data/glove.6B.zip [following]\n",
            "--2020-01-23 14:18:04--  https://nlp.stanford.edu/data/glove.6B.zip\n",
            "Connecting to nlp.stanford.edu (nlp.stanford.edu)|171.64.67.140|:443... connected.\n",
            "HTTP request sent, awaiting response... 301 Moved Permanently\n",
            "Location: http://downloads.cs.stanford.edu/nlp/data/glove.6B.zip [following]\n",
            "--2020-01-23 14:18:05--  http://downloads.cs.stanford.edu/nlp/data/glove.6B.zip\n",
            "Resolving downloads.cs.stanford.edu (downloads.cs.stanford.edu)... 171.64.64.22\n",
            "Connecting to downloads.cs.stanford.edu (downloads.cs.stanford.edu)|171.64.64.22|:80... connected.\n",
            "HTTP request sent, awaiting response... 200 OK\n",
            "Length: 862182613 (822M) [application/zip]\n",
            "Saving to: ‘glove.6B.zip’\n",
            "\n",
            "glove.6B.zip        100%[===================>] 822.24M  2.03MB/s    in 6m 31s  \n",
            "\n",
            "2020-01-23 14:24:36 (2.10 MB/s) - ‘glove.6B.zip’ saved [862182613/862182613]\n",
            "\n"
          ],
          "name": "stdout"
        }
      ]
    },
    {
      "cell_type": "code",
      "metadata": {
        "id": "OucOvEyo76Dz",
        "colab_type": "code",
        "colab": {}
      },
      "source": [
        "all_texts = xs_texts['train'] + xs_texts['validation']"
      ],
      "execution_count": 0,
      "outputs": []
    },
    {
      "cell_type": "code",
      "metadata": {
        "id": "6BJLHNgi8zfs",
        "colab_type": "code",
        "outputId": "e22feaf3-7736-4a37-d0a0-beaece5a62f0",
        "colab": {
          "base_uri": "https://localhost:8080/",
          "height": 160
        }
      },
      "source": [
        "from keras.preprocessing.text import Tokenizer\n",
        "from keras.preprocessing.sequence import pad_sequences\n",
        "from keras.utils import to_categorical\n",
        "\n",
        "MAX_NB_WORDS = 10000\n",
        "\n",
        "tokenizer = Tokenizer(nb_words=MAX_NB_WORDS)\n",
        "tokenizer.fit_on_texts(all_texts)\n",
        "train_sequences = tokenizer.texts_to_sequences(xs_texts['train'])\n",
        "validation_sequences = tokenizer.texts_to_sequences(xs_texts['validation'])\n",
        "\n",
        "word_index = tokenizer.word_index\n",
        "print('Found %s unique tokens.' % len(word_index))\n",
        "\n",
        "xs_texts['train'] = pad_sequences(train_sequences, maxlen=MAX_SEQUENCE_LENGTH)\n",
        "ys['train'] = to_categorical(np.asarray(ys['train']))\n",
        "print('Shape of train data tensor:', xs_texts['train'].shape)\n",
        "print('Shape of train label tensor:', ys['train'].shape)\n",
        "\n",
        "xs_texts['validation'] = pad_sequences(validation_sequences, maxlen=MAX_SEQUENCE_LENGTH)\n",
        "ys['validation'] = to_categorical(np.asarray(ys['validation']))\n",
        "print('Shape of validation train data tensor:', xs_texts['validation'].shape)\n",
        "print('Shape of validation train label tensor:', ys['validation'].shape)"
      ],
      "execution_count": 12,
      "outputs": [
        {
          "output_type": "stream",
          "text": [
            "/usr/local/lib/python3.6/dist-packages/keras_preprocessing/text.py:178: UserWarning: The `nb_words` argument in `Tokenizer` has been renamed `num_words`.\n",
            "  warnings.warn('The `nb_words` argument in `Tokenizer` '\n"
          ],
          "name": "stderr"
        },
        {
          "output_type": "stream",
          "text": [
            "Found 10844 unique tokens.\n",
            "Shape of train data tensor: (4197, 104)\n",
            "Shape of train label tensor: (4197, 3)\n",
            "Shape of validation train data tensor: (1755, 104)\n",
            "Shape of validation train label tensor: (1755, 3)\n"
          ],
          "name": "stdout"
        }
      ]
    },
    {
      "cell_type": "code",
      "metadata": {
        "id": "C7gjK0Hr9V75",
        "colab_type": "code",
        "outputId": "ce865a59-ac13-4aeb-f57e-d565bf5a4746",
        "colab": {
          "base_uri": "https://localhost:8080/",
          "height": 35
        }
      },
      "source": [
        "import os\n",
        "\n",
        "\n",
        "embeddings_index = {}\n",
        "\n",
        "f = open('gdrive/My Drive/memotion_analysis/word2vec/glove.6B.100d.txt')\n",
        "for line in f:\n",
        "    values = line.split()\n",
        "    word = values[0]\n",
        "    coefs = np.asarray(values[1:], dtype='float32')\n",
        "    embeddings_index[word] = coefs\n",
        "f.close()\n",
        "\n",
        "print('Found %s word vectors.' % len(embeddings_index))\n"
      ],
      "execution_count": 13,
      "outputs": [
        {
          "output_type": "stream",
          "text": [
            "Found 400000 word vectors.\n"
          ],
          "name": "stdout"
        }
      ]
    },
    {
      "cell_type": "code",
      "metadata": {
        "id": "vZowgFlz9YCO",
        "colab_type": "code",
        "colab": {}
      },
      "source": [
        "EMBEDDING_DIM = 100\n",
        "\n",
        "embedding_matrix = np.zeros((len(word_index) + 1, EMBEDDING_DIM))\n",
        "for word, i in word_index.items():\n",
        "  embedding_vector = embeddings_index.get(word)\n",
        "  if embedding_vector is not None:\n",
        "      embedding_matrix[i] = embedding_vector\n"
      ],
      "execution_count": 0,
      "outputs": []
    },
    {
      "cell_type": "markdown",
      "metadata": {
        "id": "T7Kh7AXpBeM5",
        "colab_type": "text"
      },
      "source": [
        "\n",
        "**Building up the model** Now we create our baseline network using keras functional APIs and pre-trained CNN using VGG16 model."
      ]
    },
    {
      "cell_type": "code",
      "metadata": {
        "id": "xqmP9wzTBydr",
        "colab_type": "code",
        "colab": {}
      },
      "source": [
        "from keras.layers import Input, Embedding, LSTM, Dense, Conv2D, MaxPooling2D, Flatten, Dropout, concatenate\n",
        "from keras.models import Model\n",
        "from keras import regularizers\n",
        "\n",
        "\n",
        "embedding_layer = Embedding(len(word_index) + 1,\n",
        "                            EMBEDDING_DIM,\n",
        "                            weights=[embedding_matrix],\n",
        "                            input_length=MAX_SEQUENCE_LENGTH,\n",
        "                            trainable=False)\n",
        "\n",
        "sequence_input = Input(shape=(MAX_SEQUENCE_LENGTH,), dtype='int32')\n",
        "embedded_sequences = embedding_layer(sequence_input)\n",
        "lstm = LSTM(128, return_sequences=True)(embedded_sequences)\n",
        "lstm = LSTM(128, return_sequences=True)(lstm)\n",
        "lstm = LSTM(128)(lstm)\n",
        "\n",
        "categorical_input = Input(shape=(4,))\n",
        "x = Dense(128, activation='relu')(categorical_input)\n",
        "x = Dense(256, activation='relu')(x)\n",
        "x = Dense(128, activation='relu')(x)\n",
        "\n",
        "\n",
        "image_input = Input(shape=(224, 224, 3))\n",
        "y = Conv2D(32, (3, 3), activation='relu')(image_input)\n",
        "y = Conv2D(64, (3, 3), activation='relu')(y)\n",
        "y = MaxPooling2D((2, 2))(y)\n",
        "y = Conv2D(64, (3, 3), activation='relu')(y)\n",
        "y = Conv2D(64, (3, 3), activation='relu')(y)\n",
        "y = MaxPooling2D((2, 2))(y)\n",
        "y = Conv2D(128, (3, 3), activation='relu')(y)\n",
        "y = Conv2D(128, (3, 3), activation='relu')(y)\n",
        "y = MaxPooling2D((2, 2))(y)\n",
        "y = Flatten()(y)\n",
        "\n",
        "merged = concatenate([lstm, x, y])\n",
        "x = Dense(128, activation='relu')(merged)\n",
        "x = Dense(128, activation='relu')(x)\n",
        "x = Dense(256, activation='relu')(x)\n",
        "x = Dense(256, activation='relu')(x)\n",
        "x = Dense(64, activation='relu')(x)\n",
        "output = Dense(3, activation='softmax')(x)\n",
        "model = Model(inputs=[sequence_input, categorical_input, image_input], outputs=[output])\n"
      ],
      "execution_count": 0,
      "outputs": []
    },
    {
      "cell_type": "code",
      "metadata": {
        "id": "KMgjuGDYmiEZ",
        "colab_type": "code",
        "outputId": "d345f629-0dd4-4eab-9119-cf2764e1a098",
        "colab": {
          "base_uri": "https://localhost:8080/",
          "height": 1000
        }
      },
      "source": [
        "model.summary()"
      ],
      "execution_count": 16,
      "outputs": [
        {
          "output_type": "stream",
          "text": [
            "Model: \"model_1\"\n",
            "__________________________________________________________________________________________________\n",
            "Layer (type)                    Output Shape         Param #     Connected to                     \n",
            "==================================================================================================\n",
            "input_3 (InputLayer)            (None, 224, 224, 3)  0                                            \n",
            "__________________________________________________________________________________________________\n",
            "conv2d_1 (Conv2D)               (None, 222, 222, 32) 896         input_3[0][0]                    \n",
            "__________________________________________________________________________________________________\n",
            "conv2d_2 (Conv2D)               (None, 220, 220, 64) 18496       conv2d_1[0][0]                   \n",
            "__________________________________________________________________________________________________\n",
            "max_pooling2d_1 (MaxPooling2D)  (None, 110, 110, 64) 0           conv2d_2[0][0]                   \n",
            "__________________________________________________________________________________________________\n",
            "conv2d_3 (Conv2D)               (None, 108, 108, 64) 36928       max_pooling2d_1[0][0]            \n",
            "__________________________________________________________________________________________________\n",
            "conv2d_4 (Conv2D)               (None, 106, 106, 64) 36928       conv2d_3[0][0]                   \n",
            "__________________________________________________________________________________________________\n",
            "input_1 (InputLayer)            (None, 104)          0                                            \n",
            "__________________________________________________________________________________________________\n",
            "max_pooling2d_2 (MaxPooling2D)  (None, 53, 53, 64)   0           conv2d_4[0][0]                   \n",
            "__________________________________________________________________________________________________\n",
            "embedding_1 (Embedding)         (None, 104, 100)     1084500     input_1[0][0]                    \n",
            "__________________________________________________________________________________________________\n",
            "input_2 (InputLayer)            (None, 4)            0                                            \n",
            "__________________________________________________________________________________________________\n",
            "conv2d_5 (Conv2D)               (None, 51, 51, 128)  73856       max_pooling2d_2[0][0]            \n",
            "__________________________________________________________________________________________________\n",
            "lstm_1 (LSTM)                   (None, 104, 128)     117248      embedding_1[0][0]                \n",
            "__________________________________________________________________________________________________\n",
            "dense_1 (Dense)                 (None, 128)          640         input_2[0][0]                    \n",
            "__________________________________________________________________________________________________\n",
            "conv2d_6 (Conv2D)               (None, 49, 49, 128)  147584      conv2d_5[0][0]                   \n",
            "__________________________________________________________________________________________________\n",
            "lstm_2 (LSTM)                   (None, 104, 128)     131584      lstm_1[0][0]                     \n",
            "__________________________________________________________________________________________________\n",
            "dense_2 (Dense)                 (None, 256)          33024       dense_1[0][0]                    \n",
            "__________________________________________________________________________________________________\n",
            "max_pooling2d_3 (MaxPooling2D)  (None, 24, 24, 128)  0           conv2d_6[0][0]                   \n",
            "__________________________________________________________________________________________________\n",
            "lstm_3 (LSTM)                   (None, 128)          131584      lstm_2[0][0]                     \n",
            "__________________________________________________________________________________________________\n",
            "dense_3 (Dense)                 (None, 128)          32896       dense_2[0][0]                    \n",
            "__________________________________________________________________________________________________\n",
            "flatten_1 (Flatten)             (None, 73728)        0           max_pooling2d_3[0][0]            \n",
            "__________________________________________________________________________________________________\n",
            "concatenate_1 (Concatenate)     (None, 73984)        0           lstm_3[0][0]                     \n",
            "                                                                 dense_3[0][0]                    \n",
            "                                                                 flatten_1[0][0]                  \n",
            "__________________________________________________________________________________________________\n",
            "dense_4 (Dense)                 (None, 128)          9470080     concatenate_1[0][0]              \n",
            "__________________________________________________________________________________________________\n",
            "dense_5 (Dense)                 (None, 128)          16512       dense_4[0][0]                    \n",
            "__________________________________________________________________________________________________\n",
            "dense_6 (Dense)                 (None, 256)          33024       dense_5[0][0]                    \n",
            "__________________________________________________________________________________________________\n",
            "dense_7 (Dense)                 (None, 256)          65792       dense_6[0][0]                    \n",
            "__________________________________________________________________________________________________\n",
            "dense_8 (Dense)                 (None, 64)           16448       dense_7[0][0]                    \n",
            "__________________________________________________________________________________________________\n",
            "dense_9 (Dense)                 (None, 3)            195         dense_8[0][0]                    \n",
            "==================================================================================================\n",
            "Total params: 11,448,215\n",
            "Trainable params: 10,363,715\n",
            "Non-trainable params: 1,084,500\n",
            "__________________________________________________________________________________________________\n"
          ],
          "name": "stdout"
        }
      ]
    },
    {
      "cell_type": "code",
      "metadata": {
        "id": "y3coDLBWnGFK",
        "colab_type": "code",
        "outputId": "92df5a86-e79f-4a34-d4b3-05591b57cc30",
        "colab": {
          "base_uri": "https://localhost:8080/",
          "height": 1000
        }
      },
      "source": [
        "from keras.utils import plot_model\n",
        "plot_model(model, to_file='model.png')\n"
      ],
      "execution_count": 17,
      "outputs": [
        {
          "output_type": "execute_result",
          "data": {
            "image/png": "[encoded data removed]",
            "text/plain": [
              "<IPython.core.display.Image object>"
            ]
          },
          "metadata": {
            "tags": []
          },
          "execution_count": 17
        }
      ]
    },
    {
      "cell_type": "code",
      "metadata": {
        "id": "W0mzRT3wtU1a",
        "colab_type": "code",
        "colab": {}
      },
      "source": [
        "train_x = [np.asarray(xs_texts['train']), np.asarray(xs_categoricals['train']), np.asarray(xs_images['train'])]\n",
        "validation_data = ([np.asarray(xs_texts['validation']), np.asarray(xs_categoricals['validation']), np.asarray(xs_images['validation'])], np.asarray(ys['validation']))"
      ],
      "execution_count": 0,
      "outputs": []
    },
    {
      "cell_type": "code",
      "metadata": {
        "id": "Yk7NtSW7F_Se",
        "colab_type": "code",
        "colab": {
          "base_uri": "https://localhost:8080/",
          "height": 756
        },
        "outputId": "1ee7fbc8-89e8-4bd4-a269-f5a7377035f9"
      },
      "source": [
        "from keras import optimizers\n",
        "\n",
        "adam = optimizers.Adam(lr=0.0001)\n",
        "model.compile(optimizer=adam,\n",
        "              loss='categorical_crossentropy',\n",
        "              metrics=['accuracy'])\n",
        "model.fit(train_x, np.asarray(ys['train']), validation_data=validation_data, epochs=20, batch_size=64)"
      ],
      "execution_count": 32,
      "outputs": [
        {
          "output_type": "stream",
          "text": [
            "Train on 4197 samples, validate on 1755 samples\n",
            "Epoch 1/20\n",
            "4197/4197 [==============================] - 77s 18ms/step - loss: 0.9169 - acc: 0.5826 - val_loss: 0.8609 - val_acc: 0.6057\n",
            "Epoch 2/20\n",
            "4197/4197 [==============================] - 62s 15ms/step - loss: 0.8689 - acc: 0.5878 - val_loss: 0.8365 - val_acc: 0.6057\n",
            "Epoch 3/20\n",
            "4197/4197 [==============================] - 62s 15ms/step - loss: 0.8650 - acc: 0.5878 - val_loss: 0.8421 - val_acc: 0.6057\n",
            "Epoch 4/20\n",
            "4197/4197 [==============================] - 63s 15ms/step - loss: 0.8606 - acc: 0.5878 - val_loss: 0.8327 - val_acc: 0.6057\n",
            "Epoch 5/20\n",
            "4197/4197 [==============================] - 64s 15ms/step - loss: 0.8528 - acc: 0.5880 - val_loss: 0.8387 - val_acc: 0.6057\n",
            "Epoch 6/20\n",
            "4197/4197 [==============================] - 63s 15ms/step - loss: 0.8445 - acc: 0.5947 - val_loss: 0.8317 - val_acc: 0.6028\n",
            "Epoch 7/20\n",
            "4197/4197 [==============================] - 63s 15ms/step - loss: 0.8189 - acc: 0.6038 - val_loss: 0.8522 - val_acc: 0.6006\n",
            "Epoch 8/20\n",
            "4197/4197 [==============================] - 62s 15ms/step - loss: 0.7784 - acc: 0.6314 - val_loss: 0.8526 - val_acc: 0.5875\n",
            "Epoch 9/20\n",
            "4197/4197 [==============================] - 63s 15ms/step - loss: 0.7123 - acc: 0.6738 - val_loss: 0.9495 - val_acc: 0.5670\n",
            "Epoch 10/20\n",
            "4197/4197 [==============================] - 64s 15ms/step - loss: 0.6135 - acc: 0.7224 - val_loss: 1.0201 - val_acc: 0.4872\n",
            "Epoch 11/20\n",
            "4197/4197 [==============================] - 62s 15ms/step - loss: 0.4758 - acc: 0.7913 - val_loss: 1.2289 - val_acc: 0.5316\n",
            "Epoch 12/20\n",
            "4197/4197 [==============================] - 62s 15ms/step - loss: 0.3128 - acc: 0.8666 - val_loss: 1.6264 - val_acc: 0.5390\n",
            "Epoch 13/20\n",
            "4197/4197 [==============================] - 62s 15ms/step - loss: 0.1811 - acc: 0.9311 - val_loss: 2.0400 - val_acc: 0.4821\n",
            "Epoch 14/20\n",
            "4197/4197 [==============================] - 62s 15ms/step - loss: 0.1031 - acc: 0.9640 - val_loss: 2.6287 - val_acc: 0.4866\n",
            "Epoch 15/20\n",
            "4197/4197 [==============================] - 62s 15ms/step - loss: 0.0629 - acc: 0.9776 - val_loss: 3.1184 - val_acc: 0.5214\n",
            "Epoch 16/20\n",
            "4197/4197 [==============================] - 62s 15ms/step - loss: 0.0429 - acc: 0.9862 - val_loss: 3.4702 - val_acc: 0.5037\n",
            "Epoch 17/20\n",
            "4197/4197 [==============================] - 61s 15ms/step - loss: 0.0464 - acc: 0.9840 - val_loss: 3.6253 - val_acc: 0.4860\n",
            "Epoch 18/20\n",
            "4197/4197 [==============================] - 62s 15ms/step - loss: 0.0310 - acc: 0.9905 - val_loss: 3.6773 - val_acc: 0.4866\n",
            "Epoch 19/20\n",
            "4197/4197 [==============================] - 61s 15ms/step - loss: 0.0258 - acc: 0.9905 - val_loss: 3.8574 - val_acc: 0.5111\n",
            "Epoch 20/20\n",
            "4197/4197 [==============================] - 62s 15ms/step - loss: 0.0195 - acc: 0.9931 - val_loss: 3.7806 - val_acc: 0.5054\n"
          ],
          "name": "stdout"
        },
        {
          "output_type": "execute_result",
          "data": {
            "text/plain": [
              "<keras.callbacks.History at 0x7f1bf47edda0>"
            ]
          },
          "metadata": {
            "tags": []
          },
          "execution_count": 32
        }
      ]
    },
    {
      "cell_type": "markdown",
      "metadata": {
        "id": "4I6YZfNucn2K",
        "colab_type": "text"
      },
      "source": [
        "**Pre-trained Model**\n",
        "Now we use VGG16 model to extract features from our images."
      ]
    },
    {
      "cell_type": "code",
      "metadata": {
        "id": "osDbj7PJcTpx",
        "colab_type": "code",
        "colab": {
          "base_uri": "https://localhost:8080/",
          "height": 862
        },
        "outputId": "fa329b19-bc90-44be-afd7-d0e6a7ea702e"
      },
      "source": [
        "from keras.applications.vgg16 import VGG16\n",
        "from keras.preprocessing import image as keras_image\n",
        "from keras.applications.vgg16 import preprocess_input\n",
        "\n",
        "vgg16_model = VGG16(weights='imagenet', include_top=False)\n",
        "vgg16_model.summary()"
      ],
      "execution_count": 34,
      "outputs": [
        {
          "output_type": "stream",
          "text": [
            "Downloading data from https://github.com/fchollet/deep-learning-models/releases/download/v0.1/vgg16_weights_tf_dim_ordering_tf_kernels_notop.h5\n",
            "58892288/58889256 [==============================] - 1s 0us/step\n",
            "Model: \"vgg16\"\n",
            "_________________________________________________________________\n",
            "Layer (type)                 Output Shape              Param #   \n",
            "=================================================================\n",
            "input_22 (InputLayer)        (None, None, None, 3)     0         \n",
            "_________________________________________________________________\n",
            "block1_conv1 (Conv2D)        (None, None, None, 64)    1792      \n",
            "_________________________________________________________________\n",
            "block1_conv2 (Conv2D)        (None, None, None, 64)    36928     \n",
            "_________________________________________________________________\n",
            "block1_pool (MaxPooling2D)   (None, None, None, 64)    0         \n",
            "_________________________________________________________________\n",
            "block2_conv1 (Conv2D)        (None, None, None, 128)   73856     \n",
            "_________________________________________________________________\n",
            "block2_conv2 (Conv2D)        (None, None, None, 128)   147584    \n",
            "_________________________________________________________________\n",
            "block2_pool (MaxPooling2D)   (None, None, None, 128)   0         \n",
            "_________________________________________________________________\n",
            "block3_conv1 (Conv2D)        (None, None, None, 256)   295168    \n",
            "_________________________________________________________________\n",
            "block3_conv2 (Conv2D)        (None, None, None, 256)   590080    \n",
            "_________________________________________________________________\n",
            "block3_conv3 (Conv2D)        (None, None, None, 256)   590080    \n",
            "_________________________________________________________________\n",
            "block3_pool (MaxPooling2D)   (None, None, None, 256)   0         \n",
            "_________________________________________________________________\n",
            "block4_conv1 (Conv2D)        (None, None, None, 512)   1180160   \n",
            "_________________________________________________________________\n",
            "block4_conv2 (Conv2D)        (None, None, None, 512)   2359808   \n",
            "_________________________________________________________________\n",
            "block4_conv3 (Conv2D)        (None, None, None, 512)   2359808   \n",
            "_________________________________________________________________\n",
            "block4_pool (MaxPooling2D)   (None, None, None, 512)   0         \n",
            "_________________________________________________________________\n",
            "block5_conv1 (Conv2D)        (None, None, None, 512)   2359808   \n",
            "_________________________________________________________________\n",
            "block5_conv2 (Conv2D)        (None, None, None, 512)   2359808   \n",
            "_________________________________________________________________\n",
            "block5_conv3 (Conv2D)        (None, None, None, 512)   2359808   \n",
            "_________________________________________________________________\n",
            "block5_pool (MaxPooling2D)   (None, None, None, 512)   0         \n",
            "=================================================================\n",
            "Total params: 14,714,688\n",
            "Trainable params: 14,714,688\n",
            "Non-trainable params: 0\n",
            "_________________________________________________________________\n"
          ],
          "name": "stdout"
        }
      ]
    },
    {
      "cell_type": "code",
      "metadata": {
        "id": "VyWk_03FgC3E",
        "colab_type": "code",
        "colab": {
          "base_uri": "https://localhost:8080/",
          "height": 389
        },
        "outputId": "f1c326ac-7eca-497f-c3c8-0362dd360f87"
      },
      "source": [
        "xs_images = {'train': [], 'validation': []}\n",
        "\n",
        "for image_data in train_list:\n",
        "  try:\n",
        "    image = keras_image.load_img(image_data['filepath'], target_size=(224, 224))\n",
        "  except Exception as e:\n",
        "    print(e)\n",
        "    continue\n",
        "\n",
        "  image = preprocess_image(image)\n",
        "  image = np.expand_dims(image, axis=0)\n",
        "  features = vgg16_model.predict(image)\n",
        "  ff = features.flatten()\n",
        "  xs_images['train'].append(ff)\n",
        "\n",
        "for image_data in validation_list:\n",
        "  try:\n",
        "    image = keras_image.load_img(image_data['filepath'], target_size=(224, 224))\n",
        "  except Exception as e:\n",
        "    print(e)\n",
        "    continue\n",
        "    \n",
        "  image = preprocess_image(image)\n",
        "  image = np.expand_dims(image, axis=0)\n",
        "  features = vgg16_model.predict(image)\n",
        "  ff = features.flatten()\n",
        "  xs_images['validation'].append(ff)\n"
      ],
      "execution_count": 53,
      "outputs": [
        {
          "output_type": "stream",
          "text": [
            "cannot identify image file '/content/gdrive/My Drive/memotion_analysis/dataset/train/positive/sexist_meme4_640x700.jpg'\n",
            "cannot identify image file '/content/gdrive/My Drive/memotion_analysis/dataset/train/positive/gene_85YOUR-ARGUMENT-IS-INVALID-meme-collection-1mut.com-1.jpg'\n",
            "cannot identify image file '/content/gdrive/My Drive/memotion_analysis/dataset/train/positive/minion_Minion-gift-to-baby-ghost-halloween-meme-635x529.jpg'\n",
            "cannot identify image file '/content/gdrive/My Drive/memotion_analysis/dataset/train/neutral/minion_funny-minions-03000o-5.jpg'\n",
            "cannot identify image file '/content/gdrive/My Drive/memotion_analysis/dataset/train/positive/best_2017_meme-costumes-2017-great-funny-halloween-costumes-2017-memes-of-meme-costumes-2017.jpg'\n",
            "cannot identify image file '/content/gdrive/My Drive/memotion_analysis/dataset/train/positive/jim_got-to-love-jim-carrey_gp_2415921.jpg'\n",
            "cannot identify image file '/content/gdrive/My Drive/memotion_analysis/dataset/train/positive/gene_59157598.jpg'\n"
          ],
          "name": "stdout"
        },
        {
          "output_type": "stream",
          "text": [
            "/usr/local/lib/python3.6/dist-packages/PIL/TiffImagePlugin.py:802: UserWarning: Corrupt EXIF data.  Expecting to read 2 bytes but only got 0. \n",
            "  warnings.warn(str(msg))\n"
          ],
          "name": "stderr"
        },
        {
          "output_type": "stream",
          "text": [
            "cannot identify image file '/content/gdrive/My Drive/memotion_analysis/dataset/train/neutral/spiderman_60s-spiderman-meme-collection-1mut.com-8.png'\n",
            "cannot identify image file '/content/gdrive/My Drive/memotion_analysis/dataset/train/neutral/bean_whats-is-the-face-expression-of-mr-bean-hahahah-mr-bean-meme-on-me.png'\n"
          ],
          "name": "stdout"
        },
        {
          "output_type": "stream",
          "text": [
            "/usr/local/lib/python3.6/dist-packages/PIL/Image.py:989: UserWarning: Palette images with Transparency expressed in bytes should be converted to RGBA images\n",
            "  \"Palette images with Transparency expressed in bytes should be \"\n"
          ],
          "name": "stderr"
        },
        {
          "output_type": "stream",
          "text": [
            "cannot identify image file '/content/gdrive/My Drive/memotion_analysis/dataset/train/positive/jim_alright_y_then_by_girlgamer1397-d5kyqxy.jpg'\n",
            "cannot identify image file '/content/gdrive/My Drive/memotion_analysis/dataset/train/positive/bean_mr-bean-face-imgflip.jpg'\n",
            "cannot identify image file '/content/gdrive/My Drive/memotion_analysis/dataset/train/positive/best_2017_meme-costumes-2017-admirable-2017-pun-halloween-costume-ideas-saltypun-of-meme-costumes-2017.jpg'\n",
            "cannot identify image file '/content/gdrive/My Drive/memotion_analysis/dataset/train/negative/third_Skeptical-Third-World-Kid-meme-collection-1mut.com-16.jpg'\n",
            "cannot identify image file '/content/gdrive/My Drive/memotion_analysis/dataset/train/positive/harvey_14.jpg'\n",
            "cannot identify image file '/content/gdrive/My Drive/memotion_analysis/dataset/train/positive/chuck_Hilarious-Chuck-Norris-Memes-Ever-2-1024x671.png'\n",
            "cannot identify image file '/content/gdrive/My Drive/memotion_analysis/dataset/train/positive/minion_66c264447c732f73e6c50f92dcaad539-635x802.jpg'\n"
          ],
          "name": "stdout"
        }
      ]
    },
    {
      "cell_type": "code",
      "metadata": {
        "id": "_1yZqc1fNGdM",
        "colab_type": "code",
        "colab": {}
      },
      "source": [
        "IMAGE_SHAPE = xs_images['train'][0].shape"
      ],
      "execution_count": 0,
      "outputs": []
    },
    {
      "cell_type": "code",
      "metadata": {
        "colab_type": "code",
        "id": "cCq0z5xadOB0",
        "colab": {}
      },
      "source": [
        "# Sanity check\n",
        "assert (len(ys['train']) == len(xs_images['train']) == len(xs_texts['train']) == len(xs_categoricals['train'])),\"There is some problem.\"\n",
        "assert (len(ys['validation']) == len(xs_images['validation']) == len(xs_texts['validation']) == len(xs_categoricals['validation'])),\"There is some problem.\""
      ],
      "execution_count": 0,
      "outputs": []
    },
    {
      "cell_type": "code",
      "metadata": {
        "colab_type": "code",
        "id": "RT36VDLDdoW9",
        "colab": {}
      },
      "source": [
        "from keras.layers import Input, Embedding, LSTM, Dense, Conv2D, MaxPooling2D, Flatten, concatenate\n",
        "from keras.models import Model\n",
        "\n",
        "\n",
        "embedding_layer = Embedding(len(word_index) + 1,\n",
        "                            EMBEDDING_DIM,\n",
        "                            weights=[embedding_matrix],\n",
        "                            input_length=MAX_SEQUENCE_LENGTH,\n",
        "                            trainable=False)\n",
        "sequence_input = Input(shape=(MAX_SEQUENCE_LENGTH,), dtype='int32', name='Text_Input')\n",
        "embedded_sequences = embedding_layer(sequence_input)\n",
        "lstm = LSTM(128, return_sequences=True)(embedded_sequences)\n",
        "lstm = LSTM(128, return_sequences=True)(lstm)\n",
        "lstm = LSTM(128, name='LSTM_Output')(lstm)\n",
        "\n",
        "categorical_input = Input(shape=(4,), name='Categorical_Input')\n",
        "x = Dense(128, activation='relu')(categorical_input)\n",
        "x = Dense(256, activation='relu')(x)\n",
        "x = Dense(128, activation='relu', name='Categorical_Output')(x)\n",
        "\n",
        "image_input = Input(shape=IMAGE_SHAPE, name='VGG16_Image_Input')\n",
        "y = Dense(256, activation='relu')(image_input)\n",
        "y = Dense(128, activation='relu')(y)\n",
        "y = Dense(64, activation='relu')(y)\n",
        "y = Dense(64, activation='relu')(y)\n",
        "y = Dense(128, activation='relu', name='Image_Output')(y)\n",
        "\n",
        "merged = concatenate([lstm, x, y])\n",
        "x = Dense(128, activation='relu')(merged)\n",
        "x = Dense(256, activation='relu')(x)\n",
        "x = Dense(256, activation='relu')(x)\n",
        "x = Dense(64, activation='relu')(x)\n",
        "output = Dense(3, activation='softmax')(x)\n",
        "model = Model(inputs=[sequence_input, categorical_input, image_input], outputs=[output])"
      ],
      "execution_count": 0,
      "outputs": []
    },
    {
      "cell_type": "code",
      "metadata": {
        "id": "gAQfWOtJmMHH",
        "colab_type": "code",
        "outputId": "1a638396-4ed7-48c7-8a57-5dee1c569c52",
        "colab": {
          "base_uri": "https://localhost:8080/",
          "height": 932
        }
      },
      "source": [
        "model.summary()"
      ],
      "execution_count": 61,
      "outputs": [
        {
          "output_type": "stream",
          "text": [
            "Model: \"model_9\"\n",
            "__________________________________________________________________________________________________\n",
            "Layer (type)                    Output Shape         Param #     Connected to                     \n",
            "==================================================================================================\n",
            "VGG16_Image_Input (InputLayer)  (None, 25088)        0                                            \n",
            "__________________________________________________________________________________________________\n",
            "Text_Input (InputLayer)         (None, 104)          0                                            \n",
            "__________________________________________________________________________________________________\n",
            "dense_92 (Dense)                (None, 256)          6422784     VGG16_Image_Input[0][0]          \n",
            "__________________________________________________________________________________________________\n",
            "embedding_17 (Embedding)        (None, 104, 100)     1084500     Text_Input[0][0]                 \n",
            "__________________________________________________________________________________________________\n",
            "Categorical_Input (InputLayer)  (None, 4)            0                                            \n",
            "__________________________________________________________________________________________________\n",
            "dense_93 (Dense)                (None, 128)          32896       dense_92[0][0]                   \n",
            "__________________________________________________________________________________________________\n",
            "lstm_42 (LSTM)                  (None, 104, 128)     117248      embedding_17[0][0]               \n",
            "__________________________________________________________________________________________________\n",
            "dense_90 (Dense)                (None, 128)          640         Categorical_Input[0][0]          \n",
            "__________________________________________________________________________________________________\n",
            "dense_94 (Dense)                (None, 64)           8256        dense_93[0][0]                   \n",
            "__________________________________________________________________________________________________\n",
            "lstm_43 (LSTM)                  (None, 104, 128)     131584      lstm_42[0][0]                    \n",
            "__________________________________________________________________________________________________\n",
            "dense_91 (Dense)                (None, 256)          33024       dense_90[0][0]                   \n",
            "__________________________________________________________________________________________________\n",
            "dense_95 (Dense)                (None, 64)           4160        dense_94[0][0]                   \n",
            "__________________________________________________________________________________________________\n",
            "LSTM_Output (LSTM)              (None, 128)          131584      lstm_43[0][0]                    \n",
            "__________________________________________________________________________________________________\n",
            "Categorical_Output (Dense)      (None, 128)          32896       dense_91[0][0]                   \n",
            "__________________________________________________________________________________________________\n",
            "Image_Output (Dense)            (None, 128)          8320        dense_95[0][0]                   \n",
            "__________________________________________________________________________________________________\n",
            "concatenate_10 (Concatenate)    (None, 384)          0           LSTM_Output[0][0]                \n",
            "                                                                 Categorical_Output[0][0]         \n",
            "                                                                 Image_Output[0][0]               \n",
            "__________________________________________________________________________________________________\n",
            "dense_96 (Dense)                (None, 128)          49280       concatenate_10[0][0]             \n",
            "__________________________________________________________________________________________________\n",
            "dense_97 (Dense)                (None, 256)          33024       dense_96[0][0]                   \n",
            "__________________________________________________________________________________________________\n",
            "dense_98 (Dense)                (None, 256)          65792       dense_97[0][0]                   \n",
            "__________________________________________________________________________________________________\n",
            "dense_99 (Dense)                (None, 64)           16448       dense_98[0][0]                   \n",
            "__________________________________________________________________________________________________\n",
            "dense_100 (Dense)               (None, 3)            195         dense_99[0][0]                   \n",
            "==================================================================================================\n",
            "Total params: 8,172,631\n",
            "Trainable params: 7,088,131\n",
            "Non-trainable params: 1,084,500\n",
            "__________________________________________________________________________________________________\n"
          ],
          "name": "stdout"
        }
      ]
    },
    {
      "cell_type": "code",
      "metadata": {
        "id": "UNO8Z8tomQYE",
        "colab_type": "code",
        "outputId": "a60c5d6b-e985-47c8-a979-70f4e2302122",
        "colab": {
          "base_uri": "https://localhost:8080/",
          "height": 1000
        }
      },
      "source": [
        "from keras.utils import plot_model\n",
        "plot_model(model, to_file='model.png')\n"
      ],
      "execution_count": 62,
      "outputs": [
        {
          "output_type": "execute_result",
          "data": {
            "image/png": "[encoded data removed]",
            "text/plain": [
              "<IPython.core.display.Image object>"
            ]
          },
          "metadata": {
            "tags": []
          },
          "execution_count": 62
        }
      ]
    },
    {
      "cell_type": "code",
      "metadata": {
        "id": "smU-I-xQO4uI",
        "colab_type": "code",
        "colab": {}
      },
      "source": [
        "train_x[2] = np.asarray(xs_images['train'])\n",
        "validation_data[0][2] = np.asarray(xs_images['validation'])"
      ],
      "execution_count": 0,
      "outputs": []
    },
    {
      "cell_type": "markdown",
      "metadata": {
        "id": "aMhAkPDXUkko",
        "colab_type": "text"
      },
      "source": [
        "**Assigning weights** Number of negative class images are high enough compared to other labels. So we assign weights in order to balance data training.\n"
      ]
    },
    {
      "cell_type": "code",
      "metadata": {
        "id": "CYx7hm9YUO7g",
        "colab_type": "code",
        "colab": {}
      },
      "source": [
        "from sklearn.utils import class_weight\n",
        "\n",
        "\n",
        "y_train = np.asarray(ys['train'])\n",
        "class_weights = class_weight.compute_class_weight('balanced',\n",
        "                                                 np.unique(np.ravel(y_train,order='C')),\n",
        "                                                 np.ravel(y_train,order='C'))"
      ],
      "execution_count": 0,
      "outputs": []
    },
    {
      "cell_type": "code",
      "metadata": {
        "colab_type": "code",
        "outputId": "b9b77e1e-75c7-4af1-c161-0f8425cc6522",
        "id": "AYqoRK7jm-63",
        "colab": {
          "base_uri": "https://localhost:8080/",
          "height": 739
        }
      },
      "source": [
        "from keras import optimizers\n",
        "optimizer = optimizers.Adam(lr=0.001)\n",
        "\n",
        "model.compile(optimizer=optimizer,\n",
        "              loss='categorical_crossentropy',\n",
        "              metrics=['accuracy'])\n",
        "history = model.fit(train_x, np.asarray(ys['train']), validation_data=validation_data, epochs=20, batch_size=64, class_weight=class_weights)"
      ],
      "execution_count": 87,
      "outputs": [
        {
          "output_type": "stream",
          "text": [
            "Train on 4197 samples, validate on 1755 samples\n",
            "Epoch 1/20\n",
            "4197/4197 [==============================] - 53s 13ms/step - loss: 0.8896 - acc: 0.5792 - val_loss: 0.8289 - val_acc: 0.6057\n",
            "Epoch 2/20\n",
            "4197/4197 [==============================] - 40s 10ms/step - loss: 0.8596 - acc: 0.5876 - val_loss: 0.8276 - val_acc: 0.6057\n",
            "Epoch 3/20\n",
            "4197/4197 [==============================] - 40s 10ms/step - loss: 0.8428 - acc: 0.5928 - val_loss: 0.8415 - val_acc: 0.6057\n",
            "Epoch 4/20\n",
            "4197/4197 [==============================] - 41s 10ms/step - loss: 0.8184 - acc: 0.6000 - val_loss: 0.8630 - val_acc: 0.5852\n",
            "Epoch 5/20\n",
            "4197/4197 [==============================] - 41s 10ms/step - loss: 0.7822 - acc: 0.6238 - val_loss: 0.8656 - val_acc: 0.6177\n",
            "Epoch 6/20\n",
            "4197/4197 [==============================] - 42s 10ms/step - loss: 0.7208 - acc: 0.6521 - val_loss: 1.0762 - val_acc: 0.4558\n",
            "Epoch 7/20\n",
            "4197/4197 [==============================] - 41s 10ms/step - loss: 0.6496 - acc: 0.6981 - val_loss: 0.9892 - val_acc: 0.5054\n",
            "Epoch 8/20\n",
            "4197/4197 [==============================] - 40s 10ms/step - loss: 0.6410 - acc: 0.7098 - val_loss: 1.0863 - val_acc: 0.5499\n",
            "Epoch 9/20\n",
            "4197/4197 [==============================] - 42s 10ms/step - loss: 0.5027 - acc: 0.7758 - val_loss: 1.2118 - val_acc: 0.5470\n",
            "Epoch 10/20\n",
            "4197/4197 [==============================] - 41s 10ms/step - loss: 0.5565 - acc: 0.7517 - val_loss: 1.0941 - val_acc: 0.5510\n",
            "Epoch 11/20\n",
            "4197/4197 [==============================] - 41s 10ms/step - loss: 0.4185 - acc: 0.8180 - val_loss: 1.5161 - val_acc: 0.5858\n",
            "Epoch 12/20\n",
            "4197/4197 [==============================] - 43s 10ms/step - loss: 0.3345 - acc: 0.8566 - val_loss: 1.7977 - val_acc: 0.5265\n",
            "Epoch 13/20\n",
            "4197/4197 [==============================] - 41s 10ms/step - loss: 0.2871 - acc: 0.8856 - val_loss: 1.9588 - val_acc: 0.5886\n",
            "Epoch 14/20\n",
            "4197/4197 [==============================] - 41s 10ms/step - loss: 0.2948 - acc: 0.8732 - val_loss: 1.7339 - val_acc: 0.5123\n",
            "Epoch 15/20\n",
            "4197/4197 [==============================] - 42s 10ms/step - loss: 0.2134 - acc: 0.9109 - val_loss: 2.4639 - val_acc: 0.4701\n",
            "Epoch 16/20\n",
            "4197/4197 [==============================] - 42s 10ms/step - loss: 0.1703 - acc: 0.9321 - val_loss: 2.0858 - val_acc: 0.5368\n",
            "Epoch 17/20\n",
            "4197/4197 [==============================] - 41s 10ms/step - loss: 0.1352 - acc: 0.9492 - val_loss: 2.1327 - val_acc: 0.5373\n",
            "Epoch 18/20\n",
            "4197/4197 [==============================] - 41s 10ms/step - loss: 0.1800 - acc: 0.9321 - val_loss: 2.1337 - val_acc: 0.5134\n",
            "Epoch 19/20\n",
            "4197/4197 [==============================] - 42s 10ms/step - loss: 0.1053 - acc: 0.9609 - val_loss: 2.4672 - val_acc: 0.5396\n",
            "Epoch 20/20\n",
            "4197/4197 [==============================] - 42s 10ms/step - loss: 0.1391 - acc: 0.9476 - val_loss: 2.4296 - val_acc: 0.5219\n"
          ],
          "name": "stdout"
        }
      ]
    },
    {
      "cell_type": "code",
      "metadata": {
        "id": "FkBhcAQRIYs2",
        "colab_type": "code",
        "outputId": "b8c3a41d-86b2-4216-c14e-5cf6d704d23e",
        "colab": {
          "base_uri": "https://localhost:8080/",
          "height": 573
        }
      },
      "source": [
        "import matplotlib.pyplot as plt\n",
        "\n",
        "history_dict = history.history\n",
        "acc = history_dict['acc']\n",
        "val_acc = history_dict['val_acc']\n",
        "loss = history_dict['loss']\n",
        "val_loss = history_dict['val_loss']\n",
        "\n",
        "plt.plot(acc)\n",
        "plt.plot(val_acc)\n",
        "plt.title('model accuracy')\n",
        "plt.ylabel('accuracy')\n",
        "plt.xlabel('epoch')\n",
        "plt.legend(['train', 'val'], loc='upper left')\n",
        "plt.show()\n",
        "\n",
        "# summarize history for loss\n",
        "plt.plot(loss)\n",
        "plt.plot(val_loss)\n",
        "plt.title('model loss')\n",
        "plt.ylabel('loss')\n",
        "plt.xlabel('epoch')\n",
        "plt.legend(['train', 'val'], loc='upper left')\n",
        "plt.show()\n"
      ],
      "execution_count": 88,
      "outputs": [
        {
          "output_type": "display_data",
          "data": {
            "image/png": "[encoded data removed]",
            "text/plain": [
              "<Figure size 432x288 with 1 Axes>"
            ]
          },
          "metadata": {
            "tags": []
          }
        },
        {
          "output_type": "display_data",
          "data": {
            "image/png": "[encoded data removed]",
            "text/plain": [
              "<Figure size 432x288 with 1 Axes>"
            ]
          },
          "metadata": {
            "tags": []
          }
        }
      ]
    }
  ]
}